{
  "cells": [
    {
      "cell_type": "markdown",
      "metadata": {
        "id": "view-in-github",
        "colab_type": "text"
      },
      "source": [
        "<a href=\"https://colab.research.google.com/github/merriekay/S23-CS167-Notes/blob/main/Day05_Missing_Data_Normalization.ipynb\" target=\"_parent\"><img src=\"https://colab.research.google.com/assets/colab-badge.svg\" alt=\"Open In Colab\"/></a>"
      ]
    },
    {
      "cell_type": "markdown",
      "metadata": {
        "id": "4mnd8SFobZes"
      },
      "source": [
        "# CS167: Day05 \n",
        "## kNN code, Missing Data and Normalization\n",
        "\n",
        "#### CS167: Machine Learning, Spring 2023\n",
        "\n",
        "Thursday, February 8th, 2023\n",
        "\n",
        "📆 [Course Schedule](https://docs.google.com/spreadsheets/d/e/2PACX-1vSvFV5Mz0_YZE1d5r3gQ8IMktE4cBAsJIlP30cl2GhEpSO0J-YWV62QokSDz-OcOCsEmxMuKpY0kVlR/pubhtml?gid=0&single=true) | 🙋[PollEverywhere](https://pollev.com/meredithmoore011) | 📜 [Syllabus](https://analytics.drake.edu/~moore/cs167_s23_syllabus.html) | 📬 [CodePost Login](https://codepost.io/login)"
      ]
    },
    {
      "cell_type": "markdown",
      "metadata": {
        "id": "6UXD3fZLbZew"
      },
      "source": [
        "# Admin Stuff\n",
        "\n",
        "You should be working on:\n",
        "- [Notebook #2](https://classroom.github.com/a/d6K-Q-t8): due Tuesday, February 14th, 2023 by 11:59pm \n",
        "- Heads up that Quiz #1 will be released on Tuesday after class (~2:00pm)\n"
      ]
    },
    {
      "cell_type": "markdown",
      "metadata": {
        "id": "IUCJgJHJbZew"
      },
      "source": [
        "## 📝 A Note on Late Work\n",
        "\n",
        "You all are adults and I intend to treat you like adults. That entails communicating clearly if/when you are unable to meet a deadline:\n",
        "- Realistically, the point of deadlines are to keep you on track to finish all of the work for the course, as well as give me time to grade your work. \n",
        "- Please send me an email before the deadline if you don't think you'll be able to meet the deadline. \n",
        "- You don't need to include details, but you can if you'd like to\n",
        "- Include when you will be able to have the work done by\n",
        "\n",
        "As long as the steps above are taken, I will not take off any points for late work. "
      ]
    },
    {
      "cell_type": "markdown",
      "metadata": {
        "id": "_n6nSj_7bZex"
      },
      "source": [
        "## Before we get started, let's load in our datasets:"
      ]
    },
    {
      "cell_type": "code",
      "execution_count": null,
      "metadata": {
        "id": "-Ao8pobzbZex"
      },
      "outputs": [],
      "source": [
        "#run this cell if you're using Colab:\n",
        "from google.colab import drive\n",
        "drive.mount('/content/drive')"
      ]
    },
    {
      "cell_type": "code",
      "execution_count": null,
      "metadata": {
        "scrolled": true,
        "id": "brx6K2VSbZey",
        "outputId": "5831403f-c7b9-4033-c822-4311fd2aacd7"
      },
      "outputs": [
        {
          "data": {
            "text/html": [
              "<div>\n",
              "<style scoped>\n",
              "    .dataframe tbody tr th:only-of-type {\n",
              "        vertical-align: middle;\n",
              "    }\n",
              "\n",
              "    .dataframe tbody tr th {\n",
              "        vertical-align: top;\n",
              "    }\n",
              "\n",
              "    .dataframe thead th {\n",
              "        text-align: right;\n",
              "    }\n",
              "</style>\n",
              "<table border=\"1\" class=\"dataframe\">\n",
              "  <thead>\n",
              "    <tr style=\"text-align: right;\">\n",
              "      <th></th>\n",
              "      <th>survived</th>\n",
              "      <th>pclass</th>\n",
              "      <th>sex</th>\n",
              "      <th>age</th>\n",
              "      <th>sibsp</th>\n",
              "      <th>parch</th>\n",
              "      <th>fare</th>\n",
              "      <th>embarked</th>\n",
              "      <th>class</th>\n",
              "      <th>who</th>\n",
              "      <th>adult_male</th>\n",
              "      <th>deck</th>\n",
              "      <th>embark_town</th>\n",
              "      <th>alive</th>\n",
              "      <th>alone</th>\n",
              "    </tr>\n",
              "  </thead>\n",
              "  <tbody>\n",
              "    <tr>\n",
              "      <th>0</th>\n",
              "      <td>0</td>\n",
              "      <td>3</td>\n",
              "      <td>male</td>\n",
              "      <td>22.0</td>\n",
              "      <td>1</td>\n",
              "      <td>0</td>\n",
              "      <td>7.2500</td>\n",
              "      <td>S</td>\n",
              "      <td>Third</td>\n",
              "      <td>man</td>\n",
              "      <td>True</td>\n",
              "      <td>NaN</td>\n",
              "      <td>Southampton</td>\n",
              "      <td>no</td>\n",
              "      <td>False</td>\n",
              "    </tr>\n",
              "    <tr>\n",
              "      <th>1</th>\n",
              "      <td>1</td>\n",
              "      <td>1</td>\n",
              "      <td>female</td>\n",
              "      <td>38.0</td>\n",
              "      <td>1</td>\n",
              "      <td>0</td>\n",
              "      <td>71.2833</td>\n",
              "      <td>C</td>\n",
              "      <td>First</td>\n",
              "      <td>woman</td>\n",
              "      <td>False</td>\n",
              "      <td>C</td>\n",
              "      <td>Cherbourg</td>\n",
              "      <td>yes</td>\n",
              "      <td>False</td>\n",
              "    </tr>\n",
              "    <tr>\n",
              "      <th>2</th>\n",
              "      <td>1</td>\n",
              "      <td>3</td>\n",
              "      <td>female</td>\n",
              "      <td>26.0</td>\n",
              "      <td>0</td>\n",
              "      <td>0</td>\n",
              "      <td>7.9250</td>\n",
              "      <td>S</td>\n",
              "      <td>Third</td>\n",
              "      <td>woman</td>\n",
              "      <td>False</td>\n",
              "      <td>NaN</td>\n",
              "      <td>Southampton</td>\n",
              "      <td>yes</td>\n",
              "      <td>True</td>\n",
              "    </tr>\n",
              "    <tr>\n",
              "      <th>3</th>\n",
              "      <td>1</td>\n",
              "      <td>1</td>\n",
              "      <td>female</td>\n",
              "      <td>35.0</td>\n",
              "      <td>1</td>\n",
              "      <td>0</td>\n",
              "      <td>53.1000</td>\n",
              "      <td>S</td>\n",
              "      <td>First</td>\n",
              "      <td>woman</td>\n",
              "      <td>False</td>\n",
              "      <td>C</td>\n",
              "      <td>Southampton</td>\n",
              "      <td>yes</td>\n",
              "      <td>False</td>\n",
              "    </tr>\n",
              "    <tr>\n",
              "      <th>4</th>\n",
              "      <td>0</td>\n",
              "      <td>3</td>\n",
              "      <td>male</td>\n",
              "      <td>35.0</td>\n",
              "      <td>0</td>\n",
              "      <td>0</td>\n",
              "      <td>8.0500</td>\n",
              "      <td>S</td>\n",
              "      <td>Third</td>\n",
              "      <td>man</td>\n",
              "      <td>True</td>\n",
              "      <td>NaN</td>\n",
              "      <td>Southampton</td>\n",
              "      <td>no</td>\n",
              "      <td>True</td>\n",
              "    </tr>\n",
              "  </tbody>\n",
              "</table>\n",
              "</div>"
            ],
            "text/plain": [
              "   survived  pclass     sex   age  sibsp  parch     fare embarked  class  \\\n",
              "0         0       3    male  22.0      1      0   7.2500        S  Third   \n",
              "1         1       1  female  38.0      1      0  71.2833        C  First   \n",
              "2         1       3  female  26.0      0      0   7.9250        S  Third   \n",
              "3         1       1  female  35.0      1      0  53.1000        S  First   \n",
              "4         0       3    male  35.0      0      0   8.0500        S  Third   \n",
              "\n",
              "     who  adult_male deck  embark_town alive  alone  \n",
              "0    man        True  NaN  Southampton    no  False  \n",
              "1  woman       False    C    Cherbourg   yes  False  \n",
              "2  woman       False  NaN  Southampton   yes   True  \n",
              "3  woman       False    C  Southampton   yes  False  \n",
              "4    man        True  NaN  Southampton    no   True  "
            ]
          },
          "execution_count": 1,
          "metadata": {},
          "output_type": "execute_result"
        }
      ],
      "source": [
        "#import the data:\n",
        "#make sure the path on the line below corresponds to the path where you put your dataset.\n",
        "import pandas as pd\n",
        "path = 'datasets/titanic.csv' #'/content/drive/MyDrive/CS167/datasets/titanic.csv'\n",
        "titanic = pd.read_csv(path)\n",
        "titanic.head()"
      ]
    },
    {
      "cell_type": "markdown",
      "metadata": {
        "id": "8Lh6PzElbZez"
      },
      "source": [
        "## Quick Review:\n",
        "\n",
        "**k Nearest Neighbors**: predict the most commonly occuring class of the *k nearest neighbors*. "
      ]
    },
    {
      "cell_type": "markdown",
      "metadata": {
        "id": "60LlsB5FbZez"
      },
      "source": [
        "Three main steps:\n",
        "1. Calculate the distance between the new point (e.g. the Iris we would like to make a prediction on), and the existing training examples. "
      ]
    },
    {
      "cell_type": "markdown",
      "metadata": {
        "id": "y26QYDcjbZez"
      },
      "source": [
        "2. Sort the data by the newly calculated distance so that the nearest training examples are first"
      ]
    },
    {
      "cell_type": "markdown",
      "metadata": {
        "id": "H1DcfOpVbZe0"
      },
      "source": [
        "3. Take the top `k` neighbors and:\n",
        "    - if the problem is a *classification*, **take the mode of the target variable** to find the most commonly appearing class and return that as your prediction.\n",
        "    - if the problem is a *regression*, **take the average of the target variables for the k closest neighbors** and return that as your prediction"
      ]
    },
    {
      "cell_type": "markdown",
      "metadata": {
        "id": "aaRsVO-VbZe0"
      },
      "source": [
        "# Let's implement kNN in Python/Pandas: \n",
        "\n",
        "Let's build a 5-nearest-neighbor Iris classifier from scratch--using our Pandas/Python skills:\n",
        "\n",
        "To implement this 5NN, we need to do 3 things:\n",
        "1. Calculate the distances from each of the rows to the new instance\n",
        "2. Sort the data by these distances \n",
        "3. Select the k closest training examples and use them to predict the most commonly occuring class of the closest neighbors."
      ]
    },
    {
      "cell_type": "markdown",
      "metadata": {
        "id": "iJccNXKabZe0"
      },
      "source": [
        "## 1. Calculate the Distances:\n",
        "Let's start by adding a new column to our `iris` dataframe that is the distance from each existing row to the new instance with:\n",
        "- 5.1 petal length, 7.2 sepal length, 1.5 petal width, and 2.5 sepal width\n",
        "\n",
        "The syntax for adding a new column is `df['new col name'] = ___________`"
      ]
    },
    {
      "cell_type": "code",
      "execution_count": null,
      "metadata": {
        "id": "0f2TYBFCbZe1",
        "outputId": "49422fe8-5758-47fa-e399-f476bfe54047"
      },
      "outputs": [
        {
          "data": {
            "text/html": [
              "<div>\n",
              "<style scoped>\n",
              "    .dataframe tbody tr th:only-of-type {\n",
              "        vertical-align: middle;\n",
              "    }\n",
              "\n",
              "    .dataframe tbody tr th {\n",
              "        vertical-align: top;\n",
              "    }\n",
              "\n",
              "    .dataframe thead th {\n",
              "        text-align: right;\n",
              "    }\n",
              "</style>\n",
              "<table border=\"1\" class=\"dataframe\">\n",
              "  <thead>\n",
              "    <tr style=\"text-align: right;\">\n",
              "      <th></th>\n",
              "      <th>sepal length</th>\n",
              "      <th>sepal width</th>\n",
              "      <th>petal length</th>\n",
              "      <th>petal width</th>\n",
              "      <th>species</th>\n",
              "      <th>distance_to_new</th>\n",
              "    </tr>\n",
              "  </thead>\n",
              "  <tbody>\n",
              "    <tr>\n",
              "      <th>0</th>\n",
              "      <td>5.1</td>\n",
              "      <td>3.5</td>\n",
              "      <td>1.4</td>\n",
              "      <td>0.2</td>\n",
              "      <td>Iris-setosa</td>\n",
              "      <td>4.559605</td>\n",
              "    </tr>\n",
              "    <tr>\n",
              "      <th>1</th>\n",
              "      <td>4.9</td>\n",
              "      <td>3.0</td>\n",
              "      <td>1.4</td>\n",
              "      <td>0.2</td>\n",
              "      <td>Iris-setosa</td>\n",
              "      <td>4.573839</td>\n",
              "    </tr>\n",
              "    <tr>\n",
              "      <th>2</th>\n",
              "      <td>4.7</td>\n",
              "      <td>3.2</td>\n",
              "      <td>1.3</td>\n",
              "      <td>0.2</td>\n",
              "      <td>Iris-setosa</td>\n",
              "      <td>4.782259</td>\n",
              "    </tr>\n",
              "    <tr>\n",
              "      <th>3</th>\n",
              "      <td>4.6</td>\n",
              "      <td>3.1</td>\n",
              "      <td>1.5</td>\n",
              "      <td>0.2</td>\n",
              "      <td>Iris-setosa</td>\n",
              "      <td>4.665833</td>\n",
              "    </tr>\n",
              "    <tr>\n",
              "      <th>4</th>\n",
              "      <td>5.0</td>\n",
              "      <td>3.6</td>\n",
              "      <td>1.4</td>\n",
              "      <td>0.2</td>\n",
              "      <td>Iris-setosa</td>\n",
              "      <td>4.629255</td>\n",
              "    </tr>\n",
              "  </tbody>\n",
              "</table>\n",
              "</div>"
            ],
            "text/plain": [
              "   sepal length  sepal width  petal length  petal width      species  \\\n",
              "0           5.1          3.5           1.4          0.2  Iris-setosa   \n",
              "1           4.9          3.0           1.4          0.2  Iris-setosa   \n",
              "2           4.7          3.2           1.3          0.2  Iris-setosa   \n",
              "3           4.6          3.1           1.5          0.2  Iris-setosa   \n",
              "4           5.0          3.6           1.4          0.2  Iris-setosa   \n",
              "\n",
              "   distance_to_new  \n",
              "0         4.559605  \n",
              "1         4.573839  \n",
              "2         4.782259  \n",
              "3         4.665833  \n",
              "4         4.629255  "
            ]
          },
          "execution_count": 38,
          "metadata": {},
          "output_type": "execute_result"
        }
      ],
      "source": [
        "import numpy as np\n",
        "\n",
        "iris['distance_to_new'] = np.sqrt(\n",
        "    (5.1 - iris['petal length'])**2 \n",
        "    +(7.2 - iris['sepal length'])**2 \n",
        "    +(1.5 - iris['petal width'])**2\n",
        "    +(2.5 - iris['sepal width'])**2)\n",
        "\n",
        "iris.head()"
      ]
    },
    {
      "cell_type": "markdown",
      "metadata": {
        "id": "MH-eNgqLbZe1"
      },
      "source": [
        "## 2. Sort the data by the distance\n",
        "Let's now sort our data using the built in `sort_values()` function. [ [documentation](https://pandas.pydata.org/docs/reference/api/pandas.DataFrame.sort_values.html) ]\n",
        "\n",
        "We want to find the nearest k neighbors, so sorting them in ascending order (which is the default setting for `sort_values()` will work nicely. "
      ]
    },
    {
      "cell_type": "code",
      "execution_count": null,
      "metadata": {
        "id": "j80fzitrbZe1",
        "outputId": "815aa72f-711d-4b41-ebbf-9a675c2704c5"
      },
      "outputs": [
        {
          "data": {
            "text/html": [
              "<div>\n",
              "<style scoped>\n",
              "    .dataframe tbody tr th:only-of-type {\n",
              "        vertical-align: middle;\n",
              "    }\n",
              "\n",
              "    .dataframe tbody tr th {\n",
              "        vertical-align: top;\n",
              "    }\n",
              "\n",
              "    .dataframe thead th {\n",
              "        text-align: right;\n",
              "    }\n",
              "</style>\n",
              "<table border=\"1\" class=\"dataframe\">\n",
              "  <thead>\n",
              "    <tr style=\"text-align: right;\">\n",
              "      <th></th>\n",
              "      <th>sepal length</th>\n",
              "      <th>sepal width</th>\n",
              "      <th>petal length</th>\n",
              "      <th>petal width</th>\n",
              "      <th>species</th>\n",
              "      <th>distance_to_new</th>\n",
              "    </tr>\n",
              "  </thead>\n",
              "  <tbody>\n",
              "    <tr>\n",
              "      <th>76</th>\n",
              "      <td>6.8</td>\n",
              "      <td>2.8</td>\n",
              "      <td>4.8</td>\n",
              "      <td>1.4</td>\n",
              "      <td>Iris-versicolor</td>\n",
              "      <td>0.591608</td>\n",
              "    </tr>\n",
              "    <tr>\n",
              "      <th>52</th>\n",
              "      <td>6.9</td>\n",
              "      <td>3.1</td>\n",
              "      <td>4.9</td>\n",
              "      <td>1.5</td>\n",
              "      <td>Iris-versicolor</td>\n",
              "      <td>0.700000</td>\n",
              "    </tr>\n",
              "    <tr>\n",
              "      <th>77</th>\n",
              "      <td>6.7</td>\n",
              "      <td>3.0</td>\n",
              "      <td>5.0</td>\n",
              "      <td>1.7</td>\n",
              "      <td>Iris-versicolor</td>\n",
              "      <td>0.741620</td>\n",
              "    </tr>\n",
              "    <tr>\n",
              "      <th>50</th>\n",
              "      <td>7.0</td>\n",
              "      <td>3.2</td>\n",
              "      <td>4.7</td>\n",
              "      <td>1.4</td>\n",
              "      <td>Iris-versicolor</td>\n",
              "      <td>0.836660</td>\n",
              "    </tr>\n",
              "    <tr>\n",
              "      <th>129</th>\n",
              "      <td>7.2</td>\n",
              "      <td>3.0</td>\n",
              "      <td>5.8</td>\n",
              "      <td>1.6</td>\n",
              "      <td>Iris-virginica</td>\n",
              "      <td>0.866025</td>\n",
              "    </tr>\n",
              "  </tbody>\n",
              "</table>\n",
              "</div>"
            ],
            "text/plain": [
              "     sepal length  sepal width  petal length  petal width          species  \\\n",
              "76            6.8          2.8           4.8          1.4  Iris-versicolor   \n",
              "52            6.9          3.1           4.9          1.5  Iris-versicolor   \n",
              "77            6.7          3.0           5.0          1.7  Iris-versicolor   \n",
              "50            7.0          3.2           4.7          1.4  Iris-versicolor   \n",
              "129           7.2          3.0           5.8          1.6   Iris-virginica   \n",
              "\n",
              "     distance_to_new  \n",
              "76          0.591608  \n",
              "52          0.700000  \n",
              "77          0.741620  \n",
              "50          0.836660  \n",
              "129         0.866025  "
            ]
          },
          "execution_count": 10,
          "metadata": {},
          "output_type": "execute_result"
        }
      ],
      "source": [
        "sorted_data = iris.sort_values(['distance_to_new'])\n",
        "sorted_data.head() #shortest distances first "
      ]
    },
    {
      "cell_type": "markdown",
      "metadata": {
        "id": "P3hCH7HobZe2"
      },
      "source": [
        "## 3. Display the most common species among these 5\n"
      ]
    },
    {
      "cell_type": "code",
      "execution_count": null,
      "metadata": {
        "id": "A_GBiM15bZe2",
        "outputId": "53895508-9a72-4bab-dda6-24454dcae428"
      },
      "outputs": [
        {
          "data": {
            "text/plain": [
              "'Iris-versicolor'"
            ]
          },
          "execution_count": 43,
          "metadata": {},
          "output_type": "execute_result"
        }
      ],
      "source": [
        "k = 5\n",
        "sorted_data.iloc[0:5]['species'].mode()[0]"
      ]
    },
    {
      "cell_type": "markdown",
      "metadata": {
        "id": "G-c8ys2SbZe2"
      },
      "source": [
        "And Viola! We have successfully implemented our first machine learning model from scratch."
      ]
    },
    {
      "cell_type": "markdown",
      "metadata": {
        "id": "MSgv-ARebZe2"
      },
      "source": [
        "## 💬 Discussion Question\n",
        "\n",
        "What part of the code would you change to use some other value of k in the kNN?\n",
        "\n",
        "What would you change if you wanted to classify a different new Iris?"
      ]
    },
    {
      "cell_type": "markdown",
      "metadata": {
        "id": "1lE-NDrWbZe2"
      },
      "source": [
        "## Quick Function Refresher:"
      ]
    },
    {
      "cell_type": "code",
      "execution_count": null,
      "metadata": {
        "id": "i9_IUEeYbZe3"
      },
      "outputs": [],
      "source": [
        "# reminder of what a function looks like in Python: \n",
        "\n",
        "def find_min(a_list):\n",
        "    smallest = float(\"inf\")\n",
        "    for element in a_list:\n",
        "        if element < smallest:\n",
        "            smallest=element\n",
        "    return smallest"
      ]
    },
    {
      "cell_type": "code",
      "execution_count": null,
      "metadata": {
        "id": "IihNX5uAbZe3",
        "outputId": "1eb5ff10-c5f4-4b11-89fb-9cd9285f0181"
      },
      "outputs": [
        {
          "data": {
            "text/plain": [
              "-54"
            ]
          },
          "execution_count": 46,
          "metadata": {},
          "output_type": "execute_result"
        }
      ],
      "source": [
        "find_min([2,5, -4, -54,14, 30])"
      ]
    },
    {
      "cell_type": "markdown",
      "metadata": {
        "id": "TR8fJCH7bZe3"
      },
      "source": [
        "# Programming Exercise:\n",
        "\n",
        "Rewrite our k-NN code so that it's a function.\n",
        "\n",
        "Pass the iris measurements (specimen), dataframe, and k as parameters and return the predicted class.\n",
        "\n",
        "Here's some starter code:"
      ]
    },
    {
      "cell_type": "code",
      "execution_count": null,
      "metadata": {
        "id": "eHUsMZl4bZe3"
      },
      "outputs": [],
      "source": [
        "def kNN(specimen, data, k):\n",
        "    # write your code in here to make this function work\n",
        "    # 1. calculate distances\n",
        "    \n",
        "    \n",
        "    # 2. sort\n",
        "\n",
        "    \n",
        "    # 3. predict\n",
        "\n",
        "\n",
        "    return prediction"
      ]
    },
    {
      "cell_type": "code",
      "execution_count": null,
      "metadata": {
        "id": "cSdz_ZMZbZe3",
        "outputId": "7b2000d6-745c-451e-9de3-5ea5d1ccff4b"
      },
      "outputs": [
        {
          "data": {
            "text/plain": [
              "0    Iris-versicolor\n",
              "dtype: object"
            ]
          },
          "execution_count": 74,
          "metadata": {},
          "output_type": "execute_result"
        }
      ],
      "source": [
        "new_iris = {}\n",
        "new_iris['petal length'] = 5.1\n",
        "new_iris['sepal length'] = 7.2\n",
        "new_iris['petal width'] = 1.5\n",
        "new_iris['sepal width'] = 2.5\n",
        "\n",
        "kNN(new_iris, iris, 15)\n"
      ]
    },
    {
      "cell_type": "markdown",
      "metadata": {
        "id": "qoyqdWctbZe3"
      },
      "source": [
        "# ✨ New Material"
      ]
    },
    {
      "cell_type": "markdown",
      "metadata": {
        "id": "BfKJNycVbZe4"
      },
      "source": [
        "# Missing Data:\n",
        "Most datasets you will work with will not be in perfect shape--you'll need to \"clean\" the data before you can run any machine learning algorithms on it.\n",
        "\n",
        "Missing data is a pretty common thing--so much so that there's a special value for missing data: `NaN`, or not a number."
      ]
    },
    {
      "cell_type": "markdown",
      "metadata": {
        "id": "4f6O06DTbZe4"
      },
      "source": [
        "The steps of cleaning data normally include:\n",
        "1. Identifying which columns have missing data\n",
        "2. Determining how much data is missing in each column\n",
        "3. Deciding what to do with the missing data: drop it, fill it, let it be"
      ]
    },
    {
      "cell_type": "markdown",
      "metadata": {
        "id": "8AKPMghibZe4"
      },
      "source": [
        "Notice, in the `deck` column, there are 3 instances of `NaN` we can see...\n",
        "\n",
        "But what about the other 800 or so rows? Do we have to go through and find them manually? Gross."
      ]
    },
    {
      "cell_type": "code",
      "execution_count": null,
      "metadata": {
        "id": "qAm01DM6bZe4",
        "outputId": "a82f91a2-1297-4725-8615-ed2682bd31e4"
      },
      "outputs": [
        {
          "data": {
            "text/html": [
              "<div>\n",
              "<style scoped>\n",
              "    .dataframe tbody tr th:only-of-type {\n",
              "        vertical-align: middle;\n",
              "    }\n",
              "\n",
              "    .dataframe tbody tr th {\n",
              "        vertical-align: top;\n",
              "    }\n",
              "\n",
              "    .dataframe thead th {\n",
              "        text-align: right;\n",
              "    }\n",
              "</style>\n",
              "<table border=\"1\" class=\"dataframe\">\n",
              "  <thead>\n",
              "    <tr style=\"text-align: right;\">\n",
              "      <th></th>\n",
              "      <th>survived</th>\n",
              "      <th>pclass</th>\n",
              "      <th>sex</th>\n",
              "      <th>age</th>\n",
              "      <th>sibsp</th>\n",
              "      <th>parch</th>\n",
              "      <th>fare</th>\n",
              "      <th>embarked</th>\n",
              "      <th>class</th>\n",
              "      <th>who</th>\n",
              "      <th>adult_male</th>\n",
              "      <th>deck</th>\n",
              "      <th>embark_town</th>\n",
              "      <th>alive</th>\n",
              "      <th>alone</th>\n",
              "    </tr>\n",
              "  </thead>\n",
              "  <tbody>\n",
              "    <tr>\n",
              "      <th>0</th>\n",
              "      <td>0</td>\n",
              "      <td>3</td>\n",
              "      <td>male</td>\n",
              "      <td>22.0</td>\n",
              "      <td>1</td>\n",
              "      <td>0</td>\n",
              "      <td>7.2500</td>\n",
              "      <td>S</td>\n",
              "      <td>Third</td>\n",
              "      <td>man</td>\n",
              "      <td>True</td>\n",
              "      <td>NaN</td>\n",
              "      <td>Southampton</td>\n",
              "      <td>no</td>\n",
              "      <td>False</td>\n",
              "    </tr>\n",
              "    <tr>\n",
              "      <th>1</th>\n",
              "      <td>1</td>\n",
              "      <td>1</td>\n",
              "      <td>female</td>\n",
              "      <td>38.0</td>\n",
              "      <td>1</td>\n",
              "      <td>0</td>\n",
              "      <td>71.2833</td>\n",
              "      <td>C</td>\n",
              "      <td>First</td>\n",
              "      <td>woman</td>\n",
              "      <td>False</td>\n",
              "      <td>C</td>\n",
              "      <td>Cherbourg</td>\n",
              "      <td>yes</td>\n",
              "      <td>False</td>\n",
              "    </tr>\n",
              "    <tr>\n",
              "      <th>2</th>\n",
              "      <td>1</td>\n",
              "      <td>3</td>\n",
              "      <td>female</td>\n",
              "      <td>26.0</td>\n",
              "      <td>0</td>\n",
              "      <td>0</td>\n",
              "      <td>7.9250</td>\n",
              "      <td>S</td>\n",
              "      <td>Third</td>\n",
              "      <td>woman</td>\n",
              "      <td>False</td>\n",
              "      <td>NaN</td>\n",
              "      <td>Southampton</td>\n",
              "      <td>yes</td>\n",
              "      <td>True</td>\n",
              "    </tr>\n",
              "    <tr>\n",
              "      <th>3</th>\n",
              "      <td>1</td>\n",
              "      <td>1</td>\n",
              "      <td>female</td>\n",
              "      <td>35.0</td>\n",
              "      <td>1</td>\n",
              "      <td>0</td>\n",
              "      <td>53.1000</td>\n",
              "      <td>S</td>\n",
              "      <td>First</td>\n",
              "      <td>woman</td>\n",
              "      <td>False</td>\n",
              "      <td>C</td>\n",
              "      <td>Southampton</td>\n",
              "      <td>yes</td>\n",
              "      <td>False</td>\n",
              "    </tr>\n",
              "    <tr>\n",
              "      <th>4</th>\n",
              "      <td>0</td>\n",
              "      <td>3</td>\n",
              "      <td>male</td>\n",
              "      <td>35.0</td>\n",
              "      <td>0</td>\n",
              "      <td>0</td>\n",
              "      <td>8.0500</td>\n",
              "      <td>S</td>\n",
              "      <td>Third</td>\n",
              "      <td>man</td>\n",
              "      <td>True</td>\n",
              "      <td>NaN</td>\n",
              "      <td>Southampton</td>\n",
              "      <td>no</td>\n",
              "      <td>True</td>\n",
              "    </tr>\n",
              "  </tbody>\n",
              "</table>\n",
              "</div>"
            ],
            "text/plain": [
              "   survived  pclass     sex   age  sibsp  parch     fare embarked  class  \\\n",
              "0         0       3    male  22.0      1      0   7.2500        S  Third   \n",
              "1         1       1  female  38.0      1      0  71.2833        C  First   \n",
              "2         1       3  female  26.0      0      0   7.9250        S  Third   \n",
              "3         1       1  female  35.0      1      0  53.1000        S  First   \n",
              "4         0       3    male  35.0      0      0   8.0500        S  Third   \n",
              "\n",
              "     who  adult_male deck  embark_town alive  alone  \n",
              "0    man        True  NaN  Southampton    no  False  \n",
              "1  woman       False    C    Cherbourg   yes  False  \n",
              "2  woman       False  NaN  Southampton   yes   True  \n",
              "3  woman       False    C  Southampton   yes  False  \n",
              "4    man        True  NaN  Southampton    no   True  "
            ]
          },
          "execution_count": 5,
          "metadata": {},
          "output_type": "execute_result"
        }
      ],
      "source": [
        "titanic.head()"
      ]
    },
    {
      "cell_type": "markdown",
      "metadata": {
        "id": "XydTj8jTbZe4"
      },
      "source": [
        "## Step 1: Identify Missing Data\n",
        "\n",
        "In order to ID missing data, we will use a combination of three pandas functions: \n",
        "- `isna()`, `notna()`, and `any()` "
      ]
    },
    {
      "cell_type": "markdown",
      "metadata": {
        "id": "fujzubpObZe4"
      },
      "source": [
        "## Using `isna()` and `notna()` to find missing data:\n",
        "- `isna()` will return a boolean series where it is True if the element is `NaN'.\n",
        "- `notna()` will return a bollean seires where it is True if the element is __not__ `NaN`.\n"
      ]
    },
    {
      "cell_type": "code",
      "execution_count": null,
      "metadata": {
        "id": "HZ8gTR4xbZe5",
        "outputId": "a35dea7a-7061-451a-def8-f2355665e775"
      },
      "outputs": [
        {
          "data": {
            "text/html": [
              "<iframe src=\"https://pandas.pydata.org/docs/reference/api/pandas.isna.html\" width=\"1000\" height=\"500\"></iframe>\n"
            ],
            "text/plain": [
              "<IPython.core.display.HTML object>"
            ]
          },
          "metadata": {},
          "output_type": "display_data"
        }
      ],
      "source": [
        "%%html\n",
        "<iframe src=\"https://pandas.pydata.org/docs/reference/api/pandas.isna.html\" width=\"1000\" height=\"500\"></iframe>"
      ]
    },
    {
      "cell_type": "markdown",
      "metadata": {
        "id": "IyF7Yi5LbZe5"
      },
      "source": [
        "Let's call `isna()` on the first 5 row of Titanic, and see what we get as an output:"
      ]
    },
    {
      "cell_type": "code",
      "execution_count": null,
      "metadata": {
        "id": "MKPIk6OMbZe5",
        "outputId": "21cc7ab0-516b-440d-c99f-3b862cddb2d9"
      },
      "outputs": [
        {
          "data": {
            "text/html": [
              "<div>\n",
              "<style scoped>\n",
              "    .dataframe tbody tr th:only-of-type {\n",
              "        vertical-align: middle;\n",
              "    }\n",
              "\n",
              "    .dataframe tbody tr th {\n",
              "        vertical-align: top;\n",
              "    }\n",
              "\n",
              "    .dataframe thead th {\n",
              "        text-align: right;\n",
              "    }\n",
              "</style>\n",
              "<table border=\"1\" class=\"dataframe\">\n",
              "  <thead>\n",
              "    <tr style=\"text-align: right;\">\n",
              "      <th></th>\n",
              "      <th>survived</th>\n",
              "      <th>pclass</th>\n",
              "      <th>sex</th>\n",
              "      <th>age</th>\n",
              "      <th>sibsp</th>\n",
              "      <th>parch</th>\n",
              "      <th>fare</th>\n",
              "      <th>embarked</th>\n",
              "      <th>class</th>\n",
              "      <th>who</th>\n",
              "      <th>adult_male</th>\n",
              "      <th>deck</th>\n",
              "      <th>embark_town</th>\n",
              "      <th>alive</th>\n",
              "      <th>alone</th>\n",
              "    </tr>\n",
              "  </thead>\n",
              "  <tbody>\n",
              "    <tr>\n",
              "      <th>0</th>\n",
              "      <td>False</td>\n",
              "      <td>False</td>\n",
              "      <td>False</td>\n",
              "      <td>False</td>\n",
              "      <td>False</td>\n",
              "      <td>False</td>\n",
              "      <td>False</td>\n",
              "      <td>False</td>\n",
              "      <td>False</td>\n",
              "      <td>False</td>\n",
              "      <td>False</td>\n",
              "      <td>True</td>\n",
              "      <td>False</td>\n",
              "      <td>False</td>\n",
              "      <td>False</td>\n",
              "    </tr>\n",
              "    <tr>\n",
              "      <th>1</th>\n",
              "      <td>False</td>\n",
              "      <td>False</td>\n",
              "      <td>False</td>\n",
              "      <td>False</td>\n",
              "      <td>False</td>\n",
              "      <td>False</td>\n",
              "      <td>False</td>\n",
              "      <td>False</td>\n",
              "      <td>False</td>\n",
              "      <td>False</td>\n",
              "      <td>False</td>\n",
              "      <td>False</td>\n",
              "      <td>False</td>\n",
              "      <td>False</td>\n",
              "      <td>False</td>\n",
              "    </tr>\n",
              "    <tr>\n",
              "      <th>2</th>\n",
              "      <td>False</td>\n",
              "      <td>False</td>\n",
              "      <td>False</td>\n",
              "      <td>False</td>\n",
              "      <td>False</td>\n",
              "      <td>False</td>\n",
              "      <td>False</td>\n",
              "      <td>False</td>\n",
              "      <td>False</td>\n",
              "      <td>False</td>\n",
              "      <td>False</td>\n",
              "      <td>True</td>\n",
              "      <td>False</td>\n",
              "      <td>False</td>\n",
              "      <td>False</td>\n",
              "    </tr>\n",
              "    <tr>\n",
              "      <th>3</th>\n",
              "      <td>False</td>\n",
              "      <td>False</td>\n",
              "      <td>False</td>\n",
              "      <td>False</td>\n",
              "      <td>False</td>\n",
              "      <td>False</td>\n",
              "      <td>False</td>\n",
              "      <td>False</td>\n",
              "      <td>False</td>\n",
              "      <td>False</td>\n",
              "      <td>False</td>\n",
              "      <td>False</td>\n",
              "      <td>False</td>\n",
              "      <td>False</td>\n",
              "      <td>False</td>\n",
              "    </tr>\n",
              "    <tr>\n",
              "      <th>4</th>\n",
              "      <td>False</td>\n",
              "      <td>False</td>\n",
              "      <td>False</td>\n",
              "      <td>False</td>\n",
              "      <td>False</td>\n",
              "      <td>False</td>\n",
              "      <td>False</td>\n",
              "      <td>False</td>\n",
              "      <td>False</td>\n",
              "      <td>False</td>\n",
              "      <td>False</td>\n",
              "      <td>True</td>\n",
              "      <td>False</td>\n",
              "      <td>False</td>\n",
              "      <td>False</td>\n",
              "    </tr>\n",
              "  </tbody>\n",
              "</table>\n",
              "</div>"
            ],
            "text/plain": [
              "   survived  pclass    sex    age  sibsp  parch   fare  embarked  class  \\\n",
              "0     False   False  False  False  False  False  False     False  False   \n",
              "1     False   False  False  False  False  False  False     False  False   \n",
              "2     False   False  False  False  False  False  False     False  False   \n",
              "3     False   False  False  False  False  False  False     False  False   \n",
              "4     False   False  False  False  False  False  False     False  False   \n",
              "\n",
              "     who  adult_male   deck  embark_town  alive  alone  \n",
              "0  False       False   True        False  False  False  \n",
              "1  False       False  False        False  False  False  \n",
              "2  False       False   True        False  False  False  \n",
              "3  False       False  False        False  False  False  \n",
              "4  False       False   True        False  False  False  "
            ]
          },
          "execution_count": 111,
          "metadata": {},
          "output_type": "execute_result"
        }
      ],
      "source": [
        "titanic.loc[:4].isna()\n",
        "#look at the 'deck' column... "
      ]
    },
    {
      "cell_type": "markdown",
      "metadata": {
        "id": "zN5JVk_TbZe5"
      },
      "source": [
        "That's pretty nifty, but there's gotta be a better way of summarizing this..."
      ]
    },
    {
      "cell_type": "markdown",
      "metadata": {
        "id": "y7M2XMHxbZe5"
      },
      "source": [
        "# `any()`"
      ]
    },
    {
      "cell_type": "code",
      "execution_count": null,
      "metadata": {
        "id": "-ER8uXqRbZe5",
        "outputId": "2c55210d-3693-4669-bed5-4b07e1133ec6"
      },
      "outputs": [
        {
          "data": {
            "text/html": [
              "<iframe src=\"https://pandas.pydata.org/docs/reference/api/pandas.DataFrame.any.html\" width=\"1000\" height=\"350\"></iframe>\n"
            ],
            "text/plain": [
              "<IPython.core.display.HTML object>"
            ]
          },
          "metadata": {},
          "output_type": "display_data"
        }
      ],
      "source": [
        "%%html\n",
        "<iframe src=\"https://pandas.pydata.org/docs/reference/api/pandas.DataFrame.any.html\" width=\"1000\" height=\"350\"></iframe>"
      ]
    },
    {
      "cell_type": "markdown",
      "metadata": {
        "id": "SXtjZOpabZe6"
      },
      "source": [
        "Let's use `any()` on the call to `isna()` we just did to let us know which columns have missing data:"
      ]
    },
    {
      "cell_type": "code",
      "execution_count": null,
      "metadata": {
        "id": "uBi4PODUbZe6",
        "outputId": "0a7e6029-dc17-415d-b551-a39742d2a2a6"
      },
      "outputs": [
        {
          "data": {
            "text/plain": [
              "survived       False\n",
              "pclass         False\n",
              "sex            False\n",
              "age             True\n",
              "sibsp          False\n",
              "parch          False\n",
              "fare           False\n",
              "embarked        True\n",
              "class          False\n",
              "who            False\n",
              "adult_male     False\n",
              "deck            True\n",
              "embark_town     True\n",
              "alive          False\n",
              "alone          False\n",
              "dtype: bool"
            ]
          },
          "execution_count": 16,
          "metadata": {},
          "output_type": "execute_result"
        }
      ],
      "source": [
        "titanic.isna().any()"
      ]
    },
    {
      "cell_type": "markdown",
      "metadata": {
        "id": "CTWRZRvzbZe6"
      },
      "source": [
        "Several columns are missing data: `age`, `embarked`, `deck`, and `embark_town`.\n",
        "\n",
        "Wouldn't it be great to know how much data is missing in each of those columns?"
      ]
    },
    {
      "cell_type": "markdown",
      "metadata": {
        "id": "U39EuCDkbZe6"
      },
      "source": [
        "## Step 2: How much data is missing?\n",
        "To decide how to handle our missing data, it's important to know how much missing data each column has.\n",
        "- If the missing data is a small proportion of the data, we choose to drop those rows completely from the dataset. \n",
        "- However, if most of the rows are missing data for a specific column, maybe it's a sign that we don't need to use that column.\n",
        "\n",
        "There are multiple ways of doing this, but one of the quickest/easiest is using `value_counts()`"
      ]
    },
    {
      "cell_type": "markdown",
      "metadata": {
        "id": "eNfwrD3FbZe6"
      },
      "source": [
        "## `value_counts()`\n",
        "Great, so now that we know which columns are missing data, let's check to see how much data they are missing using `value_counts()`."
      ]
    },
    {
      "cell_type": "code",
      "execution_count": null,
      "metadata": {
        "id": "8D09ErAQbZe6",
        "outputId": "6b59473d-1a8b-43fe-cd84-224661efa923"
      },
      "outputs": [
        {
          "data": {
            "text/html": [
              "<iframe src=\"https://pandas.pydata.org/docs/reference/api/pandas.Series.value_counts.html\" width=\"1000\" height=\"350\"></iframe>\n"
            ],
            "text/plain": [
              "<IPython.core.display.HTML object>"
            ]
          },
          "metadata": {},
          "output_type": "display_data"
        }
      ],
      "source": [
        "%%html\n",
        "<iframe src=\"https://pandas.pydata.org/docs/reference/api/pandas.Series.value_counts.html\" width=\"1000\" height=\"350\"></iframe>"
      ]
    },
    {
      "cell_type": "code",
      "execution_count": null,
      "metadata": {
        "id": "2JC-DkJ0bZe6",
        "outputId": "1741f5d5-3939-4c31-e214-5c0056542d3b"
      },
      "outputs": [
        {
          "data": {
            "text/plain": [
              "NaN    688\n",
              "C       59\n",
              "B       47\n",
              "D       33\n",
              "E       32\n",
              "A       15\n",
              "F       13\n",
              "G        4\n",
              "Name: deck, dtype: int64"
            ]
          },
          "execution_count": 112,
          "metadata": {},
          "output_type": "execute_result"
        }
      ],
      "source": [
        "titanic.deck.value_counts(dropna=False) \n",
        "#688 missing values"
      ]
    },
    {
      "cell_type": "code",
      "execution_count": null,
      "metadata": {
        "id": "I1hl8L5PbZe7",
        "outputId": "95706426-c07a-42f8-ec94-897e3b4e581a"
      },
      "outputs": [
        {
          "data": {
            "text/plain": [
              "NaN      177\n",
              "24.00     30\n",
              "22.00     27\n",
              "18.00     26\n",
              "28.00     25\n",
              "        ... \n",
              "36.50      1\n",
              "55.50      1\n",
              "66.00      1\n",
              "23.50      1\n",
              "0.42       1\n",
              "Name: age, Length: 89, dtype: int64"
            ]
          },
          "execution_count": 113,
          "metadata": {},
          "output_type": "execute_result"
        }
      ],
      "source": [
        "titanic.age.value_counts(dropna=False)\n",
        "#177 missing values"
      ]
    },
    {
      "cell_type": "code",
      "execution_count": null,
      "metadata": {
        "id": "5UiuS94zbZe7",
        "outputId": "ef6f1449-ffdb-4dc3-9b9c-df961854f366"
      },
      "outputs": [
        {
          "data": {
            "text/plain": [
              "S      644\n",
              "C      168\n",
              "Q       77\n",
              "NaN      2\n",
              "Name: embarked, dtype: int64"
            ]
          },
          "execution_count": 114,
          "metadata": {},
          "output_type": "execute_result"
        }
      ],
      "source": [
        "titanic.embarked.value_counts(dropna=False)\n",
        "#2 missing values"
      ]
    },
    {
      "cell_type": "code",
      "execution_count": null,
      "metadata": {
        "id": "g1CyGKEdbZe7",
        "outputId": "254b8284-8dd0-4d8f-ac68-a76022b81357"
      },
      "outputs": [
        {
          "data": {
            "text/plain": [
              "Southampton    644\n",
              "Cherbourg      168\n",
              "Queenstown      77\n",
              "NaN              2\n",
              "Name: embark_town, dtype: int64"
            ]
          },
          "execution_count": 75,
          "metadata": {},
          "output_type": "execute_result"
        }
      ],
      "source": [
        "titanic.embark_town.value_counts(dropna=False)\n",
        "#2 missing values"
      ]
    },
    {
      "cell_type": "markdown",
      "metadata": {
        "id": "4Rhip0f4bZe7"
      },
      "source": [
        "So, here are our results: \n",
        "\n",
        "| **Column**    | **Num Rows Missing** |\n",
        "|:---------------|----------------------|\n",
        "| `deck`         | 688                  |\n",
        "| `age`          | 177                  |\n",
        "| `embarked`    | 2                    |\n",
        "| `embark_town` | 2                    |\n",
        "\n",
        "Now with this new information, it's up to us to decide what to do with these missing values"
      ]
    },
    {
      "cell_type": "markdown",
      "metadata": {
        "id": "qndeoZpubZe7"
      },
      "source": [
        "## Step 3: Decide how to handle missing data\n",
        "\n",
        "There are 3 main options here:\n",
        "- drop the missing data from the dataset (either col or row)\n",
        "- fill the missing data with a suitable replacement\n",
        "- let it be and cross our fingers"
      ]
    },
    {
      "cell_type": "markdown",
      "metadata": {
        "id": "nfq4CjWdbZe7"
      },
      "source": [
        "### Option 1: Drop it using `dropna()`\n",
        "\n",
        "If there isn't much missing data, and/or you have a very large dataset, dropping the row that includes the missing data is a viable option."
      ]
    },
    {
      "cell_type": "code",
      "execution_count": null,
      "metadata": {
        "id": "GKGpikQHbZe7",
        "outputId": "cc46ca0d-0c93-456c-94be-af62422707ed"
      },
      "outputs": [
        {
          "name": "stdout",
          "output_type": "stream",
          "text": [
            "before:  (891, 15)\n",
            "after:  (182, 15)\n"
          ]
        }
      ],
      "source": [
        "print(\"before: \", titanic.shape)\n",
        "titanic.dropna()\n",
        "print(\"after: \" , clean.shape)"
      ]
    },
    {
      "cell_type": "markdown",
      "metadata": {
        "id": "fLPi9VUabZe8"
      },
      "source": [
        "huh... that's weird. We know that there's missing data, why didn't the shape change?"
      ]
    },
    {
      "cell_type": "markdown",
      "metadata": {
        "id": "sR57ove2bZe8"
      },
      "source": [
        "Pandas is trying to protect you, and rather than dropping the rows \"in place\", it is returning a dataframe with the rows dropped--as written, we're just not saving it's return. There are two ways to fix this:\n",
        "- save what `dropna()` is returning in a variable (see below)\n",
        "- add the parameter `inplace=True` to the function call, and it will drop the rows in the original dataset (be careful with this one)"
      ]
    },
    {
      "cell_type": "code",
      "execution_count": null,
      "metadata": {
        "id": "uMEtilBabZe8",
        "outputId": "184275f2-0393-4401-cad8-24ee53b2a5e7"
      },
      "outputs": [
        {
          "name": "stdout",
          "output_type": "stream",
          "text": [
            "before:  (891, 15)\n",
            "after:  (182, 15)\n"
          ]
        }
      ],
      "source": [
        "print(\"before: \", titanic.shape)\n",
        "no_missing_data = titanic.dropna()\n",
        "#titanic.dropna(inplace=True)\n",
        "print(\"after: \" , no_missing_data.shape)"
      ]
    },
    {
      "cell_type": "markdown",
      "metadata": {
        "id": "qMH_XZEwbZe8"
      },
      "source": [
        "That's better, but wow, most of our dataset is gone now if we drop all of the rows that have missing data. If this happens to you, you'll probably want to re-load your data to have the full dataset to work with. "
      ]
    },
    {
      "cell_type": "code",
      "execution_count": null,
      "metadata": {
        "id": "0HkPU8vlbZe8"
      },
      "outputs": [],
      "source": [
        "# if that happens, you'll want to re-run your data loading code:\n",
        "path = 'datasets/titanic.csv'\n",
        "titanic = pd.read_csv(path)"
      ]
    },
    {
      "cell_type": "markdown",
      "metadata": {
        "id": "_kEvM--YbZe8"
      },
      "source": [
        "`embarked` and `embark_town` don't have many rows missing... let's use `dropna()` to drop them in place:\n",
        "- the parameter `subset` allows us to provide a list of columns that we want any missing data to be dropped from."
      ]
    },
    {
      "cell_type": "code",
      "execution_count": null,
      "metadata": {
        "id": "-u06Hco7bZe8",
        "outputId": "81fb5340-1f1a-4d5d-b865-a69748f82ac9"
      },
      "outputs": [
        {
          "name": "stdout",
          "output_type": "stream",
          "text": [
            "before:  (891, 15)\n",
            "after:  (889, 15)\n"
          ]
        }
      ],
      "source": [
        "print(\"before: \", titanic.shape)\n",
        "titanic.dropna(inplace=True, subset=['embarked', 'embark_town'])\n",
        "print(\"after: \", titanic.shape)"
      ]
    },
    {
      "cell_type": "markdown",
      "metadata": {
        "id": "ZRkZEXbybZe9"
      },
      "source": [
        "### Option 2:  Fill it using `fillna()`\n",
        "\n",
        "If dropping all of the data will make your dataset too sparse, consider filling the missing values with something else. \n",
        "\n",
        "What do you think we should use to fill in the missing data in the `age` column?\n",
        "- we probably don't want to throw off our statistics... "
      ]
    },
    {
      "cell_type": "code",
      "execution_count": null,
      "metadata": {
        "id": "bYI1-t9PbZe9",
        "outputId": "ec46dcd2-ee7d-40a9-91e4-ea421ca06027"
      },
      "outputs": [
        {
          "data": {
            "text/html": [
              "<div>\n",
              "<style scoped>\n",
              "    .dataframe tbody tr th:only-of-type {\n",
              "        vertical-align: middle;\n",
              "    }\n",
              "\n",
              "    .dataframe tbody tr th {\n",
              "        vertical-align: top;\n",
              "    }\n",
              "\n",
              "    .dataframe thead th {\n",
              "        text-align: right;\n",
              "    }\n",
              "</style>\n",
              "<table border=\"1\" class=\"dataframe\">\n",
              "  <thead>\n",
              "    <tr style=\"text-align: right;\">\n",
              "      <th></th>\n",
              "      <th>survived</th>\n",
              "      <th>pclass</th>\n",
              "      <th>sex</th>\n",
              "      <th>age</th>\n",
              "      <th>sibsp</th>\n",
              "      <th>parch</th>\n",
              "      <th>fare</th>\n",
              "      <th>embarked</th>\n",
              "      <th>class</th>\n",
              "      <th>who</th>\n",
              "      <th>adult_male</th>\n",
              "      <th>deck</th>\n",
              "      <th>embark_town</th>\n",
              "      <th>alive</th>\n",
              "      <th>alone</th>\n",
              "    </tr>\n",
              "  </thead>\n",
              "  <tbody>\n",
              "    <tr>\n",
              "      <th>0</th>\n",
              "      <td>0</td>\n",
              "      <td>3</td>\n",
              "      <td>male</td>\n",
              "      <td>22.0</td>\n",
              "      <td>1</td>\n",
              "      <td>0</td>\n",
              "      <td>7.2500</td>\n",
              "      <td>S</td>\n",
              "      <td>Third</td>\n",
              "      <td>man</td>\n",
              "      <td>True</td>\n",
              "      <td>NaN</td>\n",
              "      <td>Southampton</td>\n",
              "      <td>no</td>\n",
              "      <td>False</td>\n",
              "    </tr>\n",
              "    <tr>\n",
              "      <th>1</th>\n",
              "      <td>1</td>\n",
              "      <td>1</td>\n",
              "      <td>female</td>\n",
              "      <td>38.0</td>\n",
              "      <td>1</td>\n",
              "      <td>0</td>\n",
              "      <td>71.2833</td>\n",
              "      <td>C</td>\n",
              "      <td>First</td>\n",
              "      <td>woman</td>\n",
              "      <td>False</td>\n",
              "      <td>C</td>\n",
              "      <td>Cherbourg</td>\n",
              "      <td>yes</td>\n",
              "      <td>False</td>\n",
              "    </tr>\n",
              "    <tr>\n",
              "      <th>2</th>\n",
              "      <td>1</td>\n",
              "      <td>3</td>\n",
              "      <td>female</td>\n",
              "      <td>26.0</td>\n",
              "      <td>0</td>\n",
              "      <td>0</td>\n",
              "      <td>7.9250</td>\n",
              "      <td>S</td>\n",
              "      <td>Third</td>\n",
              "      <td>woman</td>\n",
              "      <td>False</td>\n",
              "      <td>NaN</td>\n",
              "      <td>Southampton</td>\n",
              "      <td>yes</td>\n",
              "      <td>True</td>\n",
              "    </tr>\n",
              "    <tr>\n",
              "      <th>3</th>\n",
              "      <td>1</td>\n",
              "      <td>1</td>\n",
              "      <td>female</td>\n",
              "      <td>35.0</td>\n",
              "      <td>1</td>\n",
              "      <td>0</td>\n",
              "      <td>53.1000</td>\n",
              "      <td>S</td>\n",
              "      <td>First</td>\n",
              "      <td>woman</td>\n",
              "      <td>False</td>\n",
              "      <td>C</td>\n",
              "      <td>Southampton</td>\n",
              "      <td>yes</td>\n",
              "      <td>False</td>\n",
              "    </tr>\n",
              "    <tr>\n",
              "      <th>4</th>\n",
              "      <td>0</td>\n",
              "      <td>3</td>\n",
              "      <td>male</td>\n",
              "      <td>35.0</td>\n",
              "      <td>0</td>\n",
              "      <td>0</td>\n",
              "      <td>8.0500</td>\n",
              "      <td>S</td>\n",
              "      <td>Third</td>\n",
              "      <td>man</td>\n",
              "      <td>True</td>\n",
              "      <td>NaN</td>\n",
              "      <td>Southampton</td>\n",
              "      <td>no</td>\n",
              "      <td>True</td>\n",
              "    </tr>\n",
              "    <tr>\n",
              "      <th>5</th>\n",
              "      <td>0</td>\n",
              "      <td>3</td>\n",
              "      <td>male</td>\n",
              "      <td>NaN</td>\n",
              "      <td>0</td>\n",
              "      <td>0</td>\n",
              "      <td>8.4583</td>\n",
              "      <td>Q</td>\n",
              "      <td>Third</td>\n",
              "      <td>man</td>\n",
              "      <td>True</td>\n",
              "      <td>NaN</td>\n",
              "      <td>Queenstown</td>\n",
              "      <td>no</td>\n",
              "      <td>True</td>\n",
              "    </tr>\n",
              "    <tr>\n",
              "      <th>6</th>\n",
              "      <td>0</td>\n",
              "      <td>1</td>\n",
              "      <td>male</td>\n",
              "      <td>54.0</td>\n",
              "      <td>0</td>\n",
              "      <td>0</td>\n",
              "      <td>51.8625</td>\n",
              "      <td>S</td>\n",
              "      <td>First</td>\n",
              "      <td>man</td>\n",
              "      <td>True</td>\n",
              "      <td>E</td>\n",
              "      <td>Southampton</td>\n",
              "      <td>no</td>\n",
              "      <td>True</td>\n",
              "    </tr>\n",
              "  </tbody>\n",
              "</table>\n",
              "</div>"
            ],
            "text/plain": [
              "   survived  pclass     sex   age  sibsp  parch     fare embarked  class  \\\n",
              "0         0       3    male  22.0      1      0   7.2500        S  Third   \n",
              "1         1       1  female  38.0      1      0  71.2833        C  First   \n",
              "2         1       3  female  26.0      0      0   7.9250        S  Third   \n",
              "3         1       1  female  35.0      1      0  53.1000        S  First   \n",
              "4         0       3    male  35.0      0      0   8.0500        S  Third   \n",
              "5         0       3    male   NaN      0      0   8.4583        Q  Third   \n",
              "6         0       1    male  54.0      0      0  51.8625        S  First   \n",
              "\n",
              "     who  adult_male deck  embark_town alive  alone  \n",
              "0    man        True  NaN  Southampton    no  False  \n",
              "1  woman       False    C    Cherbourg   yes  False  \n",
              "2  woman       False  NaN  Southampton   yes   True  \n",
              "3  woman       False    C  Southampton   yes  False  \n",
              "4    man        True  NaN  Southampton    no   True  \n",
              "5    man        True  NaN   Queenstown    no   True  \n",
              "6    man        True    E  Southampton    no   True  "
            ]
          },
          "execution_count": 81,
          "metadata": {},
          "output_type": "execute_result"
        }
      ],
      "source": [
        "titanic.head(7)"
      ]
    },
    {
      "cell_type": "markdown",
      "metadata": {
        "id": "cIpD2oaFbZe9"
      },
      "source": [
        "The `fillna()` functiona llows `NaN` values to be filled with a given value like so: "
      ]
    },
    {
      "cell_type": "code",
      "execution_count": null,
      "metadata": {
        "id": "_PvP-b2KbZe9",
        "outputId": "172b93d1-9fa3-42c8-9e7c-37b6dba919c4"
      },
      "outputs": [
        {
          "name": "stdout",
          "output_type": "stream",
          "text": [
            "before:  True\n",
            "after:  False\n"
          ]
        },
        {
          "data": {
            "text/html": [
              "<div>\n",
              "<style scoped>\n",
              "    .dataframe tbody tr th:only-of-type {\n",
              "        vertical-align: middle;\n",
              "    }\n",
              "\n",
              "    .dataframe tbody tr th {\n",
              "        vertical-align: top;\n",
              "    }\n",
              "\n",
              "    .dataframe thead th {\n",
              "        text-align: right;\n",
              "    }\n",
              "</style>\n",
              "<table border=\"1\" class=\"dataframe\">\n",
              "  <thead>\n",
              "    <tr style=\"text-align: right;\">\n",
              "      <th></th>\n",
              "      <th>survived</th>\n",
              "      <th>pclass</th>\n",
              "      <th>sex</th>\n",
              "      <th>age</th>\n",
              "      <th>sibsp</th>\n",
              "      <th>parch</th>\n",
              "      <th>fare</th>\n",
              "      <th>embarked</th>\n",
              "      <th>class</th>\n",
              "      <th>who</th>\n",
              "      <th>adult_male</th>\n",
              "      <th>deck</th>\n",
              "      <th>embark_town</th>\n",
              "      <th>alive</th>\n",
              "      <th>alone</th>\n",
              "    </tr>\n",
              "  </thead>\n",
              "  <tbody>\n",
              "    <tr>\n",
              "      <th>0</th>\n",
              "      <td>0</td>\n",
              "      <td>3</td>\n",
              "      <td>male</td>\n",
              "      <td>22.000000</td>\n",
              "      <td>1</td>\n",
              "      <td>0</td>\n",
              "      <td>7.2500</td>\n",
              "      <td>S</td>\n",
              "      <td>Third</td>\n",
              "      <td>man</td>\n",
              "      <td>True</td>\n",
              "      <td>NaN</td>\n",
              "      <td>Southampton</td>\n",
              "      <td>no</td>\n",
              "      <td>False</td>\n",
              "    </tr>\n",
              "    <tr>\n",
              "      <th>1</th>\n",
              "      <td>1</td>\n",
              "      <td>1</td>\n",
              "      <td>female</td>\n",
              "      <td>38.000000</td>\n",
              "      <td>1</td>\n",
              "      <td>0</td>\n",
              "      <td>71.2833</td>\n",
              "      <td>C</td>\n",
              "      <td>First</td>\n",
              "      <td>woman</td>\n",
              "      <td>False</td>\n",
              "      <td>C</td>\n",
              "      <td>Cherbourg</td>\n",
              "      <td>yes</td>\n",
              "      <td>False</td>\n",
              "    </tr>\n",
              "    <tr>\n",
              "      <th>2</th>\n",
              "      <td>1</td>\n",
              "      <td>3</td>\n",
              "      <td>female</td>\n",
              "      <td>26.000000</td>\n",
              "      <td>0</td>\n",
              "      <td>0</td>\n",
              "      <td>7.9250</td>\n",
              "      <td>S</td>\n",
              "      <td>Third</td>\n",
              "      <td>woman</td>\n",
              "      <td>False</td>\n",
              "      <td>NaN</td>\n",
              "      <td>Southampton</td>\n",
              "      <td>yes</td>\n",
              "      <td>True</td>\n",
              "    </tr>\n",
              "    <tr>\n",
              "      <th>3</th>\n",
              "      <td>1</td>\n",
              "      <td>1</td>\n",
              "      <td>female</td>\n",
              "      <td>35.000000</td>\n",
              "      <td>1</td>\n",
              "      <td>0</td>\n",
              "      <td>53.1000</td>\n",
              "      <td>S</td>\n",
              "      <td>First</td>\n",
              "      <td>woman</td>\n",
              "      <td>False</td>\n",
              "      <td>C</td>\n",
              "      <td>Southampton</td>\n",
              "      <td>yes</td>\n",
              "      <td>False</td>\n",
              "    </tr>\n",
              "    <tr>\n",
              "      <th>4</th>\n",
              "      <td>0</td>\n",
              "      <td>3</td>\n",
              "      <td>male</td>\n",
              "      <td>35.000000</td>\n",
              "      <td>0</td>\n",
              "      <td>0</td>\n",
              "      <td>8.0500</td>\n",
              "      <td>S</td>\n",
              "      <td>Third</td>\n",
              "      <td>man</td>\n",
              "      <td>True</td>\n",
              "      <td>NaN</td>\n",
              "      <td>Southampton</td>\n",
              "      <td>no</td>\n",
              "      <td>True</td>\n",
              "    </tr>\n",
              "    <tr>\n",
              "      <th>5</th>\n",
              "      <td>0</td>\n",
              "      <td>3</td>\n",
              "      <td>male</td>\n",
              "      <td>29.642093</td>\n",
              "      <td>0</td>\n",
              "      <td>0</td>\n",
              "      <td>8.4583</td>\n",
              "      <td>Q</td>\n",
              "      <td>Third</td>\n",
              "      <td>man</td>\n",
              "      <td>True</td>\n",
              "      <td>NaN</td>\n",
              "      <td>Queenstown</td>\n",
              "      <td>no</td>\n",
              "      <td>True</td>\n",
              "    </tr>\n",
              "    <tr>\n",
              "      <th>6</th>\n",
              "      <td>0</td>\n",
              "      <td>1</td>\n",
              "      <td>male</td>\n",
              "      <td>54.000000</td>\n",
              "      <td>0</td>\n",
              "      <td>0</td>\n",
              "      <td>51.8625</td>\n",
              "      <td>S</td>\n",
              "      <td>First</td>\n",
              "      <td>man</td>\n",
              "      <td>True</td>\n",
              "      <td>E</td>\n",
              "      <td>Southampton</td>\n",
              "      <td>no</td>\n",
              "      <td>True</td>\n",
              "    </tr>\n",
              "  </tbody>\n",
              "</table>\n",
              "</div>"
            ],
            "text/plain": [
              "   survived  pclass     sex        age  sibsp  parch     fare embarked  class  \\\n",
              "0         0       3    male  22.000000      1      0   7.2500        S  Third   \n",
              "1         1       1  female  38.000000      1      0  71.2833        C  First   \n",
              "2         1       3  female  26.000000      0      0   7.9250        S  Third   \n",
              "3         1       1  female  35.000000      1      0  53.1000        S  First   \n",
              "4         0       3    male  35.000000      0      0   8.0500        S  Third   \n",
              "5         0       3    male  29.642093      0      0   8.4583        Q  Third   \n",
              "6         0       1    male  54.000000      0      0  51.8625        S  First   \n",
              "\n",
              "     who  adult_male deck  embark_town alive  alone  \n",
              "0    man        True  NaN  Southampton    no  False  \n",
              "1  woman       False    C    Cherbourg   yes  False  \n",
              "2  woman       False  NaN  Southampton   yes   True  \n",
              "3  woman       False    C  Southampton   yes  False  \n",
              "4    man        True  NaN  Southampton    no   True  \n",
              "5    man        True  NaN   Queenstown    no   True  \n",
              "6    man        True    E  Southampton    no   True  "
            ]
          },
          "execution_count": 119,
          "metadata": {},
          "output_type": "execute_result"
        }
      ],
      "source": [
        "print(\"before: \", titanic['age'].isna().any())\n",
        "age_mean = titanic['age'].mean()\n",
        "titanic['age'].fillna(age_mean, inplace=True)\n",
        "print(\"after: \", titanic['age'].isna().any())\n",
        "titanic.head(7)"
      ]
    },
    {
      "cell_type": "markdown",
      "metadata": {
        "id": "NXOkdGHybZe9"
      },
      "source": [
        "## Option #3: Let it be ❄️\n",
        "\n",
        "What's so bad about missing data? Why do we care if some data is missing?\n",
        "\n",
        "What happens if we try to do math with `NaN`? Try it out for yourself:"
      ]
    },
    {
      "cell_type": "code",
      "execution_count": null,
      "metadata": {
        "id": "CngHdHC8bZe9"
      },
      "outputs": [],
      "source": [
        "import numpy as np\n",
        "a = np.nan"
      ]
    },
    {
      "cell_type": "code",
      "execution_count": null,
      "metadata": {
        "id": "E4r9d7-3bZe9"
      },
      "outputs": [],
      "source": [
        "#try out some addition/subtraction"
      ]
    },
    {
      "cell_type": "code",
      "execution_count": null,
      "metadata": {
        "id": "IH8FV4enbZe9"
      },
      "outputs": [],
      "source": [
        "#try out some multiplication/division"
      ]
    },
    {
      "cell_type": "code",
      "execution_count": null,
      "metadata": {
        "id": "SLUku3k8bZe-"
      },
      "outputs": [],
      "source": [
        "#what about taking something to the power? (**)"
      ]
    },
    {
      "cell_type": "code",
      "execution_count": null,
      "metadata": {
        "id": "ghu3y4b5bZe-"
      },
      "outputs": [],
      "source": [
        "# modulo or integer division? (% or //)"
      ]
    },
    {
      "cell_type": "code",
      "execution_count": null,
      "metadata": {
        "id": "Y2lSV0upbZe-"
      },
      "outputs": [],
      "source": [
        "# what about '=='? Is np.nan == np.nan?"
      ]
    },
    {
      "cell_type": "code",
      "execution_count": null,
      "metadata": {
        "id": "V22m0yjlbZe-",
        "outputId": "8cbf8c30-4ddb-42e4-e737-f8cd32d63205"
      },
      "outputs": [
        {
          "data": {
            "text/plain": [
              "2.5"
            ]
          },
          "execution_count": 99,
          "metadata": {},
          "output_type": "execute_result"
        }
      ],
      "source": [
        "# what happens if you take the average of this list of numbers?\n",
        "my_series = pd.Series([2,2,3,np.nan,3])\n",
        "my_series.mean()"
      ]
    },
    {
      "cell_type": "code",
      "execution_count": null,
      "metadata": {
        "id": "UtpZfHA1bZe-",
        "outputId": "52aace41-0833-49ec-d3b8-e1c1eedf1f35"
      },
      "outputs": [
        {
          "data": {
            "text/plain": [
              "2.5"
            ]
          },
          "execution_count": 102,
          "metadata": {},
          "output_type": "execute_result"
        }
      ],
      "source": [
        "my_series.median()"
      ]
    },
    {
      "cell_type": "markdown",
      "metadata": {
        "id": "EbC-VQy5bZe-"
      },
      "source": [
        "## Summary: Missing Data Functions\n",
        "- `isna()`: returns True for any missing data\n",
        "- `notna()`: returns True for any data that is __not__ `NaN`\n",
        "- `any()`: returns true if any of the elements in a Series is True\n",
        "- `value_counts()`: returns a list of the values in a Series, use `dropna=False` to see `NaN` values\n",
        "- `dropna()`: drops rows or columns (specify which axis, 1 or 0) that have missing data. Don't forget to either save the result of the call or add `inplace=True` as a parameter.\n",
        "- `fillna()`: replaces missing data with a given value (generally 0 or the mean)"
      ]
    },
    {
      "cell_type": "markdown",
      "metadata": {
        "id": "0UjSBC0YbZe-"
      },
      "source": [
        "# Normalization:\n",
        "\n",
        "__Normalizing data:__\n",
        "- rescale attrbute values so they're about the same\n",
        "- adjusting values measured on different scales to a common scale"
      ]
    },
    {
      "cell_type": "markdown",
      "metadata": {
        "id": "TrD38xrCbZe-"
      },
      "source": [
        "## A Simple Normalization:\n",
        "One simple method of normalizing data is to replace each value with a proportion relativeto the max value. \n",
        "\n",
        "For example, the oldest person on the Titanic was 80, so: \n",
        "\n",
        "| **age** | **replaced by** |\n",
        "|---------|:------------------|\n",
        "| 80      | 80/80 = 1        |\n",
        "| 50      | 50/80 = 0.625    |\n",
        "| 48      | 48/80 = 0.6      |\n",
        "| 25      | 25/80 = 0.3125   |\n",
        "| 4       | 4/80 = 0.05      |"
      ]
    },
    {
      "cell_type": "markdown",
      "metadata": {
        "id": "tCU6lQ3vbZe_"
      },
      "source": [
        "## Before Normalization\n",
        "<div>\n",
        "<img src=\"images/day03_zscore_improvement.png\" width=600/>\n",
        "</div>\n",
        "\n",
        "### Age is overemphasized here"
      ]
    },
    {
      "cell_type": "markdown",
      "metadata": {
        "id": "NOOtTcXlbZe_"
      },
      "source": [
        "## After Normalization\n",
        "\n",
        "<div>\n",
        "<img src=\"images/day03_norm_dist1.png\"/>\n",
        "</div>\n",
        "\n",
        "### Now is sex over-emphasized?"
      ]
    },
    {
      "cell_type": "markdown",
      "metadata": {
        "id": "KaQ_uKK-bZe_"
      },
      "source": [
        "## Z-Score: Another Normalization Method\n",
        "\n",
        "__Idea__: rather than normalize to proportion of max, normalize based on how mnay standard deviations they are away from the mean.\n",
        "\n",
        "__Standard Deviation__: usually represened as $\\sigma$ (sigma), a kind of 'average' distance from the average value. \n",
        "- a low standard deviation indicates that the values tend to be close to the mean\n",
        "- a high standard deviation indicates that the values are spread out over a wider range."
      ]
    },
    {
      "cell_type": "markdown",
      "metadata": {
        "id": "mNP0PaFFbZe_"
      },
      "source": [
        "## Standard Deviation:\n",
        "<div>\n",
        "<img src=\"images/day03_std.png\" width=600/>\n",
        "</div>"
      ]
    },
    {
      "cell_type": "markdown",
      "metadata": {
        "id": "kbrgFY-abZe_"
      },
      "source": [
        "## Standard Deviation Calculation:\n",
        "\n",
        "## $\\sigma = \\sqrt{\\frac{1}{N}\\sum_{i=1}^{N}(x_i - \\mu)^2}$\n",
        "\n",
        "1. Find the mean, represented as $\\mu$ (mu)\n",
        "2. Then, for each number, subtract the mean and square the result.\n",
        "3. Then, find the mean of those squared differences. \n",
        "4. Take the square root of tht and we are done. \n",
        "\n",
        "Let $\\mu$ be the mean, then standard deviation of $x_1, x+2, ..., x_N$ is:\n",
        "\n",
        "## $\\sigma = \\sqrt{\\frac{(x_1-\\mu)^2 + (x_2 - \\mu)^2+ ... + (x_N-\\mu)^2}{N}}$"
      ]
    },
    {
      "cell_type": "markdown",
      "metadata": {
        "id": "Iqis7vkSbZe_"
      },
      "source": [
        "# Corrected Sample Standard Deviation\n",
        "\n",
        "The mean of a sample tends to be a good estimate for the mean of the entire population (on average), but.. \n",
        "- standard deviation of samples tend to be _smaller_ than the standard deviation of the entier population.\n",
        "\n",
        "__Bessel's correction__ says that you should divide by $N-1$ instead of N when working with a sample (as we usually do in machine learning tasks), and your estimate will be a little less biased. \n",
        "\n",
        "## $\\sigma = \\sqrt{\\frac{(x_1-\\mu)^2 + (x_2 - \\mu)^2+ ... + (x_N-\\mu)^2}{N-1}}$"
      ]
    },
    {
      "cell_type": "markdown",
      "metadata": {
        "id": "micjEnE_bZfA"
      },
      "source": [
        "# Computing the Z-Score\n",
        "After computing the corrected sample standard deviation,\n",
        "\n",
        "to normlaize, replace each value $x_i$ with it's Z-Socre based on the mean ($\\mu$) and standard deviation ($\\sigma$) of it's column. \n",
        "\n",
        "## $Z-score: \\frac{x_i- \\mu}{\\sigma}$"
      ]
    },
    {
      "cell_type": "markdown",
      "metadata": {
        "id": "PhuiPXcubZfA"
      },
      "source": [
        "## Exampe Z-Score Calculation\n",
        "\n",
        "For example: \n",
        "On the Titanic:\n",
        "- sex mean(0:male, 1:female): 0.35\n",
        "- sex standard deviation: 0.48\n",
        "- age mean: 29.7\n",
        "- age standard deviation: 13\n",
        "\n",
        "<div>\n",
        "<img src=\"images/day03_zscore.png\" width=600/>\n",
        "</div>"
      ]
    },
    {
      "cell_type": "markdown",
      "metadata": {
        "id": "zn0YjeaQbZfA"
      },
      "source": [
        "\n",
        "<div>\n",
        "<img src=\"images/day03_zscore_ex.png\" width=600/>\n",
        "</div>"
      ]
    },
    {
      "cell_type": "markdown",
      "metadata": {
        "id": "XDXidpQUbZfA"
      },
      "source": [
        "# Normalization Code:\n",
        "Let's try out some code now:\n",
        "\n"
      ]
    },
    {
      "cell_type": "code",
      "execution_count": null,
      "metadata": {
        "id": "wF9KvQebbZfA",
        "outputId": "f135040c-366d-4ac0-a781-c3a8b6f2d972"
      },
      "outputs": [
        {
          "data": {
            "text/html": [
              "<div>\n",
              "<style scoped>\n",
              "    .dataframe tbody tr th:only-of-type {\n",
              "        vertical-align: middle;\n",
              "    }\n",
              "\n",
              "    .dataframe tbody tr th {\n",
              "        vertical-align: top;\n",
              "    }\n",
              "\n",
              "    .dataframe thead th {\n",
              "        text-align: right;\n",
              "    }\n",
              "</style>\n",
              "<table border=\"1\" class=\"dataframe\">\n",
              "  <thead>\n",
              "    <tr style=\"text-align: right;\">\n",
              "      <th></th>\n",
              "      <th>survived</th>\n",
              "      <th>pclass</th>\n",
              "      <th>sex</th>\n",
              "      <th>age</th>\n",
              "      <th>sibsp</th>\n",
              "      <th>parch</th>\n",
              "      <th>fare</th>\n",
              "      <th>embarked</th>\n",
              "      <th>class</th>\n",
              "      <th>who</th>\n",
              "      <th>adult_male</th>\n",
              "      <th>deck</th>\n",
              "      <th>embark_town</th>\n",
              "      <th>alive</th>\n",
              "      <th>alone</th>\n",
              "    </tr>\n",
              "  </thead>\n",
              "  <tbody>\n",
              "    <tr>\n",
              "      <th>0</th>\n",
              "      <td>0</td>\n",
              "      <td>3</td>\n",
              "      <td>male</td>\n",
              "      <td>22.0</td>\n",
              "      <td>1</td>\n",
              "      <td>0</td>\n",
              "      <td>7.2500</td>\n",
              "      <td>S</td>\n",
              "      <td>Third</td>\n",
              "      <td>man</td>\n",
              "      <td>True</td>\n",
              "      <td>NaN</td>\n",
              "      <td>Southampton</td>\n",
              "      <td>no</td>\n",
              "      <td>False</td>\n",
              "    </tr>\n",
              "    <tr>\n",
              "      <th>1</th>\n",
              "      <td>1</td>\n",
              "      <td>1</td>\n",
              "      <td>female</td>\n",
              "      <td>38.0</td>\n",
              "      <td>1</td>\n",
              "      <td>0</td>\n",
              "      <td>71.2833</td>\n",
              "      <td>C</td>\n",
              "      <td>First</td>\n",
              "      <td>woman</td>\n",
              "      <td>False</td>\n",
              "      <td>C</td>\n",
              "      <td>Cherbourg</td>\n",
              "      <td>yes</td>\n",
              "      <td>False</td>\n",
              "    </tr>\n",
              "    <tr>\n",
              "      <th>2</th>\n",
              "      <td>1</td>\n",
              "      <td>3</td>\n",
              "      <td>female</td>\n",
              "      <td>26.0</td>\n",
              "      <td>0</td>\n",
              "      <td>0</td>\n",
              "      <td>7.9250</td>\n",
              "      <td>S</td>\n",
              "      <td>Third</td>\n",
              "      <td>woman</td>\n",
              "      <td>False</td>\n",
              "      <td>NaN</td>\n",
              "      <td>Southampton</td>\n",
              "      <td>yes</td>\n",
              "      <td>True</td>\n",
              "    </tr>\n",
              "    <tr>\n",
              "      <th>3</th>\n",
              "      <td>1</td>\n",
              "      <td>1</td>\n",
              "      <td>female</td>\n",
              "      <td>35.0</td>\n",
              "      <td>1</td>\n",
              "      <td>0</td>\n",
              "      <td>53.1000</td>\n",
              "      <td>S</td>\n",
              "      <td>First</td>\n",
              "      <td>woman</td>\n",
              "      <td>False</td>\n",
              "      <td>C</td>\n",
              "      <td>Southampton</td>\n",
              "      <td>yes</td>\n",
              "      <td>False</td>\n",
              "    </tr>\n",
              "    <tr>\n",
              "      <th>4</th>\n",
              "      <td>0</td>\n",
              "      <td>3</td>\n",
              "      <td>male</td>\n",
              "      <td>35.0</td>\n",
              "      <td>0</td>\n",
              "      <td>0</td>\n",
              "      <td>8.0500</td>\n",
              "      <td>S</td>\n",
              "      <td>Third</td>\n",
              "      <td>man</td>\n",
              "      <td>True</td>\n",
              "      <td>NaN</td>\n",
              "      <td>Southampton</td>\n",
              "      <td>no</td>\n",
              "      <td>True</td>\n",
              "    </tr>\n",
              "  </tbody>\n",
              "</table>\n",
              "</div>"
            ],
            "text/plain": [
              "   survived  pclass     sex   age  sibsp  parch     fare embarked  class  \\\n",
              "0         0       3    male  22.0      1      0   7.2500        S  Third   \n",
              "1         1       1  female  38.0      1      0  71.2833        C  First   \n",
              "2         1       3  female  26.0      0      0   7.9250        S  Third   \n",
              "3         1       1  female  35.0      1      0  53.1000        S  First   \n",
              "4         0       3    male  35.0      0      0   8.0500        S  Third   \n",
              "\n",
              "     who  adult_male deck  embark_town alive  alone  \n",
              "0    man        True  NaN  Southampton    no  False  \n",
              "1  woman       False    C    Cherbourg   yes  False  \n",
              "2  woman       False  NaN  Southampton   yes   True  \n",
              "3  woman       False    C  Southampton   yes  False  \n",
              "4    man        True  NaN  Southampton    no   True  "
            ]
          },
          "execution_count": 120,
          "metadata": {},
          "output_type": "execute_result"
        }
      ],
      "source": [
        "#make sure your data is loaded and ready to go (one of the top few cells)\n",
        "titanic.head()"
      ]
    },
    {
      "cell_type": "markdown",
      "metadata": {
        "id": "4Pf_mvATbZfA"
      },
      "source": [
        "## New function `replace()`\n",
        "\n",
        "Called on a dataframe, will repalce values given in `to_replace` with `value`. \n",
        "\n",
        "Let's use this to make the `sex` column of the dataset numeric."
      ]
    },
    {
      "cell_type": "code",
      "execution_count": null,
      "metadata": {
        "id": "Ii5drJ_ObZfA",
        "outputId": "03529bfc-fb1f-42e0-8702-a8012847fcbb"
      },
      "outputs": [
        {
          "data": {
            "text/html": [
              "<div>\n",
              "<style scoped>\n",
              "    .dataframe tbody tr th:only-of-type {\n",
              "        vertical-align: middle;\n",
              "    }\n",
              "\n",
              "    .dataframe tbody tr th {\n",
              "        vertical-align: top;\n",
              "    }\n",
              "\n",
              "    .dataframe thead th {\n",
              "        text-align: right;\n",
              "    }\n",
              "</style>\n",
              "<table border=\"1\" class=\"dataframe\">\n",
              "  <thead>\n",
              "    <tr style=\"text-align: right;\">\n",
              "      <th></th>\n",
              "      <th>survived</th>\n",
              "      <th>pclass</th>\n",
              "      <th>sex</th>\n",
              "      <th>age</th>\n",
              "      <th>sibsp</th>\n",
              "      <th>parch</th>\n",
              "      <th>fare</th>\n",
              "      <th>embarked</th>\n",
              "      <th>class</th>\n",
              "      <th>who</th>\n",
              "      <th>adult_male</th>\n",
              "      <th>deck</th>\n",
              "      <th>embark_town</th>\n",
              "      <th>alive</th>\n",
              "      <th>alone</th>\n",
              "    </tr>\n",
              "  </thead>\n",
              "  <tbody>\n",
              "    <tr>\n",
              "      <th>0</th>\n",
              "      <td>0</td>\n",
              "      <td>3</td>\n",
              "      <td>0</td>\n",
              "      <td>22.0</td>\n",
              "      <td>1</td>\n",
              "      <td>0</td>\n",
              "      <td>7.2500</td>\n",
              "      <td>S</td>\n",
              "      <td>Third</td>\n",
              "      <td>man</td>\n",
              "      <td>True</td>\n",
              "      <td>NaN</td>\n",
              "      <td>Southampton</td>\n",
              "      <td>no</td>\n",
              "      <td>False</td>\n",
              "    </tr>\n",
              "    <tr>\n",
              "      <th>1</th>\n",
              "      <td>1</td>\n",
              "      <td>1</td>\n",
              "      <td>1</td>\n",
              "      <td>38.0</td>\n",
              "      <td>1</td>\n",
              "      <td>0</td>\n",
              "      <td>71.2833</td>\n",
              "      <td>C</td>\n",
              "      <td>First</td>\n",
              "      <td>woman</td>\n",
              "      <td>False</td>\n",
              "      <td>C</td>\n",
              "      <td>Cherbourg</td>\n",
              "      <td>yes</td>\n",
              "      <td>False</td>\n",
              "    </tr>\n",
              "    <tr>\n",
              "      <th>2</th>\n",
              "      <td>1</td>\n",
              "      <td>3</td>\n",
              "      <td>1</td>\n",
              "      <td>26.0</td>\n",
              "      <td>0</td>\n",
              "      <td>0</td>\n",
              "      <td>7.9250</td>\n",
              "      <td>S</td>\n",
              "      <td>Third</td>\n",
              "      <td>woman</td>\n",
              "      <td>False</td>\n",
              "      <td>NaN</td>\n",
              "      <td>Southampton</td>\n",
              "      <td>yes</td>\n",
              "      <td>True</td>\n",
              "    </tr>\n",
              "    <tr>\n",
              "      <th>3</th>\n",
              "      <td>1</td>\n",
              "      <td>1</td>\n",
              "      <td>1</td>\n",
              "      <td>35.0</td>\n",
              "      <td>1</td>\n",
              "      <td>0</td>\n",
              "      <td>53.1000</td>\n",
              "      <td>S</td>\n",
              "      <td>First</td>\n",
              "      <td>woman</td>\n",
              "      <td>False</td>\n",
              "      <td>C</td>\n",
              "      <td>Southampton</td>\n",
              "      <td>yes</td>\n",
              "      <td>False</td>\n",
              "    </tr>\n",
              "    <tr>\n",
              "      <th>4</th>\n",
              "      <td>0</td>\n",
              "      <td>3</td>\n",
              "      <td>0</td>\n",
              "      <td>35.0</td>\n",
              "      <td>0</td>\n",
              "      <td>0</td>\n",
              "      <td>8.0500</td>\n",
              "      <td>S</td>\n",
              "      <td>Third</td>\n",
              "      <td>man</td>\n",
              "      <td>True</td>\n",
              "      <td>NaN</td>\n",
              "      <td>Southampton</td>\n",
              "      <td>no</td>\n",
              "      <td>True</td>\n",
              "    </tr>\n",
              "  </tbody>\n",
              "</table>\n",
              "</div>"
            ],
            "text/plain": [
              "   survived  pclass  sex   age  sibsp  parch     fare embarked  class    who  \\\n",
              "0         0       3    0  22.0      1      0   7.2500        S  Third    man   \n",
              "1         1       1    1  38.0      1      0  71.2833        C  First  woman   \n",
              "2         1       3    1  26.0      0      0   7.9250        S  Third  woman   \n",
              "3         1       1    1  35.0      1      0  53.1000        S  First  woman   \n",
              "4         0       3    0  35.0      0      0   8.0500        S  Third    man   \n",
              "\n",
              "   adult_male deck  embark_town alive  alone  \n",
              "0        True  NaN  Southampton    no  False  \n",
              "1       False    C    Cherbourg   yes  False  \n",
              "2       False  NaN  Southampton   yes   True  \n",
              "3       False    C  Southampton   yes  False  \n",
              "4        True  NaN  Southampton    no   True  "
            ]
          },
          "execution_count": 121,
          "metadata": {},
          "output_type": "execute_result"
        }
      ],
      "source": [
        "titanic['sex'] = titanic['sex'].replace(to_replace='female', value=1)\n",
        "titanic['sex'] = titanic['sex'].replace(to_replace='male', value=0)\n",
        "titanic.head()"
      ]
    },
    {
      "cell_type": "markdown",
      "metadata": {
        "id": "AdRuUqKibZfA"
      },
      "source": [
        "## Calculating z-score:\n",
        "Now that we have the data as 1s and 0s, let's calculate the mean and standard deviation."
      ]
    },
    {
      "cell_type": "code",
      "execution_count": null,
      "metadata": {
        "id": "PF23GXu1bZfB",
        "outputId": "994d5cc0-15f7-4226-9e41-86bf98a1ac51"
      },
      "outputs": [
        {
          "data": {
            "text/html": [
              "<div>\n",
              "<style scoped>\n",
              "    .dataframe tbody tr th:only-of-type {\n",
              "        vertical-align: middle;\n",
              "    }\n",
              "\n",
              "    .dataframe tbody tr th {\n",
              "        vertical-align: top;\n",
              "    }\n",
              "\n",
              "    .dataframe thead th {\n",
              "        text-align: right;\n",
              "    }\n",
              "</style>\n",
              "<table border=\"1\" class=\"dataframe\">\n",
              "  <thead>\n",
              "    <tr style=\"text-align: right;\">\n",
              "      <th></th>\n",
              "      <th>survived</th>\n",
              "      <th>pclass</th>\n",
              "      <th>sex</th>\n",
              "      <th>age</th>\n",
              "      <th>sibsp</th>\n",
              "      <th>parch</th>\n",
              "      <th>fare</th>\n",
              "      <th>embarked</th>\n",
              "      <th>class</th>\n",
              "      <th>who</th>\n",
              "      <th>adult_male</th>\n",
              "      <th>deck</th>\n",
              "      <th>embark_town</th>\n",
              "      <th>alive</th>\n",
              "      <th>alone</th>\n",
              "    </tr>\n",
              "  </thead>\n",
              "  <tbody>\n",
              "    <tr>\n",
              "      <th>0</th>\n",
              "      <td>0</td>\n",
              "      <td>3</td>\n",
              "      <td>-0.737281</td>\n",
              "      <td>22.0</td>\n",
              "      <td>1</td>\n",
              "      <td>0</td>\n",
              "      <td>7.2500</td>\n",
              "      <td>S</td>\n",
              "      <td>Third</td>\n",
              "      <td>man</td>\n",
              "      <td>True</td>\n",
              "      <td>NaN</td>\n",
              "      <td>Southampton</td>\n",
              "      <td>no</td>\n",
              "      <td>False</td>\n",
              "    </tr>\n",
              "    <tr>\n",
              "      <th>1</th>\n",
              "      <td>1</td>\n",
              "      <td>1</td>\n",
              "      <td>1.354813</td>\n",
              "      <td>38.0</td>\n",
              "      <td>1</td>\n",
              "      <td>0</td>\n",
              "      <td>71.2833</td>\n",
              "      <td>C</td>\n",
              "      <td>First</td>\n",
              "      <td>woman</td>\n",
              "      <td>False</td>\n",
              "      <td>C</td>\n",
              "      <td>Cherbourg</td>\n",
              "      <td>yes</td>\n",
              "      <td>False</td>\n",
              "    </tr>\n",
              "    <tr>\n",
              "      <th>2</th>\n",
              "      <td>1</td>\n",
              "      <td>3</td>\n",
              "      <td>1.354813</td>\n",
              "      <td>26.0</td>\n",
              "      <td>0</td>\n",
              "      <td>0</td>\n",
              "      <td>7.9250</td>\n",
              "      <td>S</td>\n",
              "      <td>Third</td>\n",
              "      <td>woman</td>\n",
              "      <td>False</td>\n",
              "      <td>NaN</td>\n",
              "      <td>Southampton</td>\n",
              "      <td>yes</td>\n",
              "      <td>True</td>\n",
              "    </tr>\n",
              "    <tr>\n",
              "      <th>3</th>\n",
              "      <td>1</td>\n",
              "      <td>1</td>\n",
              "      <td>1.354813</td>\n",
              "      <td>35.0</td>\n",
              "      <td>1</td>\n",
              "      <td>0</td>\n",
              "      <td>53.1000</td>\n",
              "      <td>S</td>\n",
              "      <td>First</td>\n",
              "      <td>woman</td>\n",
              "      <td>False</td>\n",
              "      <td>C</td>\n",
              "      <td>Southampton</td>\n",
              "      <td>yes</td>\n",
              "      <td>False</td>\n",
              "    </tr>\n",
              "    <tr>\n",
              "      <th>4</th>\n",
              "      <td>0</td>\n",
              "      <td>3</td>\n",
              "      <td>-0.737281</td>\n",
              "      <td>35.0</td>\n",
              "      <td>0</td>\n",
              "      <td>0</td>\n",
              "      <td>8.0500</td>\n",
              "      <td>S</td>\n",
              "      <td>Third</td>\n",
              "      <td>man</td>\n",
              "      <td>True</td>\n",
              "      <td>NaN</td>\n",
              "      <td>Southampton</td>\n",
              "      <td>no</td>\n",
              "      <td>True</td>\n",
              "    </tr>\n",
              "  </tbody>\n",
              "</table>\n",
              "</div>"
            ],
            "text/plain": [
              "   survived  pclass       sex   age  sibsp  parch     fare embarked  class  \\\n",
              "0         0       3 -0.737281  22.0      1      0   7.2500        S  Third   \n",
              "1         1       1  1.354813  38.0      1      0  71.2833        C  First   \n",
              "2         1       3  1.354813  26.0      0      0   7.9250        S  Third   \n",
              "3         1       1  1.354813  35.0      1      0  53.1000        S  First   \n",
              "4         0       3 -0.737281  35.0      0      0   8.0500        S  Third   \n",
              "\n",
              "     who  adult_male deck  embark_town alive  alone  \n",
              "0    man        True  NaN  Southampton    no  False  \n",
              "1  woman       False    C    Cherbourg   yes  False  \n",
              "2  woman       False  NaN  Southampton   yes   True  \n",
              "3  woman       False    C  Southampton   yes  False  \n",
              "4    man        True  NaN  Southampton    no   True  "
            ]
          },
          "execution_count": 108,
          "metadata": {},
          "output_type": "execute_result"
        }
      ],
      "source": [
        "s_mean = titanic.sex.mean()\n",
        "s_std = titanic.sex.std()\n",
        "\n",
        "#replace column with each entry's z-score\n",
        "titanic.sex = (titanic.sex - s_mean)/s_std\n",
        "titanic.head()"
      ]
    },
    {
      "cell_type": "markdown",
      "metadata": {
        "id": "75_ObYy5bZfB"
      },
      "source": [
        "Next, you'd need to repeat this process for all of the predictor columns -- so they're all of compareable size. "
      ]
    },
    {
      "cell_type": "markdown",
      "metadata": {
        "id": "RZPZi_RrbZfB"
      },
      "source": [
        "## Exercise: \n",
        "\n",
        "Normalize each of the predictor columns in the iris dataset.\n",
        "\n",
        "> Note: you need a way to transform the new reading (the specimen) that you will make the precition on so that the new one and the training data will all be on the same sclae. How can you do that?\n",
        "\n",
        "Repeat your kNN prediction code with the normalized data. \n",
        "- Does the value of k change the predictions? "
      ]
    },
    {
      "cell_type": "code",
      "execution_count": null,
      "metadata": {
        "id": "9XYJBb_tbZfB"
      },
      "outputs": [],
      "source": []
    }
  ],
  "metadata": {
    "celltoolbar": "Slideshow",
    "kernelspec": {
      "display_name": "Python 3",
      "language": "python",
      "name": "python3"
    },
    "language_info": {
      "codemirror_mode": {
        "name": "ipython",
        "version": 3
      },
      "file_extension": ".py",
      "mimetype": "text/x-python",
      "name": "python",
      "nbconvert_exporter": "python",
      "pygments_lexer": "ipython3",
      "version": "3.8.3"
    },
    "colab": {
      "provenance": [],
      "include_colab_link": true
    }
  },
  "nbformat": 4,
  "nbformat_minor": 0
}