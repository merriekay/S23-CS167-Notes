{
  "cells": [
    {
      "cell_type": "markdown",
      "metadata": {
        "id": "view-in-github",
        "colab_type": "text"
      },
      "source": [
        "<a href=\"https://colab.research.google.com/github/merriekay/S23-CS167-Notes/blob/main/Day06_Normalization_and_w_knn.ipynb\" target=\"_parent\"><img src=\"https://colab.research.google.com/assets/colab-badge.svg\" alt=\"Open In Colab\"/></a>"
      ]
    },
    {
      "cell_type": "markdown",
      "metadata": {
        "id": "2kN5SppQuYFw"
      },
      "source": [
        "# CS167: Day06\n",
        "## Weighted k Nearest Neighbors\n",
        "\n",
        "#### CS167: Machine Learning, Spring 2023\n",
        "\n",
        "Tuesday, February 14th 💖, 2023\n",
        "\n",
        "📆 [Course Schedule](https://docs.google.com/spreadsheets/d/e/2PACX-1vSvFV5Mz0_YZE1d5r3gQ8IMktE4cBAsJIlP30cl2GhEpSO0J-YWV62QokSDz-OcOCsEmxMuKpY0kVlR/pubhtml?gid=0&single=true) | 🙋[PollEverywhere](https://pollev.com/meredithmoore011) | 📜 [Syllabus](https://analytics.drake.edu/~moore/cs167_s23_syllabus.html) | 📬 [CodePost Login](https://codepost.io/login)"
      ]
    },
    {
      "cell_type": "markdown",
      "metadata": {
        "id": "8sxRd-aeuYF0"
      },
      "source": [
        "# Overview of Today:\n",
        "\n",
        "Normalization\n",
        "\n",
        "Weighted k-NN\n"
      ]
    },
    {
      "cell_type": "markdown",
      "metadata": {
        "id": "fcbRPbKGuYF0"
      },
      "source": [
        "# Admin Stuff\n",
        "Grading:\n",
        "- Notebook #1 is graded, scores and feedback are posted on CodePost, let me know if you have any questions.\n",
        "\n",
        "\n",
        "You should be working on:\n",
        "- [Notebook #2](https://classroom.github.com/a/d6K-Q-t8): due **Thursday, February 16th, 2023 by 11:59pm** \n",
        "- Heads up that **Quiz #1 will be released today after class (~2:00pm)**, due next Tuesday, 2/21 by 11:49pm.\n",
        "    - To be completed individually\n",
        "    - Only one chance to hit 'submit'\n",
        "    - Cite any materials that you use outside of class"
      ]
    },
    {
      "cell_type": "markdown",
      "metadata": {
        "id": "D8gTTD7ruYF1"
      },
      "source": [
        "## Can't forget to load our data:\n",
        "\n",
        "And some of our favorite modulues, `pandas` and `numpy`"
      ]
    },
    {
      "cell_type": "code",
      "execution_count": null,
      "metadata": {
        "id": "Q6hUR-4juYF1"
      },
      "outputs": [],
      "source": [
        "#run this cell if you're using Colab:\n",
        "from google.colab import drive\n",
        "drive.mount('/content/drive')"
      ]
    },
    {
      "cell_type": "code",
      "execution_count": null,
      "metadata": {
        "id": "lJfSirb5uYF3",
        "outputId": "15f84562-e4c1-48b0-b741-3020daf918ea"
      },
      "outputs": [
        {
          "data": {
            "text/html": [
              "<div>\n",
              "<style scoped>\n",
              "    .dataframe tbody tr th:only-of-type {\n",
              "        vertical-align: middle;\n",
              "    }\n",
              "\n",
              "    .dataframe tbody tr th {\n",
              "        vertical-align: top;\n",
              "    }\n",
              "\n",
              "    .dataframe thead th {\n",
              "        text-align: right;\n",
              "    }\n",
              "</style>\n",
              "<table border=\"1\" class=\"dataframe\">\n",
              "  <thead>\n",
              "    <tr style=\"text-align: right;\">\n",
              "      <th></th>\n",
              "      <th>survived</th>\n",
              "      <th>pclass</th>\n",
              "      <th>sex</th>\n",
              "      <th>age</th>\n",
              "      <th>sibsp</th>\n",
              "      <th>parch</th>\n",
              "      <th>fare</th>\n",
              "      <th>embarked</th>\n",
              "      <th>class</th>\n",
              "      <th>who</th>\n",
              "      <th>adult_male</th>\n",
              "      <th>deck</th>\n",
              "      <th>embark_town</th>\n",
              "      <th>alive</th>\n",
              "      <th>alone</th>\n",
              "    </tr>\n",
              "  </thead>\n",
              "  <tbody>\n",
              "    <tr>\n",
              "      <th>0</th>\n",
              "      <td>0</td>\n",
              "      <td>3</td>\n",
              "      <td>male</td>\n",
              "      <td>22.0</td>\n",
              "      <td>1</td>\n",
              "      <td>0</td>\n",
              "      <td>7.2500</td>\n",
              "      <td>S</td>\n",
              "      <td>Third</td>\n",
              "      <td>man</td>\n",
              "      <td>True</td>\n",
              "      <td>NaN</td>\n",
              "      <td>Southampton</td>\n",
              "      <td>no</td>\n",
              "      <td>False</td>\n",
              "    </tr>\n",
              "    <tr>\n",
              "      <th>1</th>\n",
              "      <td>1</td>\n",
              "      <td>1</td>\n",
              "      <td>female</td>\n",
              "      <td>38.0</td>\n",
              "      <td>1</td>\n",
              "      <td>0</td>\n",
              "      <td>71.2833</td>\n",
              "      <td>C</td>\n",
              "      <td>First</td>\n",
              "      <td>woman</td>\n",
              "      <td>False</td>\n",
              "      <td>C</td>\n",
              "      <td>Cherbourg</td>\n",
              "      <td>yes</td>\n",
              "      <td>False</td>\n",
              "    </tr>\n",
              "    <tr>\n",
              "      <th>2</th>\n",
              "      <td>1</td>\n",
              "      <td>3</td>\n",
              "      <td>female</td>\n",
              "      <td>26.0</td>\n",
              "      <td>0</td>\n",
              "      <td>0</td>\n",
              "      <td>7.9250</td>\n",
              "      <td>S</td>\n",
              "      <td>Third</td>\n",
              "      <td>woman</td>\n",
              "      <td>False</td>\n",
              "      <td>NaN</td>\n",
              "      <td>Southampton</td>\n",
              "      <td>yes</td>\n",
              "      <td>True</td>\n",
              "    </tr>\n",
              "    <tr>\n",
              "      <th>3</th>\n",
              "      <td>1</td>\n",
              "      <td>1</td>\n",
              "      <td>female</td>\n",
              "      <td>35.0</td>\n",
              "      <td>1</td>\n",
              "      <td>0</td>\n",
              "      <td>53.1000</td>\n",
              "      <td>S</td>\n",
              "      <td>First</td>\n",
              "      <td>woman</td>\n",
              "      <td>False</td>\n",
              "      <td>C</td>\n",
              "      <td>Southampton</td>\n",
              "      <td>yes</td>\n",
              "      <td>False</td>\n",
              "    </tr>\n",
              "    <tr>\n",
              "      <th>4</th>\n",
              "      <td>0</td>\n",
              "      <td>3</td>\n",
              "      <td>male</td>\n",
              "      <td>35.0</td>\n",
              "      <td>0</td>\n",
              "      <td>0</td>\n",
              "      <td>8.0500</td>\n",
              "      <td>S</td>\n",
              "      <td>Third</td>\n",
              "      <td>man</td>\n",
              "      <td>True</td>\n",
              "      <td>NaN</td>\n",
              "      <td>Southampton</td>\n",
              "      <td>no</td>\n",
              "      <td>True</td>\n",
              "    </tr>\n",
              "  </tbody>\n",
              "</table>\n",
              "</div>"
            ],
            "text/plain": [
              "   survived  pclass     sex   age  sibsp  parch     fare embarked  class  \\\n",
              "0         0       3    male  22.0      1      0   7.2500        S  Third   \n",
              "1         1       1  female  38.0      1      0  71.2833        C  First   \n",
              "2         1       3  female  26.0      0      0   7.9250        S  Third   \n",
              "3         1       1  female  35.0      1      0  53.1000        S  First   \n",
              "4         0       3    male  35.0      0      0   8.0500        S  Third   \n",
              "\n",
              "     who  adult_male deck  embark_town alive  alone  \n",
              "0    man        True  NaN  Southampton    no  False  \n",
              "1  woman       False    C    Cherbourg   yes  False  \n",
              "2  woman       False  NaN  Southampton   yes   True  \n",
              "3  woman       False    C  Southampton   yes  False  \n",
              "4    man        True  NaN  Southampton    no   True  "
            ]
          },
          "execution_count": 9,
          "metadata": {},
          "output_type": "execute_result"
        }
      ],
      "source": [
        "#import the data:\n",
        "#make sure the path on the line below corresponds to the path where you put your dataset.\n",
        "import pandas as pd\n",
        "import numpy as np\n",
        "path = 'datasets/penguins_size.csv' #'/content/drive/MyDrive/CS167/datasets/penguins_size.csv'\n",
        "penguins = pd.read_csv(path)\n",
        "penguins.head()\n",
        "\n",
        "path1 = 'datasets/irisData.csv' #'/content/drive/MyDrive/CS167/datasets/irisData.csv'\n",
        "iris = pd.read_csv(path1)\n",
        "iris.head()\n",
        "\n",
        "path2 = 'datasets/titanic.csv' #'/content/drive/MyDrive/CS167/datasets/titanic.csv'\n",
        "titanic = pd.read_csv(path2)\n",
        "titanic.head()"
      ]
    },
    {
      "cell_type": "markdown",
      "metadata": {
        "id": "XZd1IrFguYF4"
      },
      "source": [
        "# Quick Review: Missing Data:\n",
        "Most datasets you will work with will not be in perfect shape--you'll need to \"clean\" the data before you can run any machine learning algorithms on it.\n",
        "\n",
        "Missing data is a pretty common thing--so much so that there's a special value for missing data: `NaN`, or not a number."
      ]
    },
    {
      "cell_type": "markdown",
      "metadata": {
        "id": "mVtAGAaguYF4"
      },
      "source": [
        "The steps of cleaning data normally include:\n",
        "1. Identifying which columns have missing data `df.isna().any()`\n",
        "2. Determining how much data is missing in each column `df.col_missing_data.value_counts(dropna=False)`\n",
        "3. Deciding what to do with the missing data: drop it `dropna()`, fill it `fillna()`, let it be \n",
        "    - Remember to either save the returned result `result = df.whatever_column.dropna()`, or use `df.whatever_column.dropna(inplace=True)`"
      ]
    },
    {
      "cell_type": "markdown",
      "metadata": {
        "id": "RXQtnAenuYF5"
      },
      "source": [
        "## Summary: Missing Data Functions\n",
        "- `isna()`: returns True for any missing data\n",
        "- `notna()`: returns True for any data that is __not__ `NaN`\n",
        "- `any()`: returns true if any of the elements in a Series is True\n",
        "- `value_counts()`: returns a list of the values in a Series, use `dropna=False` to see `NaN` values\n",
        "- `dropna()`: drops rows or columns (specify which axis, 1 or 0) that have missing data. Don't forget to either save the result of the call or add `inplace=True` as a parameter.\n",
        "- `fillna()`: replaces missing data with a given value (generally 0 or the mean)"
      ]
    },
    {
      "cell_type": "markdown",
      "metadata": {
        "id": "lLrBPhJjuYF5"
      },
      "source": [
        "## 💻 Review Exercise: \n",
        "\n",
        "Take care of the missing data in the penguin dataset 🐧."
      ]
    },
    {
      "cell_type": "code",
      "execution_count": null,
      "metadata": {
        "id": "cglWptTouYF6"
      },
      "outputs": [],
      "source": [
        "# step 1: identify which columns are missing data"
      ]
    },
    {
      "cell_type": "code",
      "execution_count": null,
      "metadata": {
        "id": "CojUL-TIuYF6"
      },
      "outputs": [],
      "source": [
        "# step 2: determine how much data is missing from each column that is missing data"
      ]
    },
    {
      "cell_type": "code",
      "execution_count": null,
      "metadata": {
        "id": "iBBQUl9NuYF6"
      },
      "outputs": [],
      "source": [
        "# step 3: decide whether to drop, fill, or leave it"
      ]
    },
    {
      "cell_type": "markdown",
      "metadata": {
        "id": "yXhGFKQduYF7"
      },
      "source": [
        "# 💬 Discussion Question:\n",
        "\n",
        "Imagine we wanted to use the penguin dataset to predict the species of penguin using k-Nearest Neighbors:\n",
        "- What steps will you need to take before running a kNN on the penguin dataset?\n",
        "- Will each column have an equal weight in the final prediction? Or will one column have a bigger say in the decision? Why?"
      ]
    },
    {
      "cell_type": "code",
      "execution_count": null,
      "metadata": {
        "id": "uRqwS672uYF7",
        "outputId": "88eacf27-ee48-4fed-8cb8-5a787afde38c"
      },
      "outputs": [
        {
          "data": {
            "text/html": [
              "<div>\n",
              "<style scoped>\n",
              "    .dataframe tbody tr th:only-of-type {\n",
              "        vertical-align: middle;\n",
              "    }\n",
              "\n",
              "    .dataframe tbody tr th {\n",
              "        vertical-align: top;\n",
              "    }\n",
              "\n",
              "    .dataframe thead th {\n",
              "        text-align: right;\n",
              "    }\n",
              "</style>\n",
              "<table border=\"1\" class=\"dataframe\">\n",
              "  <thead>\n",
              "    <tr style=\"text-align: right;\">\n",
              "      <th></th>\n",
              "      <th>species</th>\n",
              "      <th>island</th>\n",
              "      <th>culmen_length_mm</th>\n",
              "      <th>culmen_depth_mm</th>\n",
              "      <th>flipper_length_mm</th>\n",
              "      <th>body_mass_g</th>\n",
              "      <th>sex</th>\n",
              "    </tr>\n",
              "  </thead>\n",
              "  <tbody>\n",
              "    <tr>\n",
              "      <th>0</th>\n",
              "      <td>Adelie</td>\n",
              "      <td>Torgersen</td>\n",
              "      <td>39.1</td>\n",
              "      <td>18.7</td>\n",
              "      <td>181.0</td>\n",
              "      <td>3750.0</td>\n",
              "      <td>MALE</td>\n",
              "    </tr>\n",
              "    <tr>\n",
              "      <th>1</th>\n",
              "      <td>Adelie</td>\n",
              "      <td>Torgersen</td>\n",
              "      <td>39.5</td>\n",
              "      <td>17.4</td>\n",
              "      <td>186.0</td>\n",
              "      <td>3800.0</td>\n",
              "      <td>FEMALE</td>\n",
              "    </tr>\n",
              "    <tr>\n",
              "      <th>2</th>\n",
              "      <td>Adelie</td>\n",
              "      <td>Torgersen</td>\n",
              "      <td>40.3</td>\n",
              "      <td>18.0</td>\n",
              "      <td>195.0</td>\n",
              "      <td>3250.0</td>\n",
              "      <td>FEMALE</td>\n",
              "    </tr>\n",
              "    <tr>\n",
              "      <th>3</th>\n",
              "      <td>Adelie</td>\n",
              "      <td>Torgersen</td>\n",
              "      <td>NaN</td>\n",
              "      <td>NaN</td>\n",
              "      <td>NaN</td>\n",
              "      <td>NaN</td>\n",
              "      <td>NaN</td>\n",
              "    </tr>\n",
              "    <tr>\n",
              "      <th>4</th>\n",
              "      <td>Adelie</td>\n",
              "      <td>Torgersen</td>\n",
              "      <td>36.7</td>\n",
              "      <td>19.3</td>\n",
              "      <td>193.0</td>\n",
              "      <td>3450.0</td>\n",
              "      <td>FEMALE</td>\n",
              "    </tr>\n",
              "  </tbody>\n",
              "</table>\n",
              "</div>"
            ],
            "text/plain": [
              "  species     island  culmen_length_mm  culmen_depth_mm  flipper_length_mm  \\\n",
              "0  Adelie  Torgersen              39.1             18.7              181.0   \n",
              "1  Adelie  Torgersen              39.5             17.4              186.0   \n",
              "2  Adelie  Torgersen              40.3             18.0              195.0   \n",
              "3  Adelie  Torgersen               NaN              NaN                NaN   \n",
              "4  Adelie  Torgersen              36.7             19.3              193.0   \n",
              "\n",
              "   body_mass_g     sex  \n",
              "0       3750.0    MALE  \n",
              "1       3800.0  FEMALE  \n",
              "2       3250.0  FEMALE  \n",
              "3          NaN     NaN  \n",
              "4       3450.0  FEMALE  "
            ]
          },
          "execution_count": 13,
          "metadata": {},
          "output_type": "execute_result"
        }
      ],
      "source": [
        "penguins.head()"
      ]
    },
    {
      "cell_type": "markdown",
      "metadata": {
        "id": "Ys8hx2bZuYF7"
      },
      "source": [
        "# ✨ New Material"
      ]
    },
    {
      "cell_type": "markdown",
      "metadata": {
        "id": "_rFXq1NNuYF7"
      },
      "source": [
        "## Normalization Motivation:\n",
        "\n",
        "In datasets that have numeric data, the columns that have the largest magnitude will have a greater 'say' in the decision of what to predict. \n",
        "\n",
        "In the penguin dataset, `body_mass_g` will have a much bigger say in the prediction than the other options."
      ]
    },
    {
      "cell_type": "markdown",
      "metadata": {
        "id": "7q2M7DHnuYF8"
      },
      "source": [
        "# Normalization:\n",
        "\n",
        "__Normalizing data:__\n",
        "- rescale attrbute values so they're about the same\n",
        "- adjusting values measured on different scales to a common scale"
      ]
    },
    {
      "cell_type": "markdown",
      "metadata": {
        "id": "dG_kuYq3uYF8"
      },
      "source": [
        "## A Simple Normalization:\n",
        "One simple method of normalizing data is to replace each value with a proportion relativeto the max value. \n",
        "\n",
        "For example, the oldest person on the Titanic was 80, so: \n",
        "\n",
        "| **age** | **replaced by** |\n",
        "|---------|:------------------|\n",
        "| 80      | 80/80 = 1        |\n",
        "| 50      | 50/80 = 0.625    |\n",
        "| 48      | 48/80 = 0.6      |\n",
        "| 25      | 25/80 = 0.3125   |\n",
        "| 4       | 4/80 = 0.05      |"
      ]
    },
    {
      "cell_type": "markdown",
      "metadata": {
        "id": "-my75LYKuYF8"
      },
      "source": [
        "## Before Normalization\n",
        "<div>\n",
        "<img src=\"images/day03_zscore_improvement.png\" width=600/>\n",
        "</div>\n",
        "\n",
        "### Age is overemphasized here"
      ]
    },
    {
      "cell_type": "markdown",
      "metadata": {
        "id": "UYK3K5JGuYF8"
      },
      "source": [
        "## After Normalization\n",
        "\n",
        "<div>\n",
        "<img src=\"images/day03_norm_dist1.png\"/>\n",
        "</div>\n",
        "\n",
        "### Now is sex over-emphasized?"
      ]
    },
    {
      "cell_type": "markdown",
      "metadata": {
        "id": "wDEG5oQ7uYF8"
      },
      "source": [
        "## Z-Score: Another Normalization Method\n",
        "\n",
        "__Idea__: rather than normalize to proportion of max, normalize based on how mnay standard deviations they are away from the mean.\n",
        "\n",
        "__Standard Deviation__: usually represened as $\\sigma$ (sigma), a kind of 'average' distance from the average value. \n",
        "- a low standard deviation indicates that the values tend to be close to the mean\n",
        "- a high standard deviation indicates that the values are spread out over a wider range."
      ]
    },
    {
      "cell_type": "markdown",
      "metadata": {
        "id": "ropOMyWCuYF9"
      },
      "source": [
        "## Standard Deviation:\n",
        "<div>\n",
        "<img src=\"images/day03_std.png\" width=600/>\n",
        "</div>"
      ]
    },
    {
      "cell_type": "markdown",
      "metadata": {
        "id": "WeYoxtQRuYF9"
      },
      "source": [
        "## Standard Deviation Calculation:\n",
        "\n",
        "## $\\sigma = \\sqrt{\\frac{1}{N}\\sum_{i=1}^{N}(x_i - \\mu)^2}$\n",
        "\n",
        "1. Find the mean, represented as $\\mu$ (mu)\n",
        "2. Then, for each number, subtract the mean and square the result.\n",
        "3. Then, find the mean of those squared differences. \n",
        "4. Take the square root of tht and we are done. \n",
        "\n",
        "Let $\\mu$ be the mean, then standard deviation of $x_1, x+2, ..., x_N$ is:\n",
        "\n",
        "## $\\sigma = \\sqrt{\\frac{(x_1-\\mu)^2 + (x_2 - \\mu)^2+ ... + (x_N-\\mu)^2}{N}}$"
      ]
    },
    {
      "cell_type": "markdown",
      "metadata": {
        "id": "Uwe0HOmruYF9"
      },
      "source": [
        "# Corrected Sample Standard Deviation\n",
        "\n",
        "The mean of a sample tends to be a good estimate for the mean of the entire population (on average), but.. \n",
        "- standard deviation of samples tend to be _smaller_ than the standard deviation of the entier population.\n",
        "\n",
        "__Bessel's correction__ says that you should divide by $N-1$ instead of N when working with a sample (as we usually do in machine learning tasks), and your estimate will be a little less biased. \n",
        "\n",
        "## $\\sigma = \\sqrt{\\frac{(x_1-\\mu)^2 + (x_2 - \\mu)^2+ ... + (x_N-\\mu)^2}{N-1}}$"
      ]
    },
    {
      "cell_type": "markdown",
      "metadata": {
        "id": "ver1GIREuYF9"
      },
      "source": [
        "# Computing the Z-Score\n",
        "After computing the corrected sample standard deviation,\n",
        "\n",
        "to normlaize, replace each value $x_i$ with it's Z-Socre based on the mean ($\\mu$) and standard deviation ($\\sigma$) of it's column. \n",
        "\n",
        "## $Z-score: \\frac{x_i- \\mu}{\\sigma}$"
      ]
    },
    {
      "cell_type": "markdown",
      "metadata": {
        "id": "XrvxA7yQuYF9"
      },
      "source": [
        "## Exampe Z-Score Calculation\n",
        "\n",
        "For example: \n",
        "On the Titanic:\n",
        "- sex mean(0:male, 1:female): 0.35\n",
        "- sex standard deviation: 0.48\n",
        "- age mean: 29.7\n",
        "- age standard deviation: 13\n",
        "\n",
        "<div>\n",
        "<img src=\"images/day03_zscore.png\" width=600/>\n",
        "</div>"
      ]
    },
    {
      "cell_type": "markdown",
      "metadata": {
        "id": "fyDJN9IJuYF-"
      },
      "source": [
        "\n",
        "<div>\n",
        "<img src=\"images/day03_zscore_ex.png\" width=600/>\n",
        "</div>"
      ]
    },
    {
      "cell_type": "markdown",
      "metadata": {
        "id": "FCQBCrcouYF-"
      },
      "source": [
        "# Normalization Code:\n",
        "Let's try out some code now:\n",
        "\n"
      ]
    },
    {
      "cell_type": "code",
      "execution_count": null,
      "metadata": {
        "id": "dGysVAwguYF-",
        "outputId": "1a1cbb35-4af6-475a-eef7-4ecd471cc586"
      },
      "outputs": [
        {
          "data": {
            "text/html": [
              "<div>\n",
              "<style scoped>\n",
              "    .dataframe tbody tr th:only-of-type {\n",
              "        vertical-align: middle;\n",
              "    }\n",
              "\n",
              "    .dataframe tbody tr th {\n",
              "        vertical-align: top;\n",
              "    }\n",
              "\n",
              "    .dataframe thead th {\n",
              "        text-align: right;\n",
              "    }\n",
              "</style>\n",
              "<table border=\"1\" class=\"dataframe\">\n",
              "  <thead>\n",
              "    <tr style=\"text-align: right;\">\n",
              "      <th></th>\n",
              "      <th>survived</th>\n",
              "      <th>pclass</th>\n",
              "      <th>sex</th>\n",
              "      <th>age</th>\n",
              "      <th>sibsp</th>\n",
              "      <th>parch</th>\n",
              "      <th>fare</th>\n",
              "      <th>embarked</th>\n",
              "      <th>class</th>\n",
              "      <th>who</th>\n",
              "      <th>adult_male</th>\n",
              "      <th>deck</th>\n",
              "      <th>embark_town</th>\n",
              "      <th>alive</th>\n",
              "      <th>alone</th>\n",
              "    </tr>\n",
              "  </thead>\n",
              "  <tbody>\n",
              "    <tr>\n",
              "      <th>0</th>\n",
              "      <td>0</td>\n",
              "      <td>3</td>\n",
              "      <td>male</td>\n",
              "      <td>22.0</td>\n",
              "      <td>1</td>\n",
              "      <td>0</td>\n",
              "      <td>7.2500</td>\n",
              "      <td>S</td>\n",
              "      <td>Third</td>\n",
              "      <td>man</td>\n",
              "      <td>True</td>\n",
              "      <td>NaN</td>\n",
              "      <td>Southampton</td>\n",
              "      <td>no</td>\n",
              "      <td>False</td>\n",
              "    </tr>\n",
              "    <tr>\n",
              "      <th>1</th>\n",
              "      <td>1</td>\n",
              "      <td>1</td>\n",
              "      <td>female</td>\n",
              "      <td>38.0</td>\n",
              "      <td>1</td>\n",
              "      <td>0</td>\n",
              "      <td>71.2833</td>\n",
              "      <td>C</td>\n",
              "      <td>First</td>\n",
              "      <td>woman</td>\n",
              "      <td>False</td>\n",
              "      <td>C</td>\n",
              "      <td>Cherbourg</td>\n",
              "      <td>yes</td>\n",
              "      <td>False</td>\n",
              "    </tr>\n",
              "    <tr>\n",
              "      <th>2</th>\n",
              "      <td>1</td>\n",
              "      <td>3</td>\n",
              "      <td>female</td>\n",
              "      <td>26.0</td>\n",
              "      <td>0</td>\n",
              "      <td>0</td>\n",
              "      <td>7.9250</td>\n",
              "      <td>S</td>\n",
              "      <td>Third</td>\n",
              "      <td>woman</td>\n",
              "      <td>False</td>\n",
              "      <td>NaN</td>\n",
              "      <td>Southampton</td>\n",
              "      <td>yes</td>\n",
              "      <td>True</td>\n",
              "    </tr>\n",
              "    <tr>\n",
              "      <th>3</th>\n",
              "      <td>1</td>\n",
              "      <td>1</td>\n",
              "      <td>female</td>\n",
              "      <td>35.0</td>\n",
              "      <td>1</td>\n",
              "      <td>0</td>\n",
              "      <td>53.1000</td>\n",
              "      <td>S</td>\n",
              "      <td>First</td>\n",
              "      <td>woman</td>\n",
              "      <td>False</td>\n",
              "      <td>C</td>\n",
              "      <td>Southampton</td>\n",
              "      <td>yes</td>\n",
              "      <td>False</td>\n",
              "    </tr>\n",
              "    <tr>\n",
              "      <th>4</th>\n",
              "      <td>0</td>\n",
              "      <td>3</td>\n",
              "      <td>male</td>\n",
              "      <td>35.0</td>\n",
              "      <td>0</td>\n",
              "      <td>0</td>\n",
              "      <td>8.0500</td>\n",
              "      <td>S</td>\n",
              "      <td>Third</td>\n",
              "      <td>man</td>\n",
              "      <td>True</td>\n",
              "      <td>NaN</td>\n",
              "      <td>Southampton</td>\n",
              "      <td>no</td>\n",
              "      <td>True</td>\n",
              "    </tr>\n",
              "  </tbody>\n",
              "</table>\n",
              "</div>"
            ],
            "text/plain": [
              "   survived  pclass     sex   age  sibsp  parch     fare embarked  class  \\\n",
              "0         0       3    male  22.0      1      0   7.2500        S  Third   \n",
              "1         1       1  female  38.0      1      0  71.2833        C  First   \n",
              "2         1       3  female  26.0      0      0   7.9250        S  Third   \n",
              "3         1       1  female  35.0      1      0  53.1000        S  First   \n",
              "4         0       3    male  35.0      0      0   8.0500        S  Third   \n",
              "\n",
              "     who  adult_male deck  embark_town alive  alone  \n",
              "0    man        True  NaN  Southampton    no  False  \n",
              "1  woman       False    C    Cherbourg   yes  False  \n",
              "2  woman       False  NaN  Southampton   yes   True  \n",
              "3  woman       False    C  Southampton   yes  False  \n",
              "4    man        True  NaN  Southampton    no   True  "
            ]
          },
          "execution_count": 14,
          "metadata": {},
          "output_type": "execute_result"
        }
      ],
      "source": [
        "#make sure your data is loaded and ready to go (one of the top few cells)\n",
        "titanic.head()"
      ]
    },
    {
      "cell_type": "markdown",
      "metadata": {
        "id": "_i29SewluYF-"
      },
      "source": [
        "## New function `replace()`\n",
        "\n",
        "Called on a dataframe, will repalce values given in `to_replace` with `value`. \n",
        "\n",
        "Let's use this to make the `sex` column of the dataset numeric."
      ]
    },
    {
      "cell_type": "code",
      "execution_count": null,
      "metadata": {
        "id": "tZpr8y9WuYF-",
        "outputId": "3e493be3-6a0c-4063-f436-1b0567afc512"
      },
      "outputs": [
        {
          "data": {
            "text/html": [
              "<div>\n",
              "<style scoped>\n",
              "    .dataframe tbody tr th:only-of-type {\n",
              "        vertical-align: middle;\n",
              "    }\n",
              "\n",
              "    .dataframe tbody tr th {\n",
              "        vertical-align: top;\n",
              "    }\n",
              "\n",
              "    .dataframe thead th {\n",
              "        text-align: right;\n",
              "    }\n",
              "</style>\n",
              "<table border=\"1\" class=\"dataframe\">\n",
              "  <thead>\n",
              "    <tr style=\"text-align: right;\">\n",
              "      <th></th>\n",
              "      <th>survived</th>\n",
              "      <th>pclass</th>\n",
              "      <th>sex</th>\n",
              "      <th>age</th>\n",
              "      <th>sibsp</th>\n",
              "      <th>parch</th>\n",
              "      <th>fare</th>\n",
              "      <th>embarked</th>\n",
              "      <th>class</th>\n",
              "      <th>who</th>\n",
              "      <th>adult_male</th>\n",
              "      <th>deck</th>\n",
              "      <th>embark_town</th>\n",
              "      <th>alive</th>\n",
              "      <th>alone</th>\n",
              "    </tr>\n",
              "  </thead>\n",
              "  <tbody>\n",
              "    <tr>\n",
              "      <th>0</th>\n",
              "      <td>0</td>\n",
              "      <td>3</td>\n",
              "      <td>0</td>\n",
              "      <td>22.0</td>\n",
              "      <td>1</td>\n",
              "      <td>0</td>\n",
              "      <td>7.2500</td>\n",
              "      <td>S</td>\n",
              "      <td>Third</td>\n",
              "      <td>man</td>\n",
              "      <td>True</td>\n",
              "      <td>NaN</td>\n",
              "      <td>Southampton</td>\n",
              "      <td>no</td>\n",
              "      <td>False</td>\n",
              "    </tr>\n",
              "    <tr>\n",
              "      <th>1</th>\n",
              "      <td>1</td>\n",
              "      <td>1</td>\n",
              "      <td>1</td>\n",
              "      <td>38.0</td>\n",
              "      <td>1</td>\n",
              "      <td>0</td>\n",
              "      <td>71.2833</td>\n",
              "      <td>C</td>\n",
              "      <td>First</td>\n",
              "      <td>woman</td>\n",
              "      <td>False</td>\n",
              "      <td>C</td>\n",
              "      <td>Cherbourg</td>\n",
              "      <td>yes</td>\n",
              "      <td>False</td>\n",
              "    </tr>\n",
              "    <tr>\n",
              "      <th>2</th>\n",
              "      <td>1</td>\n",
              "      <td>3</td>\n",
              "      <td>1</td>\n",
              "      <td>26.0</td>\n",
              "      <td>0</td>\n",
              "      <td>0</td>\n",
              "      <td>7.9250</td>\n",
              "      <td>S</td>\n",
              "      <td>Third</td>\n",
              "      <td>woman</td>\n",
              "      <td>False</td>\n",
              "      <td>NaN</td>\n",
              "      <td>Southampton</td>\n",
              "      <td>yes</td>\n",
              "      <td>True</td>\n",
              "    </tr>\n",
              "    <tr>\n",
              "      <th>3</th>\n",
              "      <td>1</td>\n",
              "      <td>1</td>\n",
              "      <td>1</td>\n",
              "      <td>35.0</td>\n",
              "      <td>1</td>\n",
              "      <td>0</td>\n",
              "      <td>53.1000</td>\n",
              "      <td>S</td>\n",
              "      <td>First</td>\n",
              "      <td>woman</td>\n",
              "      <td>False</td>\n",
              "      <td>C</td>\n",
              "      <td>Southampton</td>\n",
              "      <td>yes</td>\n",
              "      <td>False</td>\n",
              "    </tr>\n",
              "    <tr>\n",
              "      <th>4</th>\n",
              "      <td>0</td>\n",
              "      <td>3</td>\n",
              "      <td>0</td>\n",
              "      <td>35.0</td>\n",
              "      <td>0</td>\n",
              "      <td>0</td>\n",
              "      <td>8.0500</td>\n",
              "      <td>S</td>\n",
              "      <td>Third</td>\n",
              "      <td>man</td>\n",
              "      <td>True</td>\n",
              "      <td>NaN</td>\n",
              "      <td>Southampton</td>\n",
              "      <td>no</td>\n",
              "      <td>True</td>\n",
              "    </tr>\n",
              "  </tbody>\n",
              "</table>\n",
              "</div>"
            ],
            "text/plain": [
              "   survived  pclass  sex   age  sibsp  parch     fare embarked  class    who  \\\n",
              "0         0       3    0  22.0      1      0   7.2500        S  Third    man   \n",
              "1         1       1    1  38.0      1      0  71.2833        C  First  woman   \n",
              "2         1       3    1  26.0      0      0   7.9250        S  Third  woman   \n",
              "3         1       1    1  35.0      1      0  53.1000        S  First  woman   \n",
              "4         0       3    0  35.0      0      0   8.0500        S  Third    man   \n",
              "\n",
              "   adult_male deck  embark_town alive  alone  \n",
              "0        True  NaN  Southampton    no  False  \n",
              "1       False    C    Cherbourg   yes  False  \n",
              "2       False  NaN  Southampton   yes   True  \n",
              "3       False    C  Southampton   yes  False  \n",
              "4        True  NaN  Southampton    no   True  "
            ]
          },
          "execution_count": 15,
          "metadata": {},
          "output_type": "execute_result"
        }
      ],
      "source": [
        "titanic['sex'] = titanic['sex'].replace(to_replace='female', value=1)\n",
        "titanic['sex'] = titanic['sex'].replace(to_replace='male', value=0)\n",
        "titanic.head()"
      ]
    },
    {
      "cell_type": "markdown",
      "metadata": {
        "id": "MHpRUaGnuYF-"
      },
      "source": [
        "## Calculating z-score:\n",
        "Now that we have the data as 1s and 0s, let's calculate the mean and standard deviation."
      ]
    },
    {
      "cell_type": "code",
      "execution_count": null,
      "metadata": {
        "id": "6xdWoC1AuYF_",
        "outputId": "2e204d77-e1b0-4a72-a2dc-81f49b04817d"
      },
      "outputs": [
        {
          "data": {
            "text/html": [
              "<div>\n",
              "<style scoped>\n",
              "    .dataframe tbody tr th:only-of-type {\n",
              "        vertical-align: middle;\n",
              "    }\n",
              "\n",
              "    .dataframe tbody tr th {\n",
              "        vertical-align: top;\n",
              "    }\n",
              "\n",
              "    .dataframe thead th {\n",
              "        text-align: right;\n",
              "    }\n",
              "</style>\n",
              "<table border=\"1\" class=\"dataframe\">\n",
              "  <thead>\n",
              "    <tr style=\"text-align: right;\">\n",
              "      <th></th>\n",
              "      <th>survived</th>\n",
              "      <th>pclass</th>\n",
              "      <th>sex</th>\n",
              "      <th>age</th>\n",
              "      <th>sibsp</th>\n",
              "      <th>parch</th>\n",
              "      <th>fare</th>\n",
              "      <th>embarked</th>\n",
              "      <th>class</th>\n",
              "      <th>who</th>\n",
              "      <th>adult_male</th>\n",
              "      <th>deck</th>\n",
              "      <th>embark_town</th>\n",
              "      <th>alive</th>\n",
              "      <th>alone</th>\n",
              "    </tr>\n",
              "  </thead>\n",
              "  <tbody>\n",
              "    <tr>\n",
              "      <th>0</th>\n",
              "      <td>0</td>\n",
              "      <td>3</td>\n",
              "      <td>-0.737281</td>\n",
              "      <td>22.0</td>\n",
              "      <td>1</td>\n",
              "      <td>0</td>\n",
              "      <td>7.2500</td>\n",
              "      <td>S</td>\n",
              "      <td>Third</td>\n",
              "      <td>man</td>\n",
              "      <td>True</td>\n",
              "      <td>NaN</td>\n",
              "      <td>Southampton</td>\n",
              "      <td>no</td>\n",
              "      <td>False</td>\n",
              "    </tr>\n",
              "    <tr>\n",
              "      <th>1</th>\n",
              "      <td>1</td>\n",
              "      <td>1</td>\n",
              "      <td>1.354813</td>\n",
              "      <td>38.0</td>\n",
              "      <td>1</td>\n",
              "      <td>0</td>\n",
              "      <td>71.2833</td>\n",
              "      <td>C</td>\n",
              "      <td>First</td>\n",
              "      <td>woman</td>\n",
              "      <td>False</td>\n",
              "      <td>C</td>\n",
              "      <td>Cherbourg</td>\n",
              "      <td>yes</td>\n",
              "      <td>False</td>\n",
              "    </tr>\n",
              "    <tr>\n",
              "      <th>2</th>\n",
              "      <td>1</td>\n",
              "      <td>3</td>\n",
              "      <td>1.354813</td>\n",
              "      <td>26.0</td>\n",
              "      <td>0</td>\n",
              "      <td>0</td>\n",
              "      <td>7.9250</td>\n",
              "      <td>S</td>\n",
              "      <td>Third</td>\n",
              "      <td>woman</td>\n",
              "      <td>False</td>\n",
              "      <td>NaN</td>\n",
              "      <td>Southampton</td>\n",
              "      <td>yes</td>\n",
              "      <td>True</td>\n",
              "    </tr>\n",
              "    <tr>\n",
              "      <th>3</th>\n",
              "      <td>1</td>\n",
              "      <td>1</td>\n",
              "      <td>1.354813</td>\n",
              "      <td>35.0</td>\n",
              "      <td>1</td>\n",
              "      <td>0</td>\n",
              "      <td>53.1000</td>\n",
              "      <td>S</td>\n",
              "      <td>First</td>\n",
              "      <td>woman</td>\n",
              "      <td>False</td>\n",
              "      <td>C</td>\n",
              "      <td>Southampton</td>\n",
              "      <td>yes</td>\n",
              "      <td>False</td>\n",
              "    </tr>\n",
              "    <tr>\n",
              "      <th>4</th>\n",
              "      <td>0</td>\n",
              "      <td>3</td>\n",
              "      <td>-0.737281</td>\n",
              "      <td>35.0</td>\n",
              "      <td>0</td>\n",
              "      <td>0</td>\n",
              "      <td>8.0500</td>\n",
              "      <td>S</td>\n",
              "      <td>Third</td>\n",
              "      <td>man</td>\n",
              "      <td>True</td>\n",
              "      <td>NaN</td>\n",
              "      <td>Southampton</td>\n",
              "      <td>no</td>\n",
              "      <td>True</td>\n",
              "    </tr>\n",
              "  </tbody>\n",
              "</table>\n",
              "</div>"
            ],
            "text/plain": [
              "   survived  pclass       sex   age  sibsp  parch     fare embarked  class  \\\n",
              "0         0       3 -0.737281  22.0      1      0   7.2500        S  Third   \n",
              "1         1       1  1.354813  38.0      1      0  71.2833        C  First   \n",
              "2         1       3  1.354813  26.0      0      0   7.9250        S  Third   \n",
              "3         1       1  1.354813  35.0      1      0  53.1000        S  First   \n",
              "4         0       3 -0.737281  35.0      0      0   8.0500        S  Third   \n",
              "\n",
              "     who  adult_male deck  embark_town alive  alone  \n",
              "0    man        True  NaN  Southampton    no  False  \n",
              "1  woman       False    C    Cherbourg   yes  False  \n",
              "2  woman       False  NaN  Southampton   yes   True  \n",
              "3  woman       False    C  Southampton   yes  False  \n",
              "4    man        True  NaN  Southampton    no   True  "
            ]
          },
          "execution_count": 16,
          "metadata": {},
          "output_type": "execute_result"
        }
      ],
      "source": [
        "s_mean = titanic.sex.mean()\n",
        "s_std = titanic.sex.std()\n",
        "\n",
        "#replace column with each entry's z-score\n",
        "titanic.sex = (titanic.sex - s_mean)/s_std\n",
        "titanic.head()"
      ]
    },
    {
      "cell_type": "markdown",
      "metadata": {
        "id": "Zuo-N9fZuYF_"
      },
      "source": [
        "Next, you'd need to repeat this process for all of the predictor columns -- so they're all of compareable size. "
      ]
    },
    {
      "cell_type": "markdown",
      "metadata": {
        "id": "B8ZXgIEYuYF_"
      },
      "source": [
        "## 💻 Programming Exercise #1: \n",
        "\n",
        "Normalize each of the predictor columns in the iris dataset.\n",
        "\n",
        "> Note: you need a way to transform the new reading (the specimen) that you will make the precition on so that the new one and the training data will all be on the same sclae. How can you do that?\n",
        "\n",
        "Repeat your kNN prediction code with the normalized data. \n",
        "- Does the value of k change the predictions? "
      ]
    },
    {
      "cell_type": "code",
      "execution_count": null,
      "metadata": {
        "id": "KEEHud_JuYF_"
      },
      "outputs": [],
      "source": [
        "# use z-score to normalize the iris data\n"
      ]
    },
    {
      "cell_type": "code",
      "execution_count": null,
      "metadata": {
        "id": "_6jq-Cq8uYGA"
      },
      "outputs": [],
      "source": [
        "def knn(specimen, data, k):\n",
        "    # write your code in here to make this function work\n",
        "    # 1. calculate distances\n",
        "    data_copy = data.copy() #good practice to make a copy of the data\n",
        "    data_copy['distance_to_new'] = np.sqrt(\n",
        "        (specimen['petal length'] - data_copy['petal length'])**2 \n",
        "        +(specimen['sepal length'] - data_copy['sepal length'])**2 \n",
        "        +(specimen['petal width'] - data_copy['petal width'])**2\n",
        "        +(specimen['sepal width'] - data_copy['sepal width'])**2)\n",
        "\n",
        "    # 2. sort\n",
        "    sorted_data = data_copy.sort_values(['distance_to_new'])\n",
        "    \n",
        "    # 3. predict\n",
        "    prediction = sorted_data.iloc[0:k]['species'].mode()[0]\n",
        "\n",
        "    #return prediction\n",
        "    return prediction"
      ]
    },
    {
      "cell_type": "code",
      "execution_count": null,
      "metadata": {
        "id": "0FjGPcaVuYGA"
      },
      "outputs": [],
      "source": [
        "#what will you have to do here to make it work?\n",
        "\n",
        "new_iris = {}\n",
        "new_iris['petal length'] = 5.1\n",
        "new_iris['sepal length'] = 7.2\n",
        "new_iris['petal width'] = 1.5\n",
        "new_iris['sepal width'] = 2.5\n",
        "\n",
        "pred = knn(new_iris, iris, 15)\n",
        "print(pred)"
      ]
    },
    {
      "cell_type": "markdown",
      "metadata": {
        "id": "0pv0PKFUuYGA"
      },
      "source": [
        "## Programming Exercie #2: \n",
        "\n",
        "Write a function called `z_score()` that will take in a list of the names of the columns that you want to normalize, and the dataframe, and will return a dataframe where those columns have been z-score normalized."
      ]
    },
    {
      "cell_type": "code",
      "execution_count": null,
      "metadata": {
        "id": "bMEZwbYhuYGA"
      },
      "outputs": [],
      "source": [
        "def z_score(columns, data):\n",
        "    \"\"\"\n",
        "    takes in a list of columns to normalize using the z-score method\n",
        "    Params:\n",
        "        columns, a list of columns to normalize\n",
        "        data, the dataframe, preferably a copy\n",
        "    Return:\n",
        "        a copy of the dataframe with the specified columns normalized\n",
        "    \"\"\"\n",
        "    data_copy = data.copy()\n",
        "    \n",
        "    for col in columns:\n",
        "        # get the mean and std\n",
        "        \n",
        "        # replace the column with the z-score\n",
        "    \n",
        "    return normalized"
      ]
    },
    {
      "cell_type": "code",
      "execution_count": null,
      "metadata": {
        "id": "Ix9LV4E9uYGA",
        "outputId": "a5028df9-15c4-433a-aeb2-5b6f3ebfa2df"
      },
      "outputs": [
        {
          "data": {
            "text/html": [
              "<div>\n",
              "<style scoped>\n",
              "    .dataframe tbody tr th:only-of-type {\n",
              "        vertical-align: middle;\n",
              "    }\n",
              "\n",
              "    .dataframe tbody tr th {\n",
              "        vertical-align: top;\n",
              "    }\n",
              "\n",
              "    .dataframe thead th {\n",
              "        text-align: right;\n",
              "    }\n",
              "</style>\n",
              "<table border=\"1\" class=\"dataframe\">\n",
              "  <thead>\n",
              "    <tr style=\"text-align: right;\">\n",
              "      <th></th>\n",
              "      <th>sepal length</th>\n",
              "      <th>sepal width</th>\n",
              "      <th>petal length</th>\n",
              "      <th>petal width</th>\n",
              "      <th>species</th>\n",
              "    </tr>\n",
              "  </thead>\n",
              "  <tbody>\n",
              "    <tr>\n",
              "      <th>0</th>\n",
              "      <td>-0.897674</td>\n",
              "      <td>1.028611</td>\n",
              "      <td>-1.336794</td>\n",
              "      <td>-1.308593</td>\n",
              "      <td>Iris-setosa</td>\n",
              "    </tr>\n",
              "    <tr>\n",
              "      <th>1</th>\n",
              "      <td>-1.139200</td>\n",
              "      <td>-0.124540</td>\n",
              "      <td>-1.336794</td>\n",
              "      <td>-1.308593</td>\n",
              "      <td>Iris-setosa</td>\n",
              "    </tr>\n",
              "    <tr>\n",
              "      <th>2</th>\n",
              "      <td>-1.380727</td>\n",
              "      <td>0.336720</td>\n",
              "      <td>-1.393470</td>\n",
              "      <td>-1.308593</td>\n",
              "      <td>Iris-setosa</td>\n",
              "    </tr>\n",
              "    <tr>\n",
              "      <th>3</th>\n",
              "      <td>-1.501490</td>\n",
              "      <td>0.106090</td>\n",
              "      <td>-1.280118</td>\n",
              "      <td>-1.308593</td>\n",
              "      <td>Iris-setosa</td>\n",
              "    </tr>\n",
              "    <tr>\n",
              "      <th>4</th>\n",
              "      <td>-1.018437</td>\n",
              "      <td>1.259242</td>\n",
              "      <td>-1.336794</td>\n",
              "      <td>-1.308593</td>\n",
              "      <td>Iris-setosa</td>\n",
              "    </tr>\n",
              "  </tbody>\n",
              "</table>\n",
              "</div>"
            ],
            "text/plain": [
              "   sepal length  sepal width  petal length  petal width      species\n",
              "0     -0.897674     1.028611     -1.336794    -1.308593  Iris-setosa\n",
              "1     -1.139200    -0.124540     -1.336794    -1.308593  Iris-setosa\n",
              "2     -1.380727     0.336720     -1.393470    -1.308593  Iris-setosa\n",
              "3     -1.501490     0.106090     -1.280118    -1.308593  Iris-setosa\n",
              "4     -1.018437     1.259242     -1.336794    -1.308593  Iris-setosa"
            ]
          },
          "execution_count": 5,
          "metadata": {},
          "output_type": "execute_result"
        }
      ],
      "source": [
        "iris_norm = z_score(['sepal length', 'sepal width', 'petal width', 'petal length'], iris)\n",
        "iris_norm.head()"
      ]
    },
    {
      "cell_type": "markdown",
      "metadata": {
        "id": "SLfIty_5uYGB"
      },
      "source": [
        "## Are all neighbors created equal?\n",
        "\n",
        "The way we've learned kNN so far, each neighbor gets an equal vote in the decision of what to predict.\n",
        "\n",
        "Do we see any problems with this? If so, what?"
      ]
    },
    {
      "cell_type": "markdown",
      "metadata": {
        "id": "CHgfm_FXuYGB"
      },
      "source": [
        "<div>\n",
        "<img src=\"images/day04_wknn_motivation.png\" width = 500/>\n",
        "</div>"
      ]
    },
    {
      "cell_type": "markdown",
      "metadata": {
        "id": "3r4dVrHxuYGB"
      },
      "source": [
        "Should neighbors that are closer to the new instance get a larger share of the vote?"
      ]
    },
    {
      "cell_type": "markdown",
      "metadata": {
        "id": "luAip3EFuYGB"
      },
      "source": [
        "# Weighted k-NNN Intuition:\n",
        "\n",
        "In weighted kNN, the nearest k points are given a weight, and the weights are grouped by the target variable. The class with the largest sum of weights will be the class that is predicted. \n",
        "\n",
        "The intuition is to give more weight to the points that are nearby and less weight to the points that are farther away.\n",
        "- distance-weighted voting"
      ]
    },
    {
      "cell_type": "markdown",
      "metadata": {
        "id": "YffkuL2juYGB"
      },
      "source": [
        "In w-kNN, we want to predict the target variable with the most weight, where the weight is defined by the inverse distance function.\n",
        "\n",
        "## $w_{q,i} = \\frac{1}{d(x_q, x_i)^2}$\n",
        "\n",
        "> In English, you can read that as the __weight__ of a traning example is equal to 1 divided by the distance between the new instance and the traning example squared."
      ]
    },
    {
      "cell_type": "markdown",
      "metadata": {
        "id": "i4RpS-UauYGB"
      },
      "source": [
        "## A w-kNN Example: Step 1\n",
        "\n",
        "Start by calculating the distance between the new example ('X'), and each of the other training examples:\n",
        "\n",
        "<div>\n",
        "<img src=\"images/day04_wknn_ex.png\"/>\n",
        "</div>"
      ]
    },
    {
      "cell_type": "markdown",
      "metadata": {
        "id": "x1e53CZVuYGB"
      },
      "source": [
        "## A w-kNN Example: Step 2\n",
        "\n",
        "Then, __calculate the weight___ of each training example using the inverse distance squared.\n",
        "\n",
        "<div>\n",
        "<img src=\"images/day04_wknn_ex1.png\"/>\n",
        "</div>"
      ]
    },
    {
      "cell_type": "markdown",
      "metadata": {
        "id": "ri70lbrRuYGC"
      },
      "source": [
        "## A w-kNN Example: Step 3\n",
        "\n",
        "Find the k closest neighbors--let's assume `k=3` for this example: \n",
        "<div>\n",
        "<img src=\"images/day04_wknn_ex2.png\"/>\n",
        "</div>"
      ]
    },
    {
      "cell_type": "markdown",
      "metadata": {
        "id": "KwwnljtNuYGC"
      },
      "source": [
        "Then, sum the weights for each possible class: \n",
        "- __orange__: $1$\n",
        "- __blue__: $1/16 + 1/9 = 0.115$\n",
        "\n",
        "### What would a __normal 3NN__ predict? Weighted 3NN?"
      ]
    },
    {
      "cell_type": "markdown",
      "metadata": {
        "id": "poC1Hx0XuYGC"
      },
      "source": [
        "## Let's write some code: \n",
        "\n",
        "Write a new function `weighted_knn()`\n",
        "\n",
        "Pass the iris measurements (specimen), data frame, and k as parameters and return the precited class."
      ]
    },
    {
      "cell_type": "code",
      "execution_count": null,
      "metadata": {
        "id": "MML502qNuYGC"
      },
      "outputs": [],
      "source": [
        "def weighted_knn(specimen, data, k):\n",
        "    #calculate the distance\n",
        "    data['distance_to_new'] = np.sqrt(\n",
        "    (specimen['petal length'] - data['petal length'])**2 \n",
        "    +(specimen['sepal length'] - data['sepal length'])**2 \n",
        "    +(specimen['petal width'] - data['petal width'])**2\n",
        "    +(specimen['sepal width'] - data['sepal width'])**2)\n",
        "\n",
        "    \n",
        "    # calculate the weights (remember, weights are 1/d^2)\n",
        "\n",
        "    \n",
        "    # find the k closest neighbors\n",
        "    data.sort_values(['distance_to_new'], inplace=True)\n",
        "    neighbors = data.iloc[0:k]\n",
        "    \n",
        "    # use groupby to sum the weights of each species in the closest k\n",
        "    \n",
        "    # return the class that has the largest sum of weight.\n",
        "    "
      ]
    },
    {
      "cell_type": "code",
      "execution_count": null,
      "metadata": {
        "id": "ozFWTrK0uYGC",
        "outputId": "48f81f21-44dd-4b0d-a63c-1eb1423f0655"
      },
      "outputs": [
        {
          "name": "stdout",
          "output_type": "stream",
          "text": [
            "species\n",
            "Iris-versicolor    13.059271\n",
            "Iris-virginica      7.992415\n",
            "Name: weight, dtype: float64\n"
          ]
        },
        {
          "data": {
            "text/plain": [
              "'Iris-versicolor'"
            ]
          },
          "execution_count": 47,
          "metadata": {},
          "output_type": "execute_result"
        }
      ],
      "source": [
        "new_iris = {}\n",
        "new_iris['petal length'] = 5.1\n",
        "new_iris['sepal length'] = 7.2\n",
        "new_iris['petal width'] = 1.5\n",
        "new_iris['sepal width'] = 2.5\n",
        "\n",
        "weihted_knn(new_iris, iris, 15)\n",
        "#new_iris['petal length']"
      ]
    },
    {
      "cell_type": "markdown",
      "metadata": {
        "id": "Iv3-gsFtuYGC"
      },
      "source": [
        "## Exercises:\n",
        "\n",
        "Normalize each of the predictor columns in the iris dataset, or just use `iris_norm` which we created above.\n",
        "\n",
        ">__Note__: you need a way to transform the new reading (the specimen) that you will make the prediction on so that the new one and the training data will all be on the same scale. How can you do that?\n",
        "\n",
        "Repeat your k-NN prediction code for the normalized data.\n",
        "- Does the value of k change the predictions? \n",
        "    - compare using `k=3`, and `k=5` on each method (normalized and non-normalized), (weighted and unweighted)"
      ]
    },
    {
      "cell_type": "code",
      "execution_count": null,
      "metadata": {
        "id": "APleJ0ATuYGD",
        "outputId": "b43949d0-5611-4478-d338-f8668a9d7531"
      },
      "outputs": [
        {
          "name": "stdout",
          "output_type": "stream",
          "text": [
            "species\n",
            "Iris-versicolor    1.319030\n",
            "Iris-virginica     2.360782\n",
            "Name: weight, dtype: float64\n"
          ]
        },
        {
          "data": {
            "text/plain": [
              "'Iris-virginica'"
            ]
          },
          "execution_count": 49,
          "metadata": {},
          "output_type": "execute_result"
        }
      ],
      "source": [
        "# get the mean() and std() for each column of iris\n",
        "\n",
        "\n",
        "# create a new dictionary with the normalized values\n"
      ]
    },
    {
      "cell_type": "code",
      "execution_count": null,
      "metadata": {
        "id": "VOSYm7kZuYGD"
      },
      "outputs": [],
      "source": [
        "print(\"Not normalized:\")\n",
        "print('unweighted kNN, k=3:', knn(new_iris, iris, 3))\n",
        "print('unweighted kNN, k=5:', knn(new_iris, iris, 5))\n",
        "print('weighted kNN, k=3:', weighted_knn(new_iris, iris, 3))\n",
        "print('weighted kNN, k=5:', weighted_knn(new_iris, iris, 5))"
      ]
    },
    {
      "cell_type": "code",
      "execution_count": null,
      "metadata": {
        "id": "UfLgzRkVuYGD"
      },
      "outputs": [],
      "source": [
        "print(\"Normalized:\")\n",
        "print('unweighted kNN, k=3:', knn(norm_iris, iris_norm, 3))\n",
        "print('unweighted kNN, k=5:', knn(norm_iris, iris_norm, 5))\n",
        "print('weighted kNN, k=3:', weighted_knn(norm_iris, iris_norm, 3))\n",
        "print('weighted kNN, k=5:', weighted_knn(norm_iris, iris_norm, 5))"
      ]
    },
    {
      "cell_type": "markdown",
      "metadata": {
        "id": "DQNxYdj2uYGD"
      },
      "source": [
        "## Use these tables to keep track of your predictions:\n",
        "### `k=3`\n",
        "|                    | **not normalized** | **normalized** |\n",
        "|--------------------|--------------------|----------------|\n",
        "| **unweighted kNN** |          |              |\n",
        "| **weighted kNN**   |          |               |\n",
        "\n",
        "### `k=5`\n",
        "\n",
        "|                    | **not normalized** | **normalized** |\n",
        "|--------------------|--------------------|----------------|\n",
        "| **unweighted kNN** |                    |                |\n",
        "| **weighted kNN**   |                    |                |"
      ]
    },
    {
      "cell_type": "markdown",
      "metadata": {
        "id": "FpsKQDNKuYGD"
      },
      "source": [
        "# 💬 Discussion Question\n",
        "\n",
        "Should we __always__ normalize our data? Why or why not?\n",
        "\n",
        "When does it make sense to normalize? When might it make more sense not to?"
      ]
    }
  ],
  "metadata": {
    "celltoolbar": "Slideshow",
    "kernelspec": {
      "display_name": "Python 3",
      "language": "python",
      "name": "python3"
    },
    "language_info": {
      "codemirror_mode": {
        "name": "ipython",
        "version": 3
      },
      "file_extension": ".py",
      "mimetype": "text/x-python",
      "name": "python",
      "nbconvert_exporter": "python",
      "pygments_lexer": "ipython3",
      "version": "3.8.3"
    },
    "colab": {
      "provenance": [],
      "include_colab_link": true
    }
  },
  "nbformat": 4,
  "nbformat_minor": 0
}