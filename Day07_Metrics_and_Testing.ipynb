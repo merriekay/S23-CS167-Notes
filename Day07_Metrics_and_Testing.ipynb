{
  "cells": [
    {
      "cell_type": "markdown",
      "metadata": {
        "id": "view-in-github",
        "colab_type": "text"
      },
      "source": [
        "<a href=\"https://colab.research.google.com/github/merriekay/S23-CS167-Notes/blob/main/Day07_Metrics_and_Testing.ipynb\" target=\"_parent\"><img src=\"https://colab.research.google.com/assets/colab-badge.svg\" alt=\"Open In Colab\"/></a>"
      ]
    },
    {
      "cell_type": "markdown",
      "metadata": {
        "id": "mH-u_0vEIAD3"
      },
      "source": [
        "# CS167: Day07\n",
        "## Metrics and Testing\n",
        "\n",
        "#### CS167: Machine Learning, Spring 2023\n",
        "\n",
        "Tuesday, February 16th, 2023\n",
        "\n",
        "📆 [Course Schedule](https://docs.google.com/spreadsheets/d/e/2PACX-1vSvFV5Mz0_YZE1d5r3gQ8IMktE4cBAsJIlP30cl2GhEpSO0J-YWV62QokSDz-OcOCsEmxMuKpY0kVlR/pubhtml?gid=0&single=true) | 🙋[PollEverywhere](https://pollev.com/meredithmoore011) | 📜 [Syllabus](https://analytics.drake.edu/~moore/cs167_s23_syllabus.html) | 📬 [CodePost Login](https://codepost.io/login)"
      ]
    },
    {
      "cell_type": "markdown",
      "metadata": {
        "id": "i0bZ1Y61IAD6"
      },
      "source": [
        "# Admin Stuff\n",
        "\n",
        "You should be working on:\n",
        "- [Notebook #2](https://classroom.github.com/a/d6K-Q-t8): due **tonight Thursday, February 16th, 2023 by 11:59pm** \n",
        "- Heads up that **Quiz #1 is live, due Tuesday 2/21 by 11:59pm**.\n",
        "    - To be completed individually\n",
        "    - Only one chance to hit 'submit'\n",
        "    - Cite any materials that you use outside of class\n",
        "- [Notebook #3](https://classroom.github.com/a/2Jc4k7Pe) is released today, due next Thursday 2/23/23 by 11:59pm."
      ]
    },
    {
      "cell_type": "markdown",
      "metadata": {
        "id": "XPSsoTbHIAD7"
      },
      "source": [
        "# 💬 Discussion Question\n",
        "\n",
        "Should we __always__ normalize our data? Why or why not?\n",
        "\n",
        "When does it make sense to normalize? When might it make more sense not to?"
      ]
    },
    {
      "cell_type": "markdown",
      "metadata": {
        "id": "KgWe_54cIAD7"
      },
      "source": [
        "# ✨ New Material"
      ]
    },
    {
      "cell_type": "code",
      "execution_count": null,
      "metadata": {
        "id": "tNEgJPpmIAD8"
      },
      "outputs": [],
      "source": [
        "#run this cell if you're using Colab:\n",
        "from google.colab import drive\n",
        "drive.mount('/content/drive')"
      ]
    },
    {
      "cell_type": "code",
      "execution_count": null,
      "metadata": {
        "id": "sUCYggq4IAD9",
        "outputId": "cf0c1c81-2f76-4cea-9fa4-953d4d7c2d80"
      },
      "outputs": [
        {
          "data": {
            "image/png": "[encoded data removed]",
            "text/plain": [
              "<Figure size 432x288 with 1 Axes>"
            ]
          },
          "metadata": {
            "needs_background": "light"
          },
          "output_type": "display_data"
        }
      ],
      "source": [
        "import matplotlib.pyplot as plt\n",
        "%matplotlib inline\n",
        "\n",
        "#define our data\n",
        "xvals = [1,2,3,4,5]\n",
        "series1 = [0.66,0.61,0.69,0.73,0.77]\n",
        "series2 = [0.8,0.83,0.77,0.81,0.79]\n",
        "series3 = [0.55,0.67,0.5,0.73,0.66]\n",
        "\n",
        "#add titles to axis and graph\n",
        "plt.suptitle('my rockin plot', fontsize=18)\n",
        "plt.xlabel('a very cool x axis')\n",
        "plt.ylabel('awesome y axis')\n",
        "\n",
        "#plot the data\n",
        "plt.plot(xvals, series1, 'ro--', label='1st series')\n",
        "plt.plot(xvals, series2, 'bs-.', label='2nd series')\n",
        "plt.plot(xvals, series3, 'g^-', label='3rd series')\n",
        "plt.axis([0,6,0,1]) #[x_min, x_max, y_min, y_max]\n",
        "plt.show()"
      ]
    },
    {
      "cell_type": "markdown",
      "metadata": {
        "id": "e5TuwcyJIAD9"
      },
      "source": [
        "## Use markers to differentiate your series:"
      ]
    },
    {
      "cell_type": "code",
      "execution_count": null,
      "metadata": {
        "id": "cwcEsFb7IAD-",
        "outputId": "8daea3fb-7385-46d4-fe55-bd78b4541bd0"
      },
      "outputs": [
        {
          "data": {
            "text/html": [
              "<iframe src=\"https://matplotlib.org/stable/api/_as_gen/matplotlib.pyplot.plot.html\" width=\"1500\" height=\"500\"></iframe>\n"
            ],
            "text/plain": [
              "<IPython.core.display.HTML object>"
            ]
          },
          "metadata": {},
          "output_type": "display_data"
        }
      ],
      "source": [
        "%%html\n",
        "<iframe src=\"https://matplotlib.org/stable/api/_as_gen/matplotlib.pyplot.plot.html\" width=\"1500\" height=\"500\"></iframe>"
      ]
    },
    {
      "cell_type": "markdown",
      "metadata": {
        "id": "u9swj0WxIAD-"
      },
      "source": [
        "# A simple example:"
      ]
    },
    {
      "cell_type": "code",
      "execution_count": null,
      "metadata": {
        "id": "dPeg-agnIAD_",
        "outputId": "7bf97e4c-04f7-449b-d74a-b002f3c12cd0"
      },
      "outputs": [
        {
          "name": "stderr",
          "output_type": "stream",
          "text": [
            "/Users/100022114/opt/anaconda3/lib/python3.8/site-packages/IPython/core/interactiveshell.py:3071: DtypeWarning: Columns (70,71,72,73,74,76,79) have mixed types.Specify dtype option on import or set low_memory=False.\n",
            "  has_raised = await self.run_ast_nodes(code_ast.body, cell_name,\n"
          ]
        },
        {
          "data": {
            "image/png": "[encoded data removed]",
            "text/plain": [
              "<Figure size 432x288 with 1 Axes>"
            ]
          },
          "metadata": {
            "needs_background": "light"
          },
          "output_type": "display_data"
        }
      ],
      "source": [
        "import pandas as pd\n",
        "data = pd.read_csv('datasets/vehicles.csv')\n",
        "pd.set_option('display.max_columns', 100)\n",
        "\n",
        "gas_vehicles = data[data['fuelType']=='Regular']\n",
        "\n",
        "# a silly function that returns the average MPG for the first k cars in the df\n",
        "def getAverageMPG(data, k):\n",
        "    return data[\"comb08\"].iloc[0:k].mean()\n",
        "\n",
        "number_of_points = 500\n",
        "\n",
        "#populate the series list\n",
        "series = []\n",
        "for i in range(1, number_of_points):\n",
        "    val = getAverageMPG(gas_vehicles, i)\n",
        "    series.append(val)\n",
        "\n",
        "#plot it!\n",
        "xvals = range(1, number_of_points)\n",
        "plt.suptitle('Average MPG', fontsize=18)\n",
        "plt.xlabel('cars used in average')\n",
        "plt.ylabel('average MPG')\n",
        "plt.plot(xvals, series, 'r,-', label='MPG')\n",
        "plt.legend(loc='lower right', shadow=True)\n",
        "plt.axis([1, number_of_points, 10,25])\n",
        "plt.show()"
      ]
    },
    {
      "cell_type": "markdown",
      "metadata": {
        "id": "i238BXcVIAD_"
      },
      "source": [
        "# 💬 Group Exercise #1:\n",
        "\n",
        "Given the code from the previous slide:\n",
        "- change the number of points to 20\n",
        "- change the line to green triangles\n",
        "- also plot the median (red dots)"
      ]
    },
    {
      "cell_type": "code",
      "execution_count": null,
      "metadata": {
        "id": "ObmTj2MYIAEA",
        "outputId": "e282581a-a5ef-43de-d0e0-a4c73d566a5d"
      },
      "outputs": [
        {
          "data": {
            "image/png": "[encoded data removed]",
            "text/plain": [
              "<Figure size 432x288 with 1 Axes>"
            ]
          },
          "metadata": {
            "needs_background": "light"
          },
          "output_type": "display_data"
        }
      ],
      "source": [
        "# make the changes above to lead to a graph that looks like the one below:"
      ]
    },
    {
      "cell_type": "markdown",
      "metadata": {
        "id": "xTzgpOqjIAEA"
      },
      "source": [
        "# Testing"
      ]
    },
    {
      "cell_type": "markdown",
      "metadata": {
        "id": "xYOaUpVtIAEA"
      },
      "source": [
        "# How do we know if our model is a 'good' model?\n",
        "\n",
        "We want to know how good our models are at making predictions... how can we test it? \n",
        "\n",
        "Examples:\n",
        "- what k-value should we use in knn algorithm?\n",
        "- what is the effect on accuracy if I normalize the data?\n",
        "- Should I use a weighted knn algorithm or a normal knn?"
      ]
    },
    {
      "cell_type": "markdown",
      "metadata": {
        "id": "L1dkOfkpIAEA"
      },
      "source": [
        "## Evaluation of Machine Learning Algorithms:\n",
        "\n",
        "We want to know how good our model is at making predictions. How can we test it? "
      ]
    },
    {
      "cell_type": "markdown",
      "metadata": {
        "id": "6wfv4uYvIAEB"
      },
      "source": [
        "__Option 1:__ Deploy the model in a live setting and see how it does on new examples."
      ]
    },
    {
      "cell_type": "markdown",
      "metadata": {
        "id": "xve3WrcvIAEB"
      },
      "source": [
        "__Option 2:__ Run each of our training examples through the model and see how many it gets correct"
      ]
    },
    {
      "cell_type": "markdown",
      "metadata": {
        "id": "qTQaVgfoIAEB"
      },
      "source": [
        "__Option 3:__ Cross-Validation - set aside some of your training examples to be used for testing.\n",
        "- don't use testing examples when you train the model, only the rest that were left over. Why?"
      ]
    },
    {
      "cell_type": "markdown",
      "metadata": {
        "id": "GHLBwABgIAEB"
      },
      "source": [
        "## Cross-Validation\n",
        "\n",
        "Don't train the model on the testing data!\n",
        "\n",
        "<div>\n",
        "<img src=\"images/day04_cross_validation.png\" width=600/>\n",
        "</div>"
      ]
    },
    {
      "cell_type": "markdown",
      "metadata": {
        "id": "vbhShjEbIAEB"
      },
      "source": [
        "## Cross-Validation Code:\n",
        "\n",
        "A good rule of thumb is that we like to train our model with 80% of the training examples, and test it on 20% of the training examples.\n",
        "\n",
        "Splitting datasets into training and testing sets with a Pandas DataFrame:"
      ]
    },
    {
      "cell_type": "code",
      "execution_count": null,
      "metadata": {
        "id": "ktkDPM1SIAEB",
        "outputId": "1351dd89-ec86-4e01-c8e8-a1eb87dfa485"
      },
      "outputs": [
        {
          "data": {
            "text/plain": [
              "(130, 5)"
            ]
          },
          "execution_count": 15,
          "metadata": {},
          "output_type": "execute_result"
        }
      ],
      "source": [
        "import pandas as pd\n",
        "import numpy as np\n",
        "\n",
        "data = pd.read_csv('datasets/irisData.csv')\n",
        "\n",
        "#shuffle the data \"sampling\" the full set in random order\n",
        "shuffled_data = data.sample(frac=1, random_state=41)\n",
        "\n",
        "# set up training and testing set\n",
        "test_data = shuffled_data.iloc[0:20] #test on the first 20 rows of shuffled\n",
        "train_data = shuffled_data.iloc[20:] #train on the rest\n",
        "train_data.shape"
      ]
    },
    {
      "cell_type": "markdown",
      "metadata": {
        "id": "Fyd0UZ8KIAEC"
      },
      "source": [
        "## Cross-Validation Metrics:\n",
        "\n",
        "When doing cross-validation, how do we tell how well our model performed?\n",
        "\n",
        "How can we measure it?"
      ]
    },
    {
      "cell_type": "markdown",
      "metadata": {
        "id": "R9fQQBsyIAEC"
      },
      "source": [
        "- depends on the task and what we want to know. \n",
        "\n",
        "### Classification metrics are different than regression metrics"
      ]
    },
    {
      "cell_type": "markdown",
      "metadata": {
        "id": "ijZebzRtIAEC"
      },
      "source": [
        "## Classification Metrics: `Accuracy`\n",
        "\n",
        "__Accuracy__: The fraction of test examples your model predicted correctly\n",
        "\n",
        "*Example*: 17 out of 20 = 0.85 accuracy"
      ]
    },
    {
      "cell_type": "markdown",
      "metadata": {
        "id": "V17ADzROIAEC"
      },
      "source": [
        "### Issues with accuracy:\n",
        "- Suppose that a blood test for cancer has 99% accuracy\n",
        "    - *can we safely assume this is a really good test?*\n",
        "        -  If the dataset is *unbalanced*, accuracy is not a reliable metric for the real performance of a classifier because it will yield misleading results.\n",
        "        - __Example__: Most people don’t have cancer.\n",
        "\n",
        "    - Beware of what your metrics don't tell you. "
      ]
    },
    {
      "cell_type": "markdown",
      "metadata": {
        "id": "ErF1urX-IAEC"
      },
      "source": [
        "- What about __false negatives__ and __false positives__?\n",
        "    - __false negative__: a test result which incorrectly indicates that a particular condition or attribute is absent\n",
        "    - __false positives__: a test result which incorrectly indicates that a particular condition or attribute is present"
      ]
    },
    {
      "cell_type": "markdown",
      "metadata": {
        "id": "UQ9vMKMwIAEC"
      },
      "source": [
        "## Classification Metrics: `Confusion Matrix`\n",
        "\n",
        "__confusion matrix__: A specific table layout that allows the visualiztion of the performance of an algorithm. Each row represents instances in an actual class while each column represents the instances in a predicted class. \n",
        "- It makes it easy to see where your model is confusing the predicted and actual results\n",
        "\n",
        "\n",
        "<div>\n",
        "<img src=\"images/day04_iris_confusionmatrix.png\" width=600/>\n",
        "</div>"
      ]
    },
    {
      "cell_type": "markdown",
      "metadata": {
        "id": "TdjI3yGWIAED"
      },
      "source": [
        "\n",
        "<div>\n",
        "<img src=\"images/day04_pretty_confusionmatrix.png\" width=600/>\n",
        "</div>"
      ]
    },
    {
      "cell_type": "markdown",
      "metadata": {
        "id": "rLI7Rm7VIAED"
      },
      "source": [
        "## Confusion Matrix Exercise:\n",
        "\n",
        "Given the following confusion matrix:\n",
        "- how many false positive?\n",
        "- how many false negatives\n",
        "- what is the accuracy?\n",
        "\n",
        "\n",
        "<div>\n",
        "<img src=\"images/day04_confusionmatrix_ex.png\" width=400/>\n",
        "</div>\n"
      ]
    },
    {
      "cell_type": "markdown",
      "metadata": {
        "id": "8l1WrySvIAED"
      },
      "source": [
        "# Classification v Regression:\n",
        "\n",
        "What's the difference?\n",
        "\n",
        "The output variable in __regression__ is numerical (or continuous).\n",
        "\n",
        "The output variable in __classification__ is categorical (or discrete). "
      ]
    },
    {
      "cell_type": "markdown",
      "metadata": {
        "id": "bu-XWU4qIAED"
      },
      "source": [
        "### Is accuracy a good metric for regression? Why or why not?"
      ]
    },
    {
      "cell_type": "markdown",
      "metadata": {
        "id": "h5mC7GHNIAED"
      },
      "source": [
        "# Regression Metrics: `Mean Absolute Error (MAE)`\n",
        "\n",
        "__Mean Absolute Error (MAE)__: the average difference between the actual and predicted target values. \n",
        "\n",
        "<div>\n",
        "<img src=\"images/day04_mae.png\"/>\n",
        "</div>\n"
      ]
    },
    {
      "cell_type": "markdown",
      "metadata": {
        "id": "Xc0UHlVTIAED"
      },
      "source": [
        "<div>\n",
        "<img src=\"images/day04_mae_calc.png\"/>\n",
        "</div>\n"
      ]
    },
    {
      "cell_type": "markdown",
      "metadata": {
        "id": "k777gzKwIAED"
      },
      "source": [
        "## Regression Metrics: `Mean Squared Error (MSE)`\n",
        "\n",
        "__Mean Squared Error__: The average squared difference between the actual and predicted targets.\n",
        "\n",
        "<div>\n",
        "<img src=\"images/day04_mse.png\"/>\n",
        "</div>\n"
      ]
    },
    {
      "cell_type": "markdown",
      "metadata": {
        "id": "vipG0QynIAED"
      },
      "source": [
        "<div>\n",
        "<img src=\"images/day04_mse_calc.png\"/>\n",
        "</div>\n"
      ]
    },
    {
      "cell_type": "markdown",
      "metadata": {
        "id": "JuDbRcLlIAEE"
      },
      "source": [
        "## MAE v MSE:\n",
        "\n",
        "What effect does the squaring have on the error measurements?\n",
        "\n",
        "Can you think of any scenarios where it might be better to use `MAE` over `MSE` or vis versa?"
      ]
    },
    {
      "cell_type": "markdown",
      "metadata": {
        "id": "X7fSx5AkIAEE"
      },
      "source": [
        "## Regression Metrics: $R^2$\n",
        "\n",
        "Consider this naive prediction method: always predict the average target value\n",
        "\n",
        "Do you think this is a good predictor algorithm? "
      ]
    },
    {
      "cell_type": "markdown",
      "metadata": {
        "id": "5jqzmZM7IAEE"
      },
      "source": [
        "No. \n",
        "\n",
        "So, we should be able to beat it-- if we can't, we're in trouble. However, we can use this as a point of comparison.\n",
        "- An $R^2$ values of 0 menas that you have done no better than the naive strategy of predicting the average"
      ]
    },
    {
      "cell_type": "code",
      "execution_count": null,
      "metadata": {
        "id": "Z5Er4cZJIAEE",
        "outputId": "d6cf39d9-210c-4cd7-a5d4-a58214a1bfc8"
      },
      "outputs": [
        {
          "name": "stdout",
          "output_type": "stream",
          "text": [
            "0.5652382092410821\n"
          ]
        }
      ],
      "source": [
        "from sklearn.metrics import r2_score\n",
        "predictions= [12, 15.2, 21, 29]\n",
        "actual = [14, 16, 19, 21]\n",
        "r2 = r2_score(predictions, actual)\n",
        "print(r2)"
      ]
    },
    {
      "cell_type": "markdown",
      "metadata": {
        "id": "JvJjZtreIAEE"
      },
      "source": [
        "## Interpreting $R^2$\n",
        "\n",
        "Things you should know:\n",
        "- Usually $R^2$ values fall between 0 and 1\n",
        "- 1 means you perfectly fit the data\n",
        "- 0 means you've done no better than average\n",
        "- Negative numbers mean that the naive model that predicts the average is actually a better predictor--yours is really bad. "
      ]
    },
    {
      "cell_type": "markdown",
      "metadata": {
        "id": "uln5L6yuIAEE"
      },
      "source": [
        "## Let's see how accurate our kNN model is:\n",
        "\n",
        "Start with loading the data and setting up some cross-validation:"
      ]
    },
    {
      "cell_type": "code",
      "execution_count": null,
      "metadata": {
        "id": "5Iwq6qMJIAEE"
      },
      "outputs": [],
      "source": [
        "import pandas\n",
        "#path = '/content/drive/MyDrive/CS167/datasets/irisData.csv'\n",
        "path = 'datasets/irisData.csv' #change this line to point to your data\n",
        "data = pandas.read_csv(path) \n",
        "#shuffle the data - \"sampling\" the full set in random order\n",
        "shuffled_data = data.sample(frac=1, random_state=41)\n",
        "\n",
        "#cross-validation\n",
        "#use the first 20 rows in the shuffled set as testing data #train with the rest\n",
        "test_data = shuffled_data.iloc[0:20]\n",
        "train_data = shuffled_data.iloc[20:]"
      ]
    },
    {
      "cell_type": "markdown",
      "metadata": {
        "id": "W_0mF7YTIAEF"
      },
      "source": [
        "Then, let's bring in our `kNN()` function--here I'm calling it `classify_kNN()` becuase it uses `mode()` to return the prediction which only works for classifcation."
      ]
    },
    {
      "cell_type": "code",
      "execution_count": null,
      "metadata": {
        "id": "4G4GN2hyIAEF"
      },
      "outputs": [],
      "source": [
        "def classify_kNN(new_example,train_data,k):\n",
        "    #getting a copy of the training set just so we don't\n",
        "    #mess up the original\n",
        "    train_data_copy = train_data.copy()\n",
        "    train_data_copy['distance_to_new'] = numpy.sqrt(\n",
        "        (new_example['petal length']-train_data_copy['petal length'])**2\n",
        "        +(new_example['sepal length']-train_data_copy['sepal length'])**2\n",
        "        +(new_example['petal width']-train_data_copy['petal width'])**2\n",
        "        +(new_example['sepal width']-train_data_copy['sepal width'])**2)\n",
        "    \n",
        "    sorted_data = train_data_copy.sort_values(['distance_to_new'])\n",
        "    #mode to get most common thing in the first k examples in the sorted dataframe\n",
        "    #iloc to get the actual string, mode will return the string inside of a pandas Series\n",
        "    prediction = sorted_data.iloc[0:k]['species'].mode().iloc[0] \n",
        "    return prediction"
      ]
    },
    {
      "cell_type": "markdown",
      "metadata": {
        "id": "5BPH7XOvIAEF"
      },
      "source": [
        "Next, let's write a function for accuracy that will compare the actual species with the predicted species and return the percent we got correct."
      ]
    },
    {
      "cell_type": "code",
      "execution_count": null,
      "metadata": {
        "id": "ICAcEL-_IAEF"
      },
      "outputs": [],
      "source": [
        "def accuracy(actual,predicted):\n",
        "    #get the series comparing the two series\n",
        "    compared = actual.equals(predicted)\n",
        "    correct_predictions = compared[ compared == True ]\n",
        "    num_correct = len(correct_predictions)\n",
        "    frac_correct = num_correct/len(actual)\n",
        "    return frac_correct"
      ]
    },
    {
      "cell_type": "markdown",
      "metadata": {
        "id": "AJDcByuhIAEF"
      },
      "source": [
        "Now, let's write a function `classify_all_kNN(test_data, train_data,k):` that:\n",
        "- goes through each example in the `test_data`, and gets the prediction using our `kNN()` function\n",
        "- It will return a pandas `Series` that has the predictions for each row in `test_data`.\n",
        "\n",
        "It should look something like this:"
      ]
    },
    {
      "cell_type": "code",
      "execution_count": null,
      "metadata": {
        "id": "t4Uzx5ZOIAEF"
      },
      "outputs": [],
      "source": [
        "def classify_all_kNN(test_data,train_data,k):\n",
        "    #apply the classify_kNN function to each item in the test data with the train\n",
        "    #data and k passed as the other two arguments. The result will be a series of \n",
        "    #the individual results.\n",
        "    \n",
        "    results = []\n",
        "    \n",
        "    for i in range(len(test_data)):\n",
        "        prediction = classify_kNN(test_data.iloc[i], train_data,k)\n",
        "        results.append(prediction)\n",
        "    \n",
        "    return pandas.Series(results)"
      ]
    },
    {
      "cell_type": "markdown",
      "metadata": {
        "id": "vknKLYGLIAEF"
      },
      "source": [
        "Now, let's pull it all together and see how our kNN does:"
      ]
    },
    {
      "cell_type": "code",
      "execution_count": null,
      "metadata": {
        "id": "RaWwld7rIAEG",
        "outputId": "8aeeaef5-bd03-423f-a11f-100c131e7947"
      },
      "outputs": [
        {
          "name": "stdout",
          "output_type": "stream",
          "text": [
            "ACTUAL\t\tPREDICTIONS\n",
            "Iris-virginica    Iris-virginica\n",
            "Iris-virginica    Iris-virginica\n",
            "Iris-virginica    Iris-virginica\n",
            "Iris-versicolor    Iris-versicolor\n",
            "Iris-virginica    Iris-virginica\n",
            "Iris-versicolor    Iris-versicolor\n",
            "Iris-virginica    Iris-virginica\n",
            "Iris-versicolor    Iris-versicolor\n",
            "Iris-virginica    Iris-virginica\n",
            "Iris-virginica    Iris-virginica\n",
            "Iris-virginica    Iris-virginica\n",
            "Iris-setosa    Iris-setosa\n",
            "Iris-setosa    Iris-setosa\n",
            "Iris-versicolor    Iris-versicolor\n",
            "Iris-setosa    Iris-setosa\n",
            "Iris-virginica    Iris-virginica\n",
            "Iris-setosa    Iris-setosa\n",
            "Iris-versicolor    Iris-virginica\n",
            "Iris-setosa    Iris-setosa\n",
            "Iris-setosa    Iris-setosa\n",
            "accuracy: 0.95\n"
          ]
        }
      ],
      "source": [
        "import numpy\n",
        "from sklearn.metrics import accuracy_score\n",
        "\n",
        "predictions5NN = classify_all_kNN(test_data,train_data,11)\n",
        "\n",
        "\n",
        "#this will print out our predictions so we can see:\n",
        "print('ACTUAL\\t\\tPREDICTIONS')\n",
        "for i in range(20):\n",
        "    print(test_data['species'].iloc[i], \"  \", predictions5NN.iloc[i] )\n",
        "\n",
        "#acc = accuracy(test_data['species'],predictions5NN)\n",
        "\n",
        "acc = accuracy_score(test_data['species'], predictions5NN)\n",
        "print(\"accuracy:\", acc)"
      ]
    },
    {
      "cell_type": "code",
      "execution_count": null,
      "metadata": {
        "id": "32AaVxk7IAEG",
        "outputId": "2769734e-227d-440b-d136-bf9b77f81c45"
      },
      "outputs": [
        {
          "data": {
            "image/png": "[encoded data removed]",
            "text/plain": [
              "<Figure size 432x288 with 1 Axes>"
            ]
          },
          "metadata": {
            "needs_background": "light"
          },
          "output_type": "display_data"
        }
      ],
      "source": [
        "import matplotlib.pyplot as plt\n",
        "%matplotlib inline\n",
        "import pandas\n",
        "\n",
        "#path = '/content/drive/MyDrive/CS167/datasets/irisData.csv'\n",
        "path = 'datasets/irisData.csv'\n",
        "\n",
        "#reload the data\n",
        "data = pandas.read_csv(path)\n",
        "\n",
        "shuffled_data = data.sample(frac=1, random_state = 41)\n",
        "\n",
        "test_data = shuffled_data.iloc[0:20]\n",
        "train_data = shuffled_data.iloc[20:]\n",
        "\n",
        "\n",
        "k_vals = [1,3,5,9,15,21,31,51,101,129]\n",
        "kNN_accuracies = []\n",
        "\n",
        "for k in k_vals:\n",
        "    predictions = classify_all_kNN(test_data,train_data,k)\n",
        "    current_accuracy = accuracy_score(test_data['species'],predictions)\n",
        "    kNN_accuracies.append(current_accuracy)\n",
        "\n",
        "\n",
        "plt.suptitle('Iris Data k-NN Experiment',fontsize=18)\n",
        "plt.xlabel('k')\n",
        "plt.ylabel('accuracy')\n",
        "plt.plot(k_vals,kNN_accuracies,'ro-',label='k-NN')\n",
        "plt.legend(loc='lower left', shadow=True)\n",
        "plt.axis([0,130,0,1])\n",
        "\n",
        "plt.show()"
      ]
    },
    {
      "cell_type": "markdown",
      "metadata": {
        "id": "JFtKNqXGIAEG"
      },
      "source": [
        "## 💬 Group Exercise:\n",
        "\n",
        "Write a function that takes in two Series and returns the Mean Absolute Error:\n",
        "\n",
        "__Mean Absolute Error (MAE)__: the average difference between the actual and predicted target values. \n",
        "\n",
        "<div>\n",
        "<img src=\"images/day04_mae.png\", width=400/>\n",
        "</div>\n",
        "\n",
        "> How can you test your code to make sure it's working correctly?\n"
      ]
    },
    {
      "cell_type": "code",
      "execution_count": null,
      "metadata": {
        "id": "3Xihx3KGIAEG",
        "outputId": "516645f7-4043-4260-b0ab-a7e96d685029"
      },
      "outputs": [
        {
          "data": {
            "text/plain": [
              "19"
            ]
          },
          "execution_count": 29,
          "metadata": {},
          "output_type": "execute_result"
        }
      ],
      "source": [
        "import numpy as np\n",
        "np.absolute(-19)"
      ]
    },
    {
      "cell_type": "code",
      "execution_count": null,
      "metadata": {
        "id": "uaFag2xsIAEG"
      },
      "outputs": [],
      "source": [
        "def mae(actual, predicted):\n",
        "    \"\"\"\n",
        "    takes in two Series of the same length, and returns the mean absolute error between the two series\n",
        "    Hint: It's a lot simpler than you may think. \n",
        "    \"\"\"\n",
        "    #your code here\n",
        "    \n",
        "    \n",
        "    return mean_absolute_error\n",
        "    "
      ]
    }
  ],
  "metadata": {
    "celltoolbar": "Slideshow",
    "kernelspec": {
      "display_name": "Python 3",
      "language": "python",
      "name": "python3"
    },
    "language_info": {
      "codemirror_mode": {
        "name": "ipython",
        "version": 3
      },
      "file_extension": ".py",
      "mimetype": "text/x-python",
      "name": "python",
      "nbconvert_exporter": "python",
      "pygments_lexer": "ipython3",
      "version": "3.8.3"
    },
    "colab": {
      "provenance": [],
      "include_colab_link": true
    }
  },
  "nbformat": 4,
  "nbformat_minor": 0
}