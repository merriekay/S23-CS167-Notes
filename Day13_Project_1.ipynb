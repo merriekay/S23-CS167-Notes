{
  "cells": [
    {
      "cell_type": "markdown",
      "metadata": {
        "id": "view-in-github",
        "colab_type": "text"
      },
      "source": [
        "<a href=\"https://colab.research.google.com/github/merriekay/S23-CS167-Notes/blob/main/Day13_Project_1.ipynb\" target=\"_parent\"><img src=\"https://colab.research.google.com/assets/colab-badge.svg\" alt=\"Open In Colab\"/></a>"
      ]
    },
    {
      "cell_type": "markdown",
      "metadata": {
        "id": "oPYulu5cOcgH"
      },
      "source": [
        "# CS167: Day12\n",
        "## Project #1:\n",
        "\n",
        "#### CS167: Machine Learning, Spring 2023\n",
        "\n",
        "Thursday, March 9th, 2023\n",
        "\n",
        "📆 [Course Schedule](https://docs.google.com/spreadsheets/d/e/2PACX-1vSvFV5Mz0_YZE1d5r3gQ8IMktE4cBAsJIlP30cl2GhEpSO0J-YWV62QokSDz-OcOCsEmxMuKpY0kVlR/pubhtml?gid=0&single=true) | 🙋[PollEverywhere](https://pollev.com/meredithmoore011) | 📜 [Syllabus](https://analytics.drake.edu/~moore/cs167_s23_syllabus.html) | 📬 [CodePost Login](https://codepost.io/login)"
      ]
    },
    {
      "cell_type": "markdown",
      "metadata": {
        "id": "hfX3d65VOcgK"
      },
      "source": [
        "# Admin Stuff\n",
        "\n",
        "You should be working on:\n",
        "- [Project #1](https://classroom.github.com/a/qGx9Wonm) is released today, **Due Thursday, March 23rd, by 11:59pm**."
      ]
    },
    {
      "cell_type": "markdown",
      "metadata": {
        "id": "eMuuilEOOcgL"
      },
      "source": [
        "## Models we've talked about so far:"
      ]
    },
    {
      "cell_type": "markdown",
      "metadata": {
        "id": "D-TVLCyBOcgL"
      },
      "source": [
        "#### k Nearest Neighbors: \n",
        "- [`sklearn.neighbors.KNeighborsClassifier()`](https://scikit-learn.org/stable/modules/generated/sklearn.neighbors.KNeighborsClassifier.html)\n",
        "- [`sklearn.neighbors.KNeighborsRegressor()`](https://scikit-learn.org/stable/modules/generated/sklearn.neighbors.KNeighborsRegressor.html)\n",
        "- **weighted k-Nearest-Neighbors**"
      ]
    },
    {
      "cell_type": "markdown",
      "metadata": {
        "id": "Y7tGwMkzOcgM"
      },
      "source": [
        "#### Decision Trees:\n",
        "- [`sklearn.tree.DecisionTreeClassifier()`](https://scikit-learn.org/stable/modules/generated/sklearn.tree.DecisionTreeClassifier.html)\n",
        "- [`sklearn.tree.DecisionTreeRegressor()`](https://scikit-learn.org/stable/modules/generated/sklearn.tree.DecisionTreeRegressor.html)"
      ]
    },
    {
      "cell_type": "markdown",
      "metadata": {
        "id": "ltbDRGvmOcgM"
      },
      "source": [
        "#### Random Forests:\n",
        "- [`sklearn.ensemble.RandomForestClassifier()`](https://scikit-learn.org/stable/modules/generated/sklearn.ensemble.RandomForestClassifier.html)\n",
        "- [`sklearn.ensemble.RandomForestRegressor()`](https://scikit-learn.org/stable/modules/generated/sklearn.ensemble.RandomForesRegressor.html)"
      ]
    },
    {
      "cell_type": "markdown",
      "metadata": {
        "id": "pj96aaNPOcgM"
      },
      "source": [
        "# ✨ New Material\n",
        "\n",
        "Dummy Variables (somewhat new...)\n",
        "\n",
        "Dummy Models:\n",
        "- Dummy Classifier\n",
        "- Dummy Regressor\n",
        "\n",
        "Project #1"
      ]
    },
    {
      "cell_type": "markdown",
      "metadata": {
        "id": "KwSMdyD5OcgN"
      },
      "source": [
        "## Dummy Variables:\n",
        "When you need to convert categorical variables to numeric variables, [`pd.get_dummies()`](https://pandas.pydata.org/docs/reference/api/pandas.get_dummies.html) is a really helpful function."
      ]
    },
    {
      "cell_type": "code",
      "execution_count": null,
      "metadata": {
        "id": "qERkm52vOcgN"
      },
      "outputs": [],
      "source": [
        "from google.colab import drive\n",
        "drive.mount('/content/drive')"
      ]
    },
    {
      "cell_type": "code",
      "execution_count": null,
      "metadata": {
        "id": "bjMQvAnZOcgO",
        "outputId": "59376d7d-3334-423b-f52f-975a0aaefd42"
      },
      "outputs": [
        {
          "data": {
            "text/html": [
              "<div>\n",
              "<style scoped>\n",
              "    .dataframe tbody tr th:only-of-type {\n",
              "        vertical-align: middle;\n",
              "    }\n",
              "\n",
              "    .dataframe tbody tr th {\n",
              "        vertical-align: top;\n",
              "    }\n",
              "\n",
              "    .dataframe thead th {\n",
              "        text-align: right;\n",
              "    }\n",
              "</style>\n",
              "<table border=\"1\" class=\"dataframe\">\n",
              "  <thead>\n",
              "    <tr style=\"text-align: right;\">\n",
              "      <th></th>\n",
              "      <th>survived</th>\n",
              "      <th>pclass</th>\n",
              "      <th>sex</th>\n",
              "      <th>age</th>\n",
              "      <th>sibsp</th>\n",
              "      <th>parch</th>\n",
              "      <th>fare</th>\n",
              "      <th>embarked</th>\n",
              "      <th>class</th>\n",
              "      <th>who</th>\n",
              "      <th>adult_male</th>\n",
              "      <th>deck</th>\n",
              "      <th>embark_town</th>\n",
              "      <th>alive</th>\n",
              "      <th>alone</th>\n",
              "    </tr>\n",
              "  </thead>\n",
              "  <tbody>\n",
              "    <tr>\n",
              "      <th>0</th>\n",
              "      <td>0</td>\n",
              "      <td>3</td>\n",
              "      <td>male</td>\n",
              "      <td>22.0</td>\n",
              "      <td>1</td>\n",
              "      <td>0</td>\n",
              "      <td>7.2500</td>\n",
              "      <td>S</td>\n",
              "      <td>Third</td>\n",
              "      <td>man</td>\n",
              "      <td>True</td>\n",
              "      <td>NaN</td>\n",
              "      <td>Southampton</td>\n",
              "      <td>no</td>\n",
              "      <td>False</td>\n",
              "    </tr>\n",
              "    <tr>\n",
              "      <th>1</th>\n",
              "      <td>1</td>\n",
              "      <td>1</td>\n",
              "      <td>female</td>\n",
              "      <td>38.0</td>\n",
              "      <td>1</td>\n",
              "      <td>0</td>\n",
              "      <td>71.2833</td>\n",
              "      <td>C</td>\n",
              "      <td>First</td>\n",
              "      <td>woman</td>\n",
              "      <td>False</td>\n",
              "      <td>C</td>\n",
              "      <td>Cherbourg</td>\n",
              "      <td>yes</td>\n",
              "      <td>False</td>\n",
              "    </tr>\n",
              "    <tr>\n",
              "      <th>2</th>\n",
              "      <td>1</td>\n",
              "      <td>3</td>\n",
              "      <td>female</td>\n",
              "      <td>26.0</td>\n",
              "      <td>0</td>\n",
              "      <td>0</td>\n",
              "      <td>7.9250</td>\n",
              "      <td>S</td>\n",
              "      <td>Third</td>\n",
              "      <td>woman</td>\n",
              "      <td>False</td>\n",
              "      <td>NaN</td>\n",
              "      <td>Southampton</td>\n",
              "      <td>yes</td>\n",
              "      <td>True</td>\n",
              "    </tr>\n",
              "    <tr>\n",
              "      <th>3</th>\n",
              "      <td>1</td>\n",
              "      <td>1</td>\n",
              "      <td>female</td>\n",
              "      <td>35.0</td>\n",
              "      <td>1</td>\n",
              "      <td>0</td>\n",
              "      <td>53.1000</td>\n",
              "      <td>S</td>\n",
              "      <td>First</td>\n",
              "      <td>woman</td>\n",
              "      <td>False</td>\n",
              "      <td>C</td>\n",
              "      <td>Southampton</td>\n",
              "      <td>yes</td>\n",
              "      <td>False</td>\n",
              "    </tr>\n",
              "    <tr>\n",
              "      <th>4</th>\n",
              "      <td>0</td>\n",
              "      <td>3</td>\n",
              "      <td>male</td>\n",
              "      <td>35.0</td>\n",
              "      <td>0</td>\n",
              "      <td>0</td>\n",
              "      <td>8.0500</td>\n",
              "      <td>S</td>\n",
              "      <td>Third</td>\n",
              "      <td>man</td>\n",
              "      <td>True</td>\n",
              "      <td>NaN</td>\n",
              "      <td>Southampton</td>\n",
              "      <td>no</td>\n",
              "      <td>True</td>\n",
              "    </tr>\n",
              "  </tbody>\n",
              "</table>\n",
              "</div>"
            ],
            "text/plain": [
              "   survived  pclass     sex   age  sibsp  parch     fare embarked  class  \\\n",
              "0         0       3    male  22.0      1      0   7.2500        S  Third   \n",
              "1         1       1  female  38.0      1      0  71.2833        C  First   \n",
              "2         1       3  female  26.0      0      0   7.9250        S  Third   \n",
              "3         1       1  female  35.0      1      0  53.1000        S  First   \n",
              "4         0       3    male  35.0      0      0   8.0500        S  Third   \n",
              "\n",
              "     who  adult_male deck  embark_town alive  alone  \n",
              "0    man        True  NaN  Southampton    no  False  \n",
              "1  woman       False    C    Cherbourg   yes  False  \n",
              "2  woman       False  NaN  Southampton   yes   True  \n",
              "3  woman       False    C  Southampton   yes  False  \n",
              "4    man        True  NaN  Southampton    no   True  "
            ]
          },
          "execution_count": 12,
          "metadata": {},
          "output_type": "execute_result"
        }
      ],
      "source": [
        "path = 'datasets/titanic.csv' #'/content/drive/MyDrive/CS167/datasets/titanic.csv'\n",
        "titanic = pd.read_csv(path)\n",
        "titanic.head()"
      ]
    },
    {
      "cell_type": "markdown",
      "metadata": {
        "id": "oZdhg4wVOcgP"
      },
      "source": [
        "### Things to Notice: `pd.get_dummies()` \n",
        "- `deck`, `sex`, and `embarked` used to be categorical variables, but they no longer exist in `titanic_dummies`\n",
        "- instead, we have `deck_A`, `deck_B`, or `embarked_C`, `embarked_Q`, etc.\n",
        "- when we call `pd.get_dummies()`, we pass in the original dataframe, and the columns we want to convert\n",
        "- `pd.get_dummies()` returns a new dataframe without the categorical columns."
      ]
    },
    {
      "cell_type": "code",
      "execution_count": null,
      "metadata": {
        "id": "Eq5-Ob8bOcgQ",
        "outputId": "71222f6e-8009-4154-fe76-9b818a775bd6"
      },
      "outputs": [
        {
          "data": {
            "text/html": [
              "<div>\n",
              "<style scoped>\n",
              "    .dataframe tbody tr th:only-of-type {\n",
              "        vertical-align: middle;\n",
              "    }\n",
              "\n",
              "    .dataframe tbody tr th {\n",
              "        vertical-align: top;\n",
              "    }\n",
              "\n",
              "    .dataframe thead th {\n",
              "        text-align: right;\n",
              "    }\n",
              "</style>\n",
              "<table border=\"1\" class=\"dataframe\">\n",
              "  <thead>\n",
              "    <tr style=\"text-align: right;\">\n",
              "      <th></th>\n",
              "      <th>survived</th>\n",
              "      <th>pclass</th>\n",
              "      <th>age</th>\n",
              "      <th>sibsp</th>\n",
              "      <th>parch</th>\n",
              "      <th>fare</th>\n",
              "      <th>class</th>\n",
              "      <th>who</th>\n",
              "      <th>adult_male</th>\n",
              "      <th>embark_town</th>\n",
              "      <th>...</th>\n",
              "      <th>embarked_C</th>\n",
              "      <th>embarked_Q</th>\n",
              "      <th>embarked_S</th>\n",
              "      <th>deck_A</th>\n",
              "      <th>deck_B</th>\n",
              "      <th>deck_C</th>\n",
              "      <th>deck_D</th>\n",
              "      <th>deck_E</th>\n",
              "      <th>deck_F</th>\n",
              "      <th>deck_G</th>\n",
              "    </tr>\n",
              "  </thead>\n",
              "  <tbody>\n",
              "    <tr>\n",
              "      <th>0</th>\n",
              "      <td>0</td>\n",
              "      <td>3</td>\n",
              "      <td>22.0</td>\n",
              "      <td>1</td>\n",
              "      <td>0</td>\n",
              "      <td>7.2500</td>\n",
              "      <td>Third</td>\n",
              "      <td>man</td>\n",
              "      <td>True</td>\n",
              "      <td>Southampton</td>\n",
              "      <td>...</td>\n",
              "      <td>0</td>\n",
              "      <td>0</td>\n",
              "      <td>1</td>\n",
              "      <td>0</td>\n",
              "      <td>0</td>\n",
              "      <td>0</td>\n",
              "      <td>0</td>\n",
              "      <td>0</td>\n",
              "      <td>0</td>\n",
              "      <td>0</td>\n",
              "    </tr>\n",
              "    <tr>\n",
              "      <th>1</th>\n",
              "      <td>1</td>\n",
              "      <td>1</td>\n",
              "      <td>38.0</td>\n",
              "      <td>1</td>\n",
              "      <td>0</td>\n",
              "      <td>71.2833</td>\n",
              "      <td>First</td>\n",
              "      <td>woman</td>\n",
              "      <td>False</td>\n",
              "      <td>Cherbourg</td>\n",
              "      <td>...</td>\n",
              "      <td>1</td>\n",
              "      <td>0</td>\n",
              "      <td>0</td>\n",
              "      <td>0</td>\n",
              "      <td>0</td>\n",
              "      <td>1</td>\n",
              "      <td>0</td>\n",
              "      <td>0</td>\n",
              "      <td>0</td>\n",
              "      <td>0</td>\n",
              "    </tr>\n",
              "    <tr>\n",
              "      <th>2</th>\n",
              "      <td>1</td>\n",
              "      <td>3</td>\n",
              "      <td>26.0</td>\n",
              "      <td>0</td>\n",
              "      <td>0</td>\n",
              "      <td>7.9250</td>\n",
              "      <td>Third</td>\n",
              "      <td>woman</td>\n",
              "      <td>False</td>\n",
              "      <td>Southampton</td>\n",
              "      <td>...</td>\n",
              "      <td>0</td>\n",
              "      <td>0</td>\n",
              "      <td>1</td>\n",
              "      <td>0</td>\n",
              "      <td>0</td>\n",
              "      <td>0</td>\n",
              "      <td>0</td>\n",
              "      <td>0</td>\n",
              "      <td>0</td>\n",
              "      <td>0</td>\n",
              "    </tr>\n",
              "    <tr>\n",
              "      <th>3</th>\n",
              "      <td>1</td>\n",
              "      <td>1</td>\n",
              "      <td>35.0</td>\n",
              "      <td>1</td>\n",
              "      <td>0</td>\n",
              "      <td>53.1000</td>\n",
              "      <td>First</td>\n",
              "      <td>woman</td>\n",
              "      <td>False</td>\n",
              "      <td>Southampton</td>\n",
              "      <td>...</td>\n",
              "      <td>0</td>\n",
              "      <td>0</td>\n",
              "      <td>1</td>\n",
              "      <td>0</td>\n",
              "      <td>0</td>\n",
              "      <td>1</td>\n",
              "      <td>0</td>\n",
              "      <td>0</td>\n",
              "      <td>0</td>\n",
              "      <td>0</td>\n",
              "    </tr>\n",
              "    <tr>\n",
              "      <th>4</th>\n",
              "      <td>0</td>\n",
              "      <td>3</td>\n",
              "      <td>35.0</td>\n",
              "      <td>0</td>\n",
              "      <td>0</td>\n",
              "      <td>8.0500</td>\n",
              "      <td>Third</td>\n",
              "      <td>man</td>\n",
              "      <td>True</td>\n",
              "      <td>Southampton</td>\n",
              "      <td>...</td>\n",
              "      <td>0</td>\n",
              "      <td>0</td>\n",
              "      <td>1</td>\n",
              "      <td>0</td>\n",
              "      <td>0</td>\n",
              "      <td>0</td>\n",
              "      <td>0</td>\n",
              "      <td>0</td>\n",
              "      <td>0</td>\n",
              "      <td>0</td>\n",
              "    </tr>\n",
              "  </tbody>\n",
              "</table>\n",
              "<p>5 rows × 24 columns</p>\n",
              "</div>"
            ],
            "text/plain": [
              "   survived  pclass   age  sibsp  parch     fare  class    who  adult_male  \\\n",
              "0         0       3  22.0      1      0   7.2500  Third    man        True   \n",
              "1         1       1  38.0      1      0  71.2833  First  woman       False   \n",
              "2         1       3  26.0      0      0   7.9250  Third  woman       False   \n",
              "3         1       1  35.0      1      0  53.1000  First  woman       False   \n",
              "4         0       3  35.0      0      0   8.0500  Third    man        True   \n",
              "\n",
              "   embark_town  ... embarked_C  embarked_Q  embarked_S  deck_A  deck_B  \\\n",
              "0  Southampton  ...          0           0           1       0       0   \n",
              "1    Cherbourg  ...          1           0           0       0       0   \n",
              "2  Southampton  ...          0           0           1       0       0   \n",
              "3  Southampton  ...          0           0           1       0       0   \n",
              "4  Southampton  ...          0           0           1       0       0   \n",
              "\n",
              "   deck_C  deck_D  deck_E  deck_F  deck_G  \n",
              "0       0       0       0       0       0  \n",
              "1       1       0       0       0       0  \n",
              "2       0       0       0       0       0  \n",
              "3       1       0       0       0       0  \n",
              "4       0       0       0       0       0  \n",
              "\n",
              "[5 rows x 24 columns]"
            ]
          },
          "execution_count": 13,
          "metadata": {},
          "output_type": "execute_result"
        }
      ],
      "source": [
        "titanic_dummies = pd.get_dummies(titanic, columns=['sex', 'embarked', 'deck'])\n",
        "titanic_dummies.head()"
      ]
    },
    {
      "cell_type": "markdown",
      "metadata": {
        "id": "HCjo5yicOcgQ"
      },
      "source": [
        "# 💬 Discussion Question:\n",
        "\n",
        "Let's brainstorm some __naive strategies__ of making predictions:\n",
        "- You have a giant jar of jelly beans as well as each person in the classroom's prediction, how would you use this data to make your own prediction?"
      ]
    },
    {
      "cell_type": "markdown",
      "metadata": {
        "id": "nPb3iRLAOcgR"
      },
      "source": [
        "- Now imagine your friend just trained her model and got an MSE of 0.76, and she is asking you if you think that is a reasonable MSE. What would you tell her? Is there a way to test how good her MSE is?"
      ]
    },
    {
      "cell_type": "markdown",
      "metadata": {
        "id": "doQYqWsNOcgR"
      },
      "source": [
        "## Dummy Classifier:\n",
        "A classifier that employs __naive strategies__ of machine learning to use as a baseline.\n",
        "\n",
        "[`sklearn.dummy.DummyClassifier()`](https://scikit-learn.org/stable/modules/generated/sklearn.dummy.DummyClassifier.html) by default will guess the most commonly occuring class.\n",
        "- `strategy='uniform'` will make random guesses"
      ]
    },
    {
      "cell_type": "code",
      "execution_count": null,
      "metadata": {
        "id": "TSri040LOcgR",
        "outputId": "07cc074f-d78f-472c-e3ec-502aba0e3528"
      },
      "outputs": [
        {
          "name": "stdout",
          "output_type": "stream",
          "text": [
            "Accuracy:  0.4581005586592179\n"
          ]
        }
      ],
      "source": [
        "from sklearn.dummy import DummyClassifier\n",
        "from sklearn.model_selection import train_test_split\n",
        "from sklearn.metrics import accuracy_score\n",
        "\n",
        "predictors = titanic.columns.drop('survived')\n",
        "target= 'survived'\n",
        "\n",
        "train_data, test_data, train_sln, test_sln = train_test_split(titanic[predictors], titanic[target], test_size = 0.2, random_state=9)\n",
        "\n",
        "dummy_clf = DummyClassifier(strategy='uniform') #make random guesses\n",
        "dummy_clf.fit(train_data, train_sln)\n",
        "preds = dummy_clf.predict(test_data)\n",
        "\n",
        "print('Accuracy: ', accuracy_score(test_sln, preds))"
      ]
    },
    {
      "cell_type": "markdown",
      "metadata": {
        "id": "JWk92SqXOcgR"
      },
      "source": [
        "So, a classifier that makes random guesses achieved a 53% accuracy. We should absolutley be able to do better than that."
      ]
    },
    {
      "cell_type": "markdown",
      "metadata": {
        "id": "fzqSTCWjOcgR"
      },
      "source": [
        "## Dummy Regressor\n",
        "A regressor that employs __naive strategies__ of machine learning to use as a baseline.\n",
        "[`sklearn.dummy.DummyRegressor()`](https://scikit-learn.org/stable/modules/generated/sklearn.dummy.DummyRegressor.html) by default will guess the average of the target column.\n"
      ]
    },
    {
      "cell_type": "code",
      "execution_count": null,
      "metadata": {
        "id": "z68k7mj6OcgS",
        "outputId": "9bd7c31e-91ab-4a57-db89-8020274765dc"
      },
      "outputs": [
        {
          "data": {
            "text/html": [
              "<div>\n",
              "<style scoped>\n",
              "    .dataframe tbody tr th:only-of-type {\n",
              "        vertical-align: middle;\n",
              "    }\n",
              "\n",
              "    .dataframe tbody tr th {\n",
              "        vertical-align: top;\n",
              "    }\n",
              "\n",
              "    .dataframe thead th {\n",
              "        text-align: right;\n",
              "    }\n",
              "</style>\n",
              "<table border=\"1\" class=\"dataframe\">\n",
              "  <thead>\n",
              "    <tr style=\"text-align: right;\">\n",
              "      <th></th>\n",
              "      <th>fixed acidity</th>\n",
              "      <th>volatile acidity</th>\n",
              "      <th>citric acid</th>\n",
              "      <th>residual sugar</th>\n",
              "      <th>chlorides</th>\n",
              "      <th>free sulfur dioxide</th>\n",
              "      <th>total sulfur dioxide</th>\n",
              "      <th>density</th>\n",
              "      <th>pH</th>\n",
              "      <th>sulphates</th>\n",
              "      <th>alcohol</th>\n",
              "      <th>quality</th>\n",
              "    </tr>\n",
              "  </thead>\n",
              "  <tbody>\n",
              "    <tr>\n",
              "      <th>0</th>\n",
              "      <td>7.4</td>\n",
              "      <td>0.70</td>\n",
              "      <td>0.00</td>\n",
              "      <td>1.9</td>\n",
              "      <td>0.076</td>\n",
              "      <td>11.0</td>\n",
              "      <td>34.0</td>\n",
              "      <td>0.9978</td>\n",
              "      <td>3.51</td>\n",
              "      <td>0.56</td>\n",
              "      <td>9.4</td>\n",
              "      <td>5</td>\n",
              "    </tr>\n",
              "    <tr>\n",
              "      <th>1</th>\n",
              "      <td>7.8</td>\n",
              "      <td>0.88</td>\n",
              "      <td>0.00</td>\n",
              "      <td>2.6</td>\n",
              "      <td>0.098</td>\n",
              "      <td>25.0</td>\n",
              "      <td>67.0</td>\n",
              "      <td>0.9968</td>\n",
              "      <td>3.20</td>\n",
              "      <td>0.68</td>\n",
              "      <td>9.8</td>\n",
              "      <td>5</td>\n",
              "    </tr>\n",
              "    <tr>\n",
              "      <th>2</th>\n",
              "      <td>7.8</td>\n",
              "      <td>0.76</td>\n",
              "      <td>0.04</td>\n",
              "      <td>2.3</td>\n",
              "      <td>0.092</td>\n",
              "      <td>15.0</td>\n",
              "      <td>54.0</td>\n",
              "      <td>0.9970</td>\n",
              "      <td>3.26</td>\n",
              "      <td>0.65</td>\n",
              "      <td>9.8</td>\n",
              "      <td>5</td>\n",
              "    </tr>\n",
              "    <tr>\n",
              "      <th>3</th>\n",
              "      <td>11.2</td>\n",
              "      <td>0.28</td>\n",
              "      <td>0.56</td>\n",
              "      <td>1.9</td>\n",
              "      <td>0.075</td>\n",
              "      <td>17.0</td>\n",
              "      <td>60.0</td>\n",
              "      <td>0.9980</td>\n",
              "      <td>3.16</td>\n",
              "      <td>0.58</td>\n",
              "      <td>9.8</td>\n",
              "      <td>6</td>\n",
              "    </tr>\n",
              "    <tr>\n",
              "      <th>4</th>\n",
              "      <td>7.4</td>\n",
              "      <td>0.70</td>\n",
              "      <td>0.00</td>\n",
              "      <td>1.9</td>\n",
              "      <td>0.076</td>\n",
              "      <td>11.0</td>\n",
              "      <td>34.0</td>\n",
              "      <td>0.9978</td>\n",
              "      <td>3.51</td>\n",
              "      <td>0.56</td>\n",
              "      <td>9.4</td>\n",
              "      <td>5</td>\n",
              "    </tr>\n",
              "  </tbody>\n",
              "</table>\n",
              "</div>"
            ],
            "text/plain": [
              "   fixed acidity  volatile acidity  citric acid  residual sugar  chlorides  \\\n",
              "0            7.4              0.70         0.00             1.9      0.076   \n",
              "1            7.8              0.88         0.00             2.6      0.098   \n",
              "2            7.8              0.76         0.04             2.3      0.092   \n",
              "3           11.2              0.28         0.56             1.9      0.075   \n",
              "4            7.4              0.70         0.00             1.9      0.076   \n",
              "\n",
              "   free sulfur dioxide  total sulfur dioxide  density    pH  sulphates  \\\n",
              "0                 11.0                  34.0   0.9978  3.51       0.56   \n",
              "1                 25.0                  67.0   0.9968  3.20       0.68   \n",
              "2                 15.0                  54.0   0.9970  3.26       0.65   \n",
              "3                 17.0                  60.0   0.9980  3.16       0.58   \n",
              "4                 11.0                  34.0   0.9978  3.51       0.56   \n",
              "\n",
              "   alcohol  quality  \n",
              "0      9.4        5  \n",
              "1      9.8        5  \n",
              "2      9.8        5  \n",
              "3      9.8        6  \n",
              "4      9.4        5  "
            ]
          },
          "execution_count": 15,
          "metadata": {},
          "output_type": "execute_result"
        }
      ],
      "source": [
        "path = 'datasets/winequality-white.csv' #'/content/drive/MyDrive/CS167/datasets/winequality-white.csv'\n",
        "wine =pd.read_csv(path)\n",
        "wine.head()"
      ]
    },
    {
      "cell_type": "code",
      "execution_count": null,
      "metadata": {
        "id": "FR4q93v6OcgS",
        "outputId": "c7319b12-bd9c-48a5-bbe2-25290140ce77"
      },
      "outputs": [
        {
          "name": "stdout",
          "output_type": "stream",
          "text": [
            "MAE:  5.2125\n",
            "MSE:  27.9375\n",
            "R2:  -47.53749575839837\n"
          ]
        }
      ],
      "source": [
        "from sklearn.dummy import DummyRegressor\n",
        "from sklearn import metrics\n",
        "\n",
        "predictors = wine.columns.drop('quality')\n",
        "target= 'quality'\n",
        "\n",
        "train_data, test_data, train_sln, test_sln = train_test_split(wine[predictors], wine[target], test_size = 0.2, random_state=110)\n",
        "\n",
        "dummy_regr = DummyRegressor() # will always predict the average of the target\n",
        "dummy_regr.fit(train_data, train_sln)\n",
        "preds = dummy_clf.predict(test_data)\n",
        "\n",
        "print('MAE: ', metrics.mean_absolute_error(test_sln, preds))\n",
        "print('MSE: ', metrics.mean_squared_error(test_sln, preds))\n",
        "print('R2: ', metrics.r2_score(test_sln, preds))"
      ]
    },
    {
      "cell_type": "markdown",
      "metadata": {
        "id": "OBQxBRnPOcgS"
      },
      "source": [
        "### How should we interpret this?\n"
      ]
    },
    {
      "cell_type": "markdown",
      "metadata": {
        "id": "56DtkMlMOcgS"
      },
      "source": [
        "# Project #1: Choose Your Own Machine Learning Adventure\n",
        "\n",
        "10% of your final grade\n",
        "\n",
        "__Due__: Thursday, March 23rd, by 11:59pm\n",
        "\n",
        "Github Classroom Link: https://classroom.github.com/a/qGx9Wonm"
      ]
    },
    {
      "cell_type": "markdown",
      "metadata": {
        "id": "bugQLQ2KOcgS"
      },
      "source": [
        "## Learning Objectives:\n",
        "\n",
        "For this project, you will use the scikit-learn library to conduct a machine learning experiment, and your write-up will ask you to explain what you did and interpret the results. \n",
        "\n",
        "This directly addresses two of the course learning objectives stated in the syllabus:\n",
        "- Students will be able to create software which utilizes machine learning programming libraries in order to conduct machine-learning-based data analysis.\n",
        "- Students will be able to develop and conduct machine-learning-based data analysis experiments, and they will be able to interpret and explain the results.\n"
      ]
    },
    {
      "cell_type": "markdown",
      "metadata": {
        "id": "mg__NxNKOcgT"
      },
      "source": [
        "## Project Description:\n",
        "\n",
        "For this project, you are to identify the dataset you would like to utilize. I have provided several examples in class, but you have the option of using any dataset you can find.\n",
        "\n",
        "You will be assessed on your ability to utilize algorithms and tools introduced in this class. There are some basic guidelines as to what I want to see laid out below, but you are the machine learning engineer and it is your job to draw some meaningful conclusions about the data."
      ]
    },
    {
      "cell_type": "markdown",
      "metadata": {
        "id": "jwUgtmOIOcgT"
      },
      "source": [
        "## Dataset Choice:\n",
        "For this project, you will get to choose what dataset you use. The ones we've used in class (other than Iris/Titanic/Restaurant as they're pretty small) are all fair game (pokemon, wine quality, breast cancer, spotify). I'd recommend choosing a dataset that is interesting to you--it will make the project more fun and engaging.\n",
        "\n",
        "Here are some other possibilities--[Kaggle](https://www.kaggle.com/datasets) has many many more, as well as the [UCI Machine Learning Repository](https://archive.ics.uci.edu/ml/index.php). It is a good idea to double check with me before grabbing a dataset that's not listed here:\n",
        "- 🥑 [Avocado Prices](https://www.kaggle.com/datasets/neuromusic/avocado-prices)\n",
        "- 🎟️ [Admission to University](https://www.kaggle.com/datasets/akshaydattatraykhare/data-for-admission-in-the-university)\n",
        "- 🏎️ [Speed Dating](https://www.kaggle.com/datasets/whenamancodes/speed-dating)\n",
        "- 🎓 [World University Ranking](https://www.kaggle.com/datasets/whenamancodes/world-university-ranking-2022-2023)\n",
        "- 📸 [Top Instagram Influencers](https://www.kaggle.com/datasets/whenamancodes/top-200-influencers-crushing-on-instagram)\n",
        "- 🌦️ [Weather Prediction](https://www.kaggle.com/datasets/thedevastator/weather-prediction)\n",
        "- 🤑 [Student Monthly Expenses](https://www.kaggle.com/datasets/shariful07/nice-work-thanks-for-share)\n",
        "- 🍺 [Student Alcohol Consumption](https://www.kaggle.com/datasets/uciml/student-alcohol-consumption)\n",
        "- 🏫 [College Score Card](https://www.kaggle.com/datasets/thedevastator/u-s-department-of-education-college-scorecard-da)\n",
        "- 🎮 [IMDB Video Games](https://www.kaggle.com/datasets/muhammadadiltalay/imdb-video-games)\n",
        "- 🎵 [Spotify Recommendation](https://www.kaggle.com/datasets/bricevergnou/spotify-recommendation)"
      ]
    },
    {
      "cell_type": "markdown",
      "metadata": {
        "id": "D0jX4XfsOcgT"
      },
      "source": [
        "✨**New**✨: At the very top of your notebook, I'm asking that in a text cell, you **describe how many points you attempted to get from this project**. Tell me what you think you deserve on this notebook given the rubric:\n",
        "\n",
        "**Self-Evaluation:**\n",
        "\n",
        "| **Description/Writing** | **I think I deserve** |\n",
        "|-------------------------|-----------------------|\n",
        "| 1: Problem              | /2                    |\n",
        "| 2: Data Prep            | /2                    |\n",
        "| 3: Research             | /10                   |\n",
        "| 4: Analysis             | /10                   |\n",
        "| 5: Bumps in the Road.   | /1                    |\n",
        "| Total                   | /25                   |"
      ]
    },
    {
      "cell_type": "markdown",
      "metadata": {
        "id": "22mCh64YOcgT"
      },
      "source": [
        "## Project Expectations: ☑️"
      ]
    },
    {
      "cell_type": "markdown",
      "metadata": {
        "id": "JtvqjyCYOcgT"
      },
      "source": [
        "You will create a Colab notebook that includes your code and results to document your experiment. Most importantly, **you will use text cells in the notebook to explain what you did, interpret the results, and make your recommendations**. \n",
        "\n",
        "The written markdown protions must include the following things:"
      ]
    },
    {
      "cell_type": "markdown",
      "metadata": {
        "id": "GepCLlmjOcgT"
      },
      "source": [
        "1. **Problem** [2 points]: State the problem you are trying to solve with this machine learning experiment. Include a description of the data, where you got the data, and what you're trying to predict. Is the problem a regression or a classification? What kind of metric do you plan to use to measure the performance of your model?"
      ]
    },
    {
      "cell_type": "markdown",
      "metadata": {
        "id": "hPPZgqdmOcgT"
      },
      "source": [
        "2.  **Data Preparation** [2 points]: Explain your data preparation. What did you have to do to get your data in shape for your experiments? Why are you certain that you data is clean and prepared for use in your algorithms? "
      ]
    },
    {
      "cell_type": "markdown",
      "metadata": {
        "id": "rgqvJKz0OcgU"
      },
      "source": [
        "3.  **Research** [10 points]: Put your code and your experiments here.\n",
        "    - Your research should include using the models that we've talked about in class so far--namely, a K Nearest Neighbors, weighted kNN, Decision Tree, Random Forest, as well as tuning these models (with visuals, i.e. graphs) to find the parameters that give you the best performance using an appropriate metric.\n",
        "    - Does normalizing your data lead to better performance? If so, why?"
      ]
    },
    {
      "cell_type": "markdown",
      "metadata": {
        "id": "g7fVBDOTOcgU"
      },
      "source": [
        "4.  **Analysis** [10 points]: What did you discover? What insights/recommendations do you have? What did you find that was interesting? Which model was your best model, which models didn't work well? Why do you think this is? In general, I want a discussion of your experiment, the results, and what they mean."
      ]
    },
    {
      "cell_type": "markdown",
      "metadata": {
        "id": "F75DlZOROcgU"
      },
      "source": [
        "5.  **Bumps in the Road** [1 point]: What challenges did you encounter? How did you overcome these challenges?"
      ]
    },
    {
      "cell_type": "markdown",
      "metadata": {
        "id": "D124ZZy3OcgU"
      },
      "source": [
        "## More Details:\n",
        "\n",
        "For full credit, your experiments should include the following models:\n",
        "- __k Nearest Neighbors__\n",
        "- __weighted k Nearest Neighbors__\n",
        "- __decision tree__\n",
        "- __random forest__ \n",
        "\n",
        "You need to demonstrate the performance of these models on both __normalized__ and __non-normalized__ data. \n",
        "\n",
        "For each of the above models, you need to include a __graph of at least 1 tuned parameter__. \n",
        "\n",
        "Essentailly, you will be able to fill out this chart with your results:\n",
        "\n",
        "| **Model**     | **Non-Normalized** | **Normalized** | **Parameter Tuned** |\n",
        "|---------------|--------------------|----------------|---------------------|\n",
        "| kNN           |                    |                |                     |\n",
        "| w-kNN         |                    |                |                     |\n",
        "| decision tree |                    |                |                     |\n",
        "| random forest |                    |                |                     |\n"
      ]
    },
    {
      "cell_type": "markdown",
      "metadata": {
        "id": "n5gEVRELOcgU"
      },
      "source": [
        "## Please, cite your sources\n",
        "\n",
        "If you choose to use code that has not been provided to you in this class, please cite where you got the code from. A simple comment with the URL will suffice. \n",
        "\n",
        "This is especially true if you are choosing to use a dataset from Kaggle. There are lots of example notebooks for most Kaggle datasets, and while it's totally fine to look at these, using code from these notebooks without citing where you got it from could result in an academic integretity violation. \n",
        "\n",
        "### Kaggle Demonstration"
      ]
    },
    {
      "cell_type": "markdown",
      "metadata": {
        "id": "jgWlEnPNOcgU"
      },
      "source": [
        "# Tips on getting started:\n",
        "\n",
        "Start by answering the questions that you can answer before you even start coding. Look at the datasets and decide which one you want to use. \n",
        "\n",
        "Use the template for building and testing a scikit-learn model. Start by doing the following:\n",
        "- Change the example code to work with your new data\n",
        "- Look for the appropriate documentation for the scikit-learn modules for the machine learning algorithms we have discussed in class.\n",
        "- Try to produce a plot like the one you did in Notebook 3, but use sklearn like in the example for random forests \n",
        "\n",
        "### The rest of our time today is yours to work on P1, and/or get caught up on Notebooks."
      ]
    }
  ],
  "metadata": {
    "celltoolbar": "Slideshow",
    "kernelspec": {
      "display_name": "Python 3",
      "language": "python",
      "name": "python3"
    },
    "language_info": {
      "codemirror_mode": {
        "name": "ipython",
        "version": 3
      },
      "file_extension": ".py",
      "mimetype": "text/x-python",
      "name": "python",
      "nbconvert_exporter": "python",
      "pygments_lexer": "ipython3",
      "version": "3.8.3"
    },
    "colab": {
      "provenance": [],
      "include_colab_link": true
    }
  },
  "nbformat": 4,
  "nbformat_minor": 0
}