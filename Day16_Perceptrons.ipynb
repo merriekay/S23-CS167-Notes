{
  "cells": [
    {
      "cell_type": "markdown",
      "metadata": {
        "id": "view-in-github",
        "colab_type": "text"
      },
      "source": [
        "<a href=\"https://colab.research.google.com/github/merriekay/S23-CS167-Notes/blob/main/Day16_Perceptrons.ipynb\" target=\"_parent\"><img src=\"https://colab.research.google.com/assets/colab-badge.svg\" alt=\"Open In Colab\"/></a>"
      ]
    },
    {
      "cell_type": "markdown",
      "metadata": {
        "id": "j9GrO-B807Ln"
      },
      "source": [
        "# CS167: Day16\n",
        "## Perceptrons\n",
        "\n",
        "#### CS167: Machine Learning, Spring 2023\n",
        "\n",
        "Tuesday, March 28th, 2023\n",
        "\n",
        "📆 [Course Schedule](https://docs.google.com/spreadsheets/d/e/2PACX-1vSvFV5Mz0_YZE1d5r3gQ8IMktE4cBAsJIlP30cl2GhEpSO0J-YWV62QokSDz-OcOCsEmxMuKpY0kVlR/pubhtml?gid=0&single=true) | 🙋[PollEverywhere](https://pollev.com/meredithmoore011) | 📜 [Syllabus](https://analytics.drake.edu/~moore/cs167_s23_syllabus.html) | 📬 [CodePost Login](https://codepost.io/login)"
      ]
    },
    {
      "cell_type": "markdown",
      "metadata": {
        "id": "orKPKB_T07Lq"
      },
      "source": [
        "# Admin Stuff"
      ]
    },
    {
      "cell_type": "markdown",
      "metadata": {
        "id": "-8DL1oj207Lr"
      },
      "source": [
        "You should be working on:\n",
        "- Quiz #2 will be released after class today, due before the end of the day on Friday 3/31\n"
      ]
    },
    {
      "cell_type": "markdown",
      "metadata": {
        "id": "V2ux094f07Lr"
      },
      "source": [
        "## 🙋 PollEverywhere "
      ]
    },
    {
      "cell_type": "markdown",
      "metadata": {
        "id": "p2aMIKU307Ls"
      },
      "source": [
        "# Quick Review:"
      ]
    },
    {
      "cell_type": "markdown",
      "metadata": {
        "id": "RLxPsYSG07Ls"
      },
      "source": [
        "## Dimensionality Reduction Techniques:\n",
        "1. __Feature Selection/Elimination__: choose which features are important\n",
        "2. __Feature Extraction__: transforming raw data into numeric feaures that can be processed while preserving the information in the original dataset"
      ]
    },
    {
      "cell_type": "markdown",
      "metadata": {
        "id": "pUMDJTU_07Ls"
      },
      "source": [
        "# 1. Feature Selection/Elimination:\n",
        "\n",
        "__Big Idea__: Choose only the important existing features, and use those for classification or regression. "
      ]
    },
    {
      "cell_type": "markdown",
      "metadata": {
        "id": "ACJXEGZ607Lt"
      },
      "source": [
        "## Advantages of Feature Selection/Elimination:\n",
        "\n",
        "- Simplicity--easily interpretable\n",
        "- maintaining the interpretability of your variables (in comparison to feature extraction)"
      ]
    },
    {
      "cell_type": "markdown",
      "metadata": {
        "id": "TPldHT8C07Lt"
      },
      "source": [
        "## Disadvantages of Feature Selection/Elimination:\n",
        "\n",
        "- you lose data by dropping columns"
      ]
    },
    {
      "cell_type": "markdown",
      "metadata": {
        "id": "GMz-0kzE07Lu"
      },
      "source": [
        "## Feature Selection Code (all together)"
      ]
    },
    {
      "cell_type": "code",
      "execution_count": null,
      "metadata": {
        "id": "jaDSQQuQ07Lu",
        "outputId": "1c9a0ae3-364c-40a8-f067-793c03316179"
      },
      "outputs": [
        {
          "name": "stdout",
          "output_type": "stream",
          "text": [
            "Accuracy: 0.9333333333333333\n"
          ]
        }
      ],
      "source": [
        "#load data first\n",
        "\n",
        "# create an instance of 'SelectKBest'\n",
        "selector = SelectKBest(k=2)\n",
        "\n",
        "# fit it on your train data and solutions\n",
        "selector.fit(train_data,train_sln)\n",
        "\n",
        "# transform your traning data to only have the k best attributes\n",
        "train_transformed = selector.transform(train_data)\n",
        "test_transformed = selector.transform(test_data)\n",
        "\n",
        "#build a model\n",
        "clf = KNeighborsClassifier()\n",
        "clf.fit(train_transformed,train_sln)\n",
        "predictions = clf.predict(test_transformed)\n",
        "print('Accuracy:',accuracy_score(test_sln,predictions))"
      ]
    },
    {
      "cell_type": "markdown",
      "metadata": {
        "id": "EfD78pDF07Lw"
      },
      "source": [
        "# 2. Feature Extraction:\n",
        "\n",
        "If you are working with high dimensional data, it is often advantageous to do some __feature extraction__ before building and testing your machine learning models. \n",
        "\n",
        "__Feature extraction__ takes the existing (usually high dimensional) dataset, and returns a dataset such that there are new columns of data that are ordered from most important to least important. \n",
        "\n",
        "__Big Idea__: Find new or _latent_ features made up of combinations of existing features.\n",
        "\n",
        "Example: \n",
        "- Maybe multiplying `sepal length * petal width` is more helpful in identyfing the species of an iris than either `sepal length` or `petal width` are on their own."
      ]
    },
    {
      "cell_type": "markdown",
      "metadata": {
        "id": "rq9kZiW507Lw"
      },
      "source": [
        "## High-Level Overview of PCA:\n",
        "\n",
        "Calculating PCA requires a relatively deep background in linear algebra--calculating the eigenvectors and their corresponding eigenvalues of covariance matrices. So... we're going to stick to a practical level of understanding.\n",
        "\n",
        "The __principal component__ is the one that has the largest __variance__. The second component has the second most variance, etc.\n",
        "\n",
        "https://setosa.io/ev/principal-component-analysis/"
      ]
    },
    {
      "cell_type": "markdown",
      "metadata": {
        "id": "-P5n5hm_07Lx"
      },
      "source": [
        "## Advantages of Feature Extraction (PCA):\n",
        "\n",
        "- Minimal data loss\n",
        "- Output is ordered by how well each component predicts the dependent variable."
      ]
    },
    {
      "cell_type": "markdown",
      "metadata": {
        "id": "otI9eprQ07Ly"
      },
      "source": [
        "## Disadvantages of Feature Extraction (PCA):\n",
        "\n",
        "- data becomes much less interpretable"
      ]
    },
    {
      "cell_type": "markdown",
      "metadata": {
        "id": "WnYQ8J3r07Ly"
      },
      "source": [
        "## When should I use PCA?\n",
        "\n",
        "Ask yourself these questions:"
      ]
    },
    {
      "cell_type": "markdown",
      "metadata": {
        "id": "eQLteHFT07Ly"
      },
      "source": [
        "1. Do you want to __reduce the number of variables__, but aren't able to identify variables to copmletely remove from consideration?"
      ]
    },
    {
      "cell_type": "markdown",
      "metadata": {
        "id": "9sXgJ7vt07Ly"
      },
      "source": [
        "2. Do you want to ensure your variables are __independent of one another__?\n",
        "    - __independence__: variables are independent if and only if the occurrence of one does not affect the probability of the occurence of the other."
      ]
    },
    {
      "cell_type": "markdown",
      "metadata": {
        "id": "_QPRg0Gp07Lz"
      },
      "source": [
        "3. Are you comfortable making your independent variables __less interpretable__?"
      ]
    },
    {
      "cell_type": "markdown",
      "metadata": {
        "id": "HoGBs3J_07Lz"
      },
      "source": [
        "If the answers to the above questions are yes, then doing a PCA on your data before you build/run your model is probably a good idea."
      ]
    },
    {
      "cell_type": "markdown",
      "metadata": {
        "id": "cJRUWRlj07Lz"
      },
      "source": [
        "# PCA Code (all together)"
      ]
    },
    {
      "cell_type": "code",
      "execution_count": null,
      "metadata": {
        "id": "fDwKdKde07Lz",
        "outputId": "fe96a91d-a27d-4358-a87e-e389fc4b22ae"
      },
      "outputs": [
        {
          "name": "stdout",
          "output_type": "stream",
          "text": [
            "Accuracy: 0.9\n"
          ]
        }
      ],
      "source": [
        "from sklearn.decomposition import PCA\n",
        "\n",
        "# build your PCA extractor, decide how many output components (columns) you'd like\n",
        "extractor = PCA(n_components=2, whiten=True)\n",
        "\n",
        "#When fitting with PCA, you do not use the target column - this is an unsupervised learning algorithm\n",
        "extractor.fit(train_data)\n",
        "\n",
        "# transform your train_data and _test_data\n",
        "train_transformed = extractor.transform(train_data)\n",
        "test_transformed = extractor.transform(test_data)\n",
        "\n",
        "#build and test your model\n",
        "clf = KNeighborsClassifier()\n",
        "clf.fit(train_transformed,train_sln)\n",
        "predictions = clf.predict(test_transformed)\n",
        "print('Accuracy:',accuracy_score(test_sln,predictions))"
      ]
    },
    {
      "cell_type": "markdown",
      "metadata": {
        "id": "3kR4z5em07Lz"
      },
      "source": [
        "# ✨ New Material"
      ]
    },
    {
      "cell_type": "markdown",
      "metadata": {
        "id": "ILZcRBWL07L0"
      },
      "source": [
        "# Deep Learning\n",
        "\n",
        "__Deep Learning__  uses networks of 'artificial neurons' similar to the brain to represent high-dimensional data\n",
        "- excels in tasks where the basic unit (a single pixel, frequency of a word) has very little meaning in and of itself, but contains high level structure\n",
        "\n",
        "We're going to start simple and build up. "
      ]
    },
    {
      "cell_type": "markdown",
      "metadata": {
        "id": "bfZR8tIt07L0"
      },
      "source": [
        "## Biological Motivation\n",
        "\n",
        "Brains consist of a network of neurons:\n",
        "- Dense network, $10^{11}$ neurons\n",
        "- each on average connected to $10^4$ others\n",
        "- neuron switching times <0.001 seconds - relatively slow\n",
        "- fast recognition --> highly parallel brain"
      ]
    },
    {
      "cell_type": "markdown",
      "metadata": {
        "id": "QSGLcpjV07L0"
      },
      "source": [
        "<div>\n",
        "<img src=\"images/day16_neuron.png\" width=800/>\n",
        "</div>"
      ]
    },
    {
      "cell_type": "markdown",
      "metadata": {
        "id": "BqNX8HpN07L0"
      },
      "source": [
        "<div>\n",
        "<img src=\"images/day16_neuron2perceptron.png\" width=700/>\n",
        "</div>"
      ]
    },
    {
      "cell_type": "markdown",
      "metadata": {
        "id": "X7K_qdM-07L0"
      },
      "source": [
        "# Perceptron\n",
        "\n",
        "The mathematical model of a _single neuron_ in a neural network is called a __perceptron__.\n",
        "- Each $x_{i}$ is one of the predictor features--i.e. sepal length, gender, age, etc.\n",
        "- Each $w_{j}$ is some weight we multiply the feature value by.\n",
        "\n",
        "__Big Question__: How do we determine the weights that best classify the data?"
      ]
    },
    {
      "cell_type": "markdown",
      "metadata": {
        "id": "a8WBaOdK07L0"
      },
      "source": [
        "<div>\n",
        "<img src=\"images/day16_perceptron.png\" width=850/>\n",
        "</div>"
      ]
    },
    {
      "cell_type": "markdown",
      "metadata": {
        "id": "DHIhGoAm07L1"
      },
      "source": [
        "# 💬 Goup Exercise:\n",
        "\n",
        "Download the `earthquake.xlsx` data from Blackboard. Try to change the weights to get the line to separate the classes. \n",
        "\n",
        "<div>\n",
        "<img src=\"images/day16_earthquakedata.png\" width=850/>\n",
        "</div>\n",
        "\n",
        "Things to pay attention to:\n",
        "- small changes of the weights in order to classify the training data accurately\n",
        "- how do you know when to stop?"
      ]
    },
    {
      "cell_type": "markdown",
      "metadata": {
        "id": "zqOYo3Ea07L1"
      },
      "source": [
        "# The Forward Step:\n",
        "\n",
        "The __forward step__ in a neural network is the step of receiving input, and getting an output based on the input. In other words, making a prediction from an input. This step is also known as the _inference step_. \n",
        "\n",
        "<div>\n",
        "<img src=\"images/day16_forwardstep.png\" width=850/>\n",
        "</div>\n"
      ]
    },
    {
      "cell_type": "markdown",
      "metadata": {
        "id": "n8hKajLp07L1"
      },
      "source": [
        "# The Backward Step:\n",
        "\n",
        "The __backward step__ in a neural network is the step of checking to see if the model got the prediction correct, and if not, adjusting the weights to make a better prediction next time. We also call this step _updating the weights_.\n",
        "\n",
        "<div>\n",
        "<img src=\"images/day16_backwardstep.png\" width=850/>\n",
        "</div>\n"
      ]
    },
    {
      "cell_type": "markdown",
      "metadata": {
        "id": "YaczrrAC07L1"
      },
      "source": [
        "# How to train your Perceptron:\n",
        "\n",
        "__Big Question__: How do we deterine the weights that best classify the data?\n",
        "\n",
        "One idea:\n",
        "- start with 0 values for all weights\n",
        "- Feed in a training example\n",
        "    - If it is properly classified; great, move on\n",
        "    - Else; update weights according to the training example\n",
        "    - Repeat.\n",
        "\n",
        "\n",
        "<div>\n",
        "<img src=\"images/day16_dragon.png\" width=300/>\n",
        "</div>\n"
      ]
    },
    {
      "cell_type": "markdown",
      "metadata": {
        "id": "NN1L1Sfb07L1"
      },
      "source": [
        "# Perceptron Training Rule\n",
        "\n",
        "Feed a training examlpe into the perceptron, then for each weight $w_i$:\n",
        "\n",
        "<div>\n",
        "<img src=\"images/day16_updaterule.png\" width=500/>\n",
        "</div>\n",
        "\n",
        "\n",
        "__target__ is the thing in the target column for this example - what you're trying to predict.\n",
        "\n",
        "__output__ is the perceptron output - what the perceptron is currently set to predict for this example.\n",
        "\n",
        "__$\\eta$ (eta)__ : is a small constant (e.g. 0.1) called the __learning rate__ (controls how quickly the model adapts to the training data)."
      ]
    },
    {
      "cell_type": "markdown",
      "metadata": {
        "id": "pcFeXe1m07L2"
      },
      "source": [
        "# Perceptron Training Rule\n",
        "\n",
        "Feed a training examlpe into the perceptron, then for each weight $w_i$:\n",
        "\n",
        "<div>\n",
        "<img src=\"images/day16_updaterule.png\" width=500/>\n",
        "</div>\n",
        "\n",
        "Note what happens when:\n",
        "- target and output are both 1\n",
        "- target and output are both -1 \n",
        "- target is 1, output is -1\n",
        "- target is -1, output is 1"
      ]
    },
    {
      "cell_type": "markdown",
      "metadata": {
        "id": "kUr8atKP07L2"
      },
      "source": [
        "# Perceptron Training Algorithm\n",
        "\n",
        "Do the following for each training example:\n",
        "- feed in a training example\n",
        "- update weights with weight update rule\n",
        "\n",
        "<div>\n",
        "<img src=\"images/day16_updaterule.png\" width=500/>\n",
        "</div>\n",
        "\n",
        "<div>\n",
        "<img src=\"images/day16_perceptron.png\" width=800/>\n",
        "</div>"
      ]
    },
    {
      "cell_type": "markdown",
      "metadata": {
        "id": "vf7PAsJS07L2"
      },
      "source": [
        "# ✍🏻 Whiteboard/iPad Example:\n",
        "\n",
        "`CS167PerceptronExample.pdf` from Blackboard\n",
        "\n",
        "solution is available online as well."
      ]
    },
    {
      "cell_type": "markdown",
      "metadata": {
        "id": "Js_1vspx07L2"
      },
      "source": [
        "# Perceptron example:\n",
        "\n",
        "<div>\n",
        "<img src=\"images/day16_perceptron_ex1.png\" width=800/>\n",
        "</div>\n",
        "\n",
        "<div>\n",
        "<img src=\"images/day16_perceptron_data.png\" width=800/>\n",
        "</div>"
      ]
    },
    {
      "cell_type": "markdown",
      "metadata": {
        "id": "BcsoqNPu07L2"
      },
      "source": [
        "# 🚨🚨 Terminology Alert 🚨🚨\n",
        "\n",
        "__Epoch__: the number of passes through the entire training dataset the machine learning algorithm has completed.\n"
      ]
    },
    {
      "cell_type": "markdown",
      "metadata": {
        "id": "GgmB8Yt907L2"
      },
      "source": [
        "# Perceptron\n",
        "\n",
        "We can prove the perceptron training algorithm will converge to weight values that correctly classify all training examples (in a fintite number of applications):\n",
        "- if training data is linearly separable and \n",
        "- learning rate is sufficiently small"
      ]
    },
    {
      "cell_type": "markdown",
      "metadata": {
        "id": "I9h-9Gnv07L3"
      },
      "source": [
        "Perceptrons are primarily used as a __binary classifier__.\n",
        "- cat v dog, spam v ham, 1 v 0, etc.\n",
        "\n",
        "To use a perceptron for the Iris data, we need to do something... any ideas?"
      ]
    },
    {
      "cell_type": "markdown",
      "metadata": {
        "id": "4wQf_Ams07L3"
      },
      "source": [
        "## Recall: Dummy Variables\n",
        "\n",
        "A __dummy variable__ is one that takes only the value of 0 or 1 to indicate the absence or presence of some categorical effect.\n",
        "- When it doesn’t make sense for an attribute to have a numeric order, a dummy variable may be a solution that will allow the data to be applied in a machine learning algorithm. \n",
        "- In sklearn, all data needs to be numeric.\n",
        "\n",
        "\n",
        "__Dummy Variables__ are also referred to as __one-hot encoding__\n",
        "\n",
        "<div>\n",
        "<img src=\"images/day16_onehot.png\" width=800/>\n",
        "</div>"
      ]
    },
    {
      "cell_type": "markdown",
      "metadata": {
        "id": "1gwBcmAk07L3"
      },
      "source": [
        "## Load your data:"
      ]
    },
    {
      "cell_type": "code",
      "execution_count": null,
      "metadata": {
        "id": "DFcRDbLO07L3"
      },
      "outputs": [],
      "source": [
        "from google.colab import drive\n",
        "drive.mount('/content/drive')"
      ]
    },
    {
      "cell_type": "code",
      "execution_count": null,
      "metadata": {
        "id": "AL_LxkGZ07L3"
      },
      "outputs": [],
      "source": [
        "import pandas\n",
        "path = 'datasets/irisData.csv' #'/content/drive/MyDrive/CS167/datasets/irisData.csv'\n",
        "iris_data = pandas.read_csv(path)"
      ]
    },
    {
      "cell_type": "code",
      "execution_count": null,
      "metadata": {
        "id": "iX9myOZa07L3",
        "outputId": "b1b96ef6-4a14-4201-98c9-949a6f8eeda4"
      },
      "outputs": [
        {
          "data": {
            "text/html": [
              "<div>\n",
              "<style scoped>\n",
              "    .dataframe tbody tr th:only-of-type {\n",
              "        vertical-align: middle;\n",
              "    }\n",
              "\n",
              "    .dataframe tbody tr th {\n",
              "        vertical-align: top;\n",
              "    }\n",
              "\n",
              "    .dataframe thead th {\n",
              "        text-align: right;\n",
              "    }\n",
              "</style>\n",
              "<table border=\"1\" class=\"dataframe\">\n",
              "  <thead>\n",
              "    <tr style=\"text-align: right;\">\n",
              "      <th></th>\n",
              "      <th>sepal length</th>\n",
              "      <th>sepal width</th>\n",
              "      <th>petal length</th>\n",
              "      <th>petal width</th>\n",
              "      <th>species_Iris-setosa</th>\n",
              "      <th>species_Iris-versicolor</th>\n",
              "      <th>species_Iris-virginica</th>\n",
              "    </tr>\n",
              "  </thead>\n",
              "  <tbody>\n",
              "    <tr>\n",
              "      <th>0</th>\n",
              "      <td>5.1</td>\n",
              "      <td>3.5</td>\n",
              "      <td>1.4</td>\n",
              "      <td>0.2</td>\n",
              "      <td>1</td>\n",
              "      <td>0</td>\n",
              "      <td>0</td>\n",
              "    </tr>\n",
              "    <tr>\n",
              "      <th>1</th>\n",
              "      <td>4.9</td>\n",
              "      <td>3.0</td>\n",
              "      <td>1.4</td>\n",
              "      <td>0.2</td>\n",
              "      <td>1</td>\n",
              "      <td>0</td>\n",
              "      <td>0</td>\n",
              "    </tr>\n",
              "    <tr>\n",
              "      <th>2</th>\n",
              "      <td>4.7</td>\n",
              "      <td>3.2</td>\n",
              "      <td>1.3</td>\n",
              "      <td>0.2</td>\n",
              "      <td>1</td>\n",
              "      <td>0</td>\n",
              "      <td>0</td>\n",
              "    </tr>\n",
              "    <tr>\n",
              "      <th>3</th>\n",
              "      <td>4.6</td>\n",
              "      <td>3.1</td>\n",
              "      <td>1.5</td>\n",
              "      <td>0.2</td>\n",
              "      <td>1</td>\n",
              "      <td>0</td>\n",
              "      <td>0</td>\n",
              "    </tr>\n",
              "    <tr>\n",
              "      <th>4</th>\n",
              "      <td>5.0</td>\n",
              "      <td>3.6</td>\n",
              "      <td>1.4</td>\n",
              "      <td>0.2</td>\n",
              "      <td>1</td>\n",
              "      <td>0</td>\n",
              "      <td>0</td>\n",
              "    </tr>\n",
              "  </tbody>\n",
              "</table>\n",
              "</div>"
            ],
            "text/plain": [
              "   sepal length  sepal width  petal length  petal width  species_Iris-setosa  \\\n",
              "0           5.1          3.5           1.4          0.2                    1   \n",
              "1           4.9          3.0           1.4          0.2                    1   \n",
              "2           4.7          3.2           1.3          0.2                    1   \n",
              "3           4.6          3.1           1.5          0.2                    1   \n",
              "4           5.0          3.6           1.4          0.2                    1   \n",
              "\n",
              "   species_Iris-versicolor  species_Iris-virginica  \n",
              "0                        0                       0  \n",
              "1                        0                       0  \n",
              "2                        0                       0  \n",
              "3                        0                       0  \n",
              "4                        0                       0  "
            ]
          },
          "execution_count": 5,
          "metadata": {},
          "output_type": "execute_result"
        }
      ],
      "source": [
        "iris_dummies = pandas.get_dummies(iris_data, columns=['species'])\n",
        "iris_dummies.head()"
      ]
    },
    {
      "cell_type": "markdown",
      "metadata": {
        "id": "S8X-mh0N07L4"
      },
      "source": [
        "# Perceptron Code\n",
        "\n",
        "- Documentation: [`sklearn.linear_model.Perceptron()`](https://scikit-learn.org/stable/modules/generated/sklearn.linear_model.Perceptron.html)"
      ]
    },
    {
      "cell_type": "code",
      "execution_count": null,
      "metadata": {
        "id": "1VXHUsUX07L4",
        "outputId": "4e4eb15d-ce23-417d-f880-2a7e6715184d"
      },
      "outputs": [
        {
          "name": "stdout",
          "output_type": "stream",
          "text": [
            "Setosa accuracy: 1.0\n"
          ]
        }
      ],
      "source": [
        "### use a Perceptron to predict if an iris is a Setosa\n",
        "\n",
        "import pandas\n",
        "from sklearn.model_selection import train_test_split\n",
        "from sklearn.linear_model import Perceptron\n",
        "from sklearn import metrics\n",
        "\n",
        "\n",
        "#ignore warings -- there are lots of warnings regarding default values of Perceptron; which we accept\n",
        "import warnings\n",
        "warnings.filterwarnings(\"ignore\")\n",
        "\n",
        "# get \"dummy\" variables for species\n",
        "iris_dummies = pandas.get_dummies(iris_data, columns = ['species'])\n",
        "predictors = ['sepal length', 'sepal width', 'petal length', 'petal width']\n",
        "#target = \"species_Iris-virginica\"\n",
        "target = \"species_Iris-setosa\"\n",
        "#target = \"species_Iris-versicolor\"\n",
        "\n",
        "#establish training and testing sets\n",
        "train_data, test_data, train_sln, test_sln = train_test_split(iris_dummies[predictors], iris_dummies[target], test_size = 0.2, random_state=41)\n",
        "\n",
        "#load up scikit-learn Perceptron\n",
        "perc = Perceptron()\n",
        "perc.fit(train_data,train_sln)\n",
        "iris_perc_predictions = perc.predict(test_data)\n",
        "\n",
        "#output accuracy\n",
        "print(\"Setosa accuracy:\", metrics.accuracy_score(test_sln, iris_perc_predictions))"
      ]
    },
    {
      "cell_type": "code",
      "execution_count": null,
      "metadata": {
        "id": "gAtBnCQe07L4",
        "outputId": "541ec899-4a7f-4534-de83-27ae7809420c"
      },
      "outputs": [
        {
          "data": {
            "text/plain": [
              "<seaborn.axisgrid.FacetGrid at 0x7faab4d01e20>"
            ]
          },
          "execution_count": 8,
          "metadata": {},
          "output_type": "execute_result"
        },
        {
          "data": {
            "image/png": "[encoded data removed]",
            "text/plain": [
              "<Figure size 511.125x432 with 1 Axes>"
            ]
          },
          "metadata": {},
          "output_type": "display_data"
        }
      ],
      "source": [
        "#let's take a look at the data:\n",
        "import seaborn as sns\n",
        "import matplotlib.pyplot as plt\n",
        " \n",
        "iris = sns.load_dataset('iris')\n",
        "sns.set_style(\"whitegrid\")\n",
        " \n",
        "# use seaborn to create a scatterplot\n",
        "sns.FacetGrid(iris, hue =\"species\",\n",
        "              height = 6).map(plt.scatter,\n",
        "                              'petal_width',\n",
        "                              'petal_length').add_legend().set(title='Iris Data -- Petal Width vs Petal Length')"
      ]
    },
    {
      "cell_type": "markdown",
      "metadata": {
        "id": "VXPGhNW-07L4"
      },
      "source": [
        "## 💬 In class Exercise 1:\n",
        "- Given the example for species_Iris-versicolor, how does Perceptron do for:\n",
        "  - species_Iris-virginica\n",
        "  - species_Iris-setosa\n",
        "- Do you expect these to also give 100% accuracy? Why or why not?"
      ]
    },
    {
      "cell_type": "code",
      "execution_count": null,
      "metadata": {
        "id": "cmFZe3NM07L4"
      },
      "outputs": [],
      "source": [
        "# your code here"
      ]
    },
    {
      "cell_type": "code",
      "execution_count": null,
      "metadata": {
        "id": "q6U91FMR07L5"
      },
      "outputs": [],
      "source": []
    }
  ],
  "metadata": {
    "celltoolbar": "Slideshow",
    "kernelspec": {
      "display_name": "Python 3",
      "language": "python",
      "name": "python3"
    },
    "language_info": {
      "codemirror_mode": {
        "name": "ipython",
        "version": 3
      },
      "file_extension": ".py",
      "mimetype": "text/x-python",
      "name": "python",
      "nbconvert_exporter": "python",
      "pygments_lexer": "ipython3",
      "version": "3.8.3"
    },
    "colab": {
      "provenance": [],
      "include_colab_link": true
    }
  },
  "nbformat": 4,
  "nbformat_minor": 0
}