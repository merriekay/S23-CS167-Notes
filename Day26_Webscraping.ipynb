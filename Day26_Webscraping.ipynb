{
  "cells": [
    {
      "cell_type": "markdown",
      "metadata": {
        "id": "view-in-github",
        "colab_type": "text"
      },
      "source": [
        "<a href=\"https://colab.research.google.com/github/merriekay/S23-CS167-Notes/blob/main/Day26_Webscraping.ipynb\" target=\"_parent\"><img src=\"https://colab.research.google.com/assets/colab-badge.svg\" alt=\"Open In Colab\"/></a>"
      ]
    },
    {
      "cell_type": "markdown",
      "metadata": {
        "id": "vNPBvO6kBSl7"
      },
      "source": [
        "# CS167: Day 26\n",
        "## Web Scraping\n",
        "\n",
        "#### CS167: Machine Learning, Spring 2023\n",
        "\n",
        "Tuesday, May 2nd, 2023\n",
        "\n",
        "📆 [Course Schedule](https://docs.google.com/spreadsheets/d/e/2PACX-1vSvFV5Mz0_YZE1d5r3gQ8IMktE4cBAsJIlP30cl2GhEpSO0J-YWV62QokSDz-OcOCsEmxMuKpY0kVlR/pubhtml?gid=0&single=true) | 🙋[PollEverywhere](https://pollev.com/meredithmoore011) | 📜 [Syllabus](https://analytics.drake.edu/~moore/cs167_s23_syllabus.html) | 📬 [CodePost Login](https://codepost.io/login)"
      ]
    },
    {
      "cell_type": "markdown",
      "metadata": {
        "id": "wPZKfz1gBSl_"
      },
      "source": [
        "# Admin Stuff"
      ]
    },
    {
      "cell_type": "markdown",
      "metadata": {
        "id": "yBvLvuruBSmA"
      },
      "source": [
        "You should be working on:\n",
        "- Project #2, due Friday, May 5th, by 11:59 pm\n",
        "- Quiz #2, due Tuesday May 9th, by 11:59pm"
      ]
    },
    {
      "cell_type": "markdown",
      "metadata": {
        "id": "bABbr7MkBSmA"
      },
      "source": [
        "## Load your data:"
      ]
    },
    {
      "cell_type": "code",
      "execution_count": 2,
      "metadata": {
        "colab": {
          "base_uri": "https://localhost:8080/"
        },
        "id": "Jnj-zx1DBSmB",
        "outputId": "d351ad32-6e8d-423b-af29-220e0b6cbf0d"
      },
      "outputs": [
        {
          "output_type": "stream",
          "name": "stdout",
          "text": [
            "Mounted at /content/drive\n"
          ]
        }
      ],
      "source": [
        "from google.colab import drive\n",
        "drive.mount('/content/drive')"
      ]
    },
    {
      "cell_type": "markdown",
      "metadata": {
        "id": "AC5XhFmGBSmC"
      },
      "source": [
        "# ✨ New Material"
      ]
    },
    {
      "cell_type": "markdown",
      "metadata": {
        "id": "WlcfqhNqBSmC"
      },
      "source": [
        "# Web Scraping\n",
        "\n",
        "Often times in ML, the dataset you need just doesn't exist. \n",
        "\n",
        "One potential way to create the dataset that you need is to use __web-scraping__: \n",
        "- The process of using scripts to extract information from existing websites. \n",
        "- Python has a great web-scraping package, `beautifulsoup`\n",
        "- Another helpful package is `selenium`"
      ]
    },
    {
      "cell_type": "markdown",
      "metadata": {
        "id": "g55kZ6MJBSmD"
      },
      "source": [
        "## Let's Solve a Problem 🐉📚🎮\n",
        "\n",
        "I'm not sure if you know this yet, but Professor Moore is a huge nerd. \n",
        "\n",
        "I love reading fantasy books, playing video games, and training machine learning models. \n",
        "\n",
        "The natural progression of these interests is to train a machine learning model on names from fantasy books to be able to generate my own super nerdy gamertag. "
      ]
    },
    {
      "cell_type": "markdown",
      "metadata": {
        "id": "Rl85vzy3BSmD"
      },
      "source": [
        "This problem can be broken down into 2 main steps:\n",
        "1. Collect a dataset of names from fantasy books.\n",
        "2. Train a RNN on the dataset so that it will generate new names."
      ]
    },
    {
      "cell_type": "markdown",
      "metadata": {
        "id": "OrTdjbgkBSmE"
      },
      "source": [
        "# Step #1: Webscraping a Dataset\n",
        "\n",
        "## Brando Sando Style:\n",
        "\n",
        "Let's scrape the names from Brandon Sanderson Characters found on [this website](https://coppermind.net/wiki/Category:Characters). \n",
        "\n",
        "Let's start by importing Beautiful soup and providing the URL pointing to the webpage. We use the `requests` library to get the text from the html. "
      ]
    },
    {
      "cell_type": "code",
      "execution_count": null,
      "metadata": {
        "id": "4eJeAw7jBSmE"
      },
      "outputs": [],
      "source": [
        "from bs4 import BeautifulSoup\n",
        "import requests\n",
        "import csv\n",
        "\n",
        "source = requests.get('https://coppermind.net/wiki/Category:Characters').text\n",
        "\n",
        "soup = BeautifulSoup(source, 'html.parser')\n",
        "\n",
        "csv_file = open('fantasy_characters.csv', 'w')\n",
        "csv_writer = csv.writer(csv_file)\n",
        "csv_writer.writerow(['name', 'author','genre', 'series', 'description']) \n",
        "\n",
        "print(soup.prettify())"
      ]
    },
    {
      "cell_type": "markdown",
      "metadata": {
        "id": "JyMrgt4oBSmF"
      },
      "source": [
        "Since the names are stored in `li`'s, we will use the `soup.find_all` function and provide the argument `li`. This will find all of the list items on the page. This is a good first step, but you'll notice, it's not quite what we want--it includes the list items before the actual charatcter names. \n",
        "\n",
        "Also, notice the line `li.text`. We are going through and getting each list item, and then only looking at the text (the `.text` line indicates this)."
      ]
    },
    {
      "cell_type": "code",
      "execution_count": 5,
      "metadata": {
        "colab": {
          "base_uri": "https://localhost:8080/"
        },
        "id": "-Q5B_LRdBSmG",
        "outputId": "b2e03236-0764-4bae-ee45-16b3c8447aba"
      },
      "outputs": [
        {
          "output_type": "stream",
          "name": "stdout",
          "text": [
            "Alcatraz\n",
            "Elantris & The Emperor's Soul\n",
            "Legion\n",
            "Mistborn series\n",
            "The Reckoners\n",
            "Rithmatist\n",
            "Shadows for Silence in the Forests of Hell\n",
            "Sixth of the Dusk\n",
            "The Stormlight Archive\n"
          ]
        }
      ],
      "source": [
        "count = 0\n",
        "for li in soup.find_all('li'):\n",
        "  count +=1\n",
        "  if count < 10: #print out the first 10\n",
        "    print(li.text)"
      ]
    },
    {
      "cell_type": "markdown",
      "metadata": {
        "id": "KqytA7yPBSmG"
      },
      "source": [
        "So now that we can get the characters's names, we want to give it the correct starting point. \n",
        "\n",
        "Here we'll use the `soup.find` function, and after using the 'Inspect' function on the browser, we know we're looking for the `div` element with `id='mw-pages'`. \n",
        "\n",
        "If we save this as `section`, we can then use this section of the website, combined with the code from above to collect a list of all of the names of Brandon Sanderson characters. "
      ]
    },
    {
      "cell_type": "code",
      "execution_count": 6,
      "metadata": {
        "colab": {
          "base_uri": "https://localhost:8080/"
        },
        "id": "lYLf1pHNBSmG",
        "outputId": "1f673c30-f797-4760-9d16-bb8bf44fbc11"
      },
      "outputs": [
        {
          "output_type": "stream",
          "name": "stdout",
          "text": [
            "1 Aarik\n",
            "2 Aaron\n",
            "3 Abaray\n",
            "4 Abiajan\n",
            "5 Abigail Casey\n",
            "6 Abraham Desjardins\n",
            "7 Abrem\n",
            "8 Abrial\n",
            "9 Abrobadar\n"
          ]
        }
      ],
      "source": [
        "section = soup.find('div', id='mw-pages')\n",
        "\n",
        "count = 0\n",
        "\n",
        "for li in section.find_all('li'):\n",
        "  count = count + 1\n",
        "  name = li.text\n",
        "  \n",
        "  #print the first few lines just to make sure it looks good\n",
        "  if count < 10: \n",
        "    print(count, name)\n",
        "\n",
        "  #add some other information to the csv file.\n",
        "  author = 'Brandon Sanderson'\n",
        "  genre = 'fantasy'\n",
        "  series = ''\n",
        "  description =''\n",
        "  csv_writer.writerow([name, author, genre, series, description])\n",
        "  "
      ]
    },
    {
      "cell_type": "markdown",
      "metadata": {
        "id": "I-2wXvYjBSmG"
      },
      "source": [
        "## Now let's add some Wheel of Time 🛞: \n",
        "\n",
        "New URL: https://en.wikipedia.org/wiki/List_of_Wheel_of_Time_characters \n",
        "\n",
        "You'll notice that the way this website is set up is a bit different from the Brando Sando website. We'll have to adjust our web-scarping code accordingly.\n",
        "\n",
        "What should we put on line 4, `class_ = ___________` ?\n"
      ]
    },
    {
      "cell_type": "code",
      "execution_count": null,
      "metadata": {
        "id": "5SF-T3x6BSmH"
      },
      "outputs": [],
      "source": [
        "source = requests.get('https://en.wikipedia.org/wiki/List_of_Wheel_of_Time_characters').text\n",
        "\n",
        "soup = BeautifulSoup(source, 'html.parser') \n",
        "section = soup.find('div', class_= __________ ) #your code here\n",
        "\n",
        "count = 0\n",
        "for li in section.find_all('li'):\n",
        "\n",
        "  #This one isn't quite as simple becuase we have a character name and description.\n",
        "  count = count + 1\n",
        "  list_item = li.text\n",
        "\n",
        "  #not all of the entries are names, but all the names follow the syntax <name: description>  \n",
        "  if(len(list_item.split(':'))>1): \n",
        "    name= list_item.split(':')[0]  #The first element is the name so we use [0]\n",
        "    description = list_item.split(':')[1] #the description is after the :, so we use [1]\n",
        "\n",
        "\n",
        "    # SPOILER ALERT: DONT PRINT DESCRIPTION OUT IF YOU DON'T WANT TO READ THE CHARACTER DESCRIPTIONS.\n",
        "    if count < 10:\n",
        "      print(count, name)\n",
        "\n",
        "    #then we add some other information and write a row to the csv file\n",
        "    series = 'Wheel of Time'\n",
        "    author = 'Robert Jordan'\n",
        "    genre= 'fantasy'\n",
        "    csv_writer.writerow([name, author, genre, series, description])"
      ]
    },
    {
      "cell_type": "markdown",
      "metadata": {
        "id": "PGoSiyrxBSmH"
      },
      "source": [
        "## How about some Kingkiller Chronicles Characters\n",
        "https://kingkiller.fandom.com/wiki/Category:Characters\n"
      ]
    },
    {
      "cell_type": "code",
      "execution_count": null,
      "metadata": {
        "id": "cMtXGmGsBSmH"
      },
      "outputs": [],
      "source": [
        "source = requests.get('https://kingkiller.fandom.com/wiki/Category:Characters').text\n",
        "\n",
        "\n",
        "# Now it's your turn... try to scrape the character names from the Kingkiller Chronicles \n",
        "\n",
        "\n"
      ]
    },
    {
      "cell_type": "markdown",
      "metadata": {
        "id": "bXtAr0M7BSmH"
      },
      "source": [
        "## Lord of the Rings, Anyone?\n",
        "Yesss, my preciousssss: https://lotr.fandom.com/wiki/Category:The_Lord_of_the_Rings_Characters"
      ]
    },
    {
      "cell_type": "code",
      "execution_count": null,
      "metadata": {
        "id": "Cp02Lbf7BSmI"
      },
      "outputs": [],
      "source": [
        "source = requests.get('https://en.wikipedia.org/wiki/Category:The_Lord_of_the_Rings_characters').text\n",
        "\n",
        "# And try to do Lord of the Rings also\n",
        "\n",
        "\n"
      ]
    },
    {
      "cell_type": "markdown",
      "metadata": {
        "id": "GEmveYEXBSmI"
      },
      "source": [
        "# Annnnddd... let's give that bad boy a download"
      ]
    },
    {
      "cell_type": "code",
      "execution_count": null,
      "metadata": {
        "id": "0Ik6WePsBSmI"
      },
      "outputs": [],
      "source": [
        "csv_file.close()\n",
        "from google.colab import files\n",
        "files.download('fantasy_characters.csv')"
      ]
    },
    {
      "cell_type": "markdown",
      "metadata": {
        "id": "1RcMzJn1BSmI"
      },
      "source": [
        "# Part 2: Fantasy Character Name Generator\n",
        "\n",
        "This code should look very familiar... it's the code from Thursday, but just with a new dataset.\n",
        "\n",
        "[Here's a link to the dataset](https://drive.google.com/file/d/1xcqFHcQ5EU4NjNP0lX6yCR3658_zuMXw/view?usp=sharing ) if you just want to download it:"
      ]
    },
    {
      "cell_type": "code",
      "execution_count": 1,
      "metadata": {
        "colab": {
          "base_uri": "https://localhost:8080/"
        },
        "id": "NQ-5ZOe3BSmI",
        "outputId": "8ee92c4d-84f3-469a-cdf4-6c9624291934"
      },
      "outputs": [
        {
          "output_type": "stream",
          "name": "stdout",
          "text": [
            "Colab only includes TensorFlow 2.x; %tensorflow_version has no effect.\n",
            "\u001b[2K     \u001b[90m━━━━━━━━━━━━━━━━━━━━━━━━━━━━━━━━━━━━━━\u001b[0m \u001b[32m591.0/591.0 kB\u001b[0m \u001b[31m17.7 MB/s\u001b[0m eta \u001b[36m0:00:00\u001b[0m\n",
            "\u001b[2K     \u001b[90m━━━━━━━━━━━━━━━━━━━━━━━━━━━━━━━━━━━━━━━━\u001b[0m \u001b[32m7.0/7.0 MB\u001b[0m \u001b[31m17.9 MB/s\u001b[0m eta \u001b[36m0:00:00\u001b[0m\n",
            "\u001b[2K     \u001b[90m━━━━━━━━━━━━━━━━━━━━━━━━━━━━━━━━━━━━━━\u001b[0m \u001b[32m224.5/224.5 kB\u001b[0m \u001b[31m10.0 MB/s\u001b[0m eta \u001b[36m0:00:00\u001b[0m\n",
            "\u001b[2K     \u001b[90m━━━━━━━━━━━━━━━━━━━━━━━━━━━━━━━━━━━━━━━━\u001b[0m \u001b[32m7.8/7.8 MB\u001b[0m \u001b[31m35.5 MB/s\u001b[0m eta \u001b[36m0:00:00\u001b[0m\n",
            "\u001b[?25h"
          ]
        }
      ],
      "source": [
        "#imports and things\n",
        "# Python ≥3.5 is required\n",
        "import sys\n",
        "assert sys.version_info >= (3, 5)\n",
        "\n",
        "# Scikit-Learn ≥0.20 is required\n",
        "import sklearn\n",
        "assert sklearn.__version__ >= \"0.20\"\n",
        "\n",
        "try:\n",
        "    # %tensorflow_version only exists in Colab.\n",
        "    %tensorflow_version 2.x\n",
        "    !pip install -q -U tensorflow-addons\n",
        "    !pip install -q -U transformers\n",
        "    IS_COLAB = True\n",
        "except Exception:\n",
        "    IS_COLAB = False\n",
        "\n",
        "# TensorFlow ≥2.0 is required\n",
        "import tensorflow as tf\n",
        "from tensorflow import keras\n",
        "assert tf.__version__ >= \"2.0\"\n",
        "\n",
        "if not tf.config.list_physical_devices('GPU'):\n",
        "    print(\"No GPU was detected. LSTMs and CNNs can be very slow without a GPU.\")\n",
        "    if IS_COLAB:\n",
        "        print(\"Go to Runtime > Change runtime and select a GPU hardware accelerator.\")\n",
        "\n",
        "# Common imports\n",
        "import numpy as np\n",
        "import os\n",
        "\n",
        "# to make this notebook's output stable across runs\n",
        "np.random.seed(42)\n",
        "tf.random.set_seed(42)\n",
        "\n",
        "# To plot pretty figures\n",
        "%matplotlib inline\n",
        "import matplotlib as mpl\n",
        "import matplotlib.pyplot as plt\n",
        "mpl.rc('axes', labelsize=14)\n",
        "mpl.rc('xtick', labelsize=12)\n",
        "mpl.rc('ytick', labelsize=12)"
      ]
    },
    {
      "cell_type": "markdown",
      "metadata": {
        "id": "uDC084urBSmJ"
      },
      "source": [
        "# Import the Data\n",
        "Import the data (it's a text file so it's a little bit different than a csv). \n",
        "- Then we get rid of the newlines and replace it with a space.\n",
        "- we then get the vocabulary, and use a tokenizer to convert the text to sequences. "
      ]
    },
    {
      "cell_type": "code",
      "execution_count": 2,
      "metadata": {
        "colab": {
          "base_uri": "https://localhost:8080/"
        },
        "id": "bx-FYtZZBSmJ",
        "outputId": "2c247f9d-4ce5-4a6f-9c96-50f9c2683175"
      },
      "outputs": [
        {
          "output_type": "stream",
          "name": "stdout",
          "text": [
            "Mounted at /content/drive\n"
          ]
        }
      ],
      "source": [
        "from google.colab import drive\n",
        "import pandas as pd\n",
        "from tensorflow import keras\n",
        "drive.mount('/content/drive')\n",
        "#names = pd.read_csv('/content/drive/MyDrive/sanderson_names.txt',  header = None)\n",
        "#names.head()\n",
        "\n",
        "with open('/content/drive/MyDrive/CS167/datasets/sanderson_names.txt') as f:\n",
        "    names = f.read()"
      ]
    },
    {
      "cell_type": "code",
      "execution_count": 3,
      "metadata": {
        "colab": {
          "base_uri": "https://localhost:8080/",
          "height": 36
        },
        "id": "jZJuaqP0BSmJ",
        "outputId": "d322a7fb-f61f-4878-cd21-75fe2ce5e30a"
      },
      "outputs": [
        {
          "output_type": "execute_result",
          "data": {
            "text/plain": [
              "'Aarik Aaron Abaray Abiajan Abigail Reed Abraham Desjardins Abrial Abrobadar Abronai Abry Absence Aci'"
            ],
            "application/vnd.google.colaboratory.intrinsic+json": {
              "type": "string"
            }
          },
          "metadata": {},
          "execution_count": 3
        }
      ],
      "source": [
        "names = names.replace('\\n',\" \")\n",
        "names[:100]"
      ]
    },
    {
      "cell_type": "code",
      "execution_count": 4,
      "metadata": {
        "colab": {
          "base_uri": "https://localhost:8080/",
          "height": 36
        },
        "id": "_3IWkeghBSmJ",
        "outputId": "d59ebc57-804e-45ed-9af1-1f024a597d6b"
      },
      "outputs": [
        {
          "output_type": "execute_result",
          "data": {
            "text/plain": [
              "\" '()-./:abcdefghijklmnopqrstuvwxyz©±√\""
            ],
            "application/vnd.google.colaboratory.intrinsic+json": {
              "type": "string"
            }
          },
          "metadata": {},
          "execution_count": 4
        }
      ],
      "source": [
        "# The vocabulary of our character-level language model looks like this:\n",
        "\"\".join(sorted(set(names.lower())))"
      ]
    },
    {
      "cell_type": "code",
      "execution_count": 5,
      "metadata": {
        "id": "IwzX0YRKBSmJ"
      },
      "outputs": [],
      "source": [
        "# Use Tokenizer to tokenize the Names\n",
        "tokenizer = keras.preprocessing.text.Tokenizer(char_level=True)\n",
        "tokenizer.fit_on_texts(names)"
      ]
    },
    {
      "cell_type": "code",
      "execution_count": 6,
      "metadata": {
        "colab": {
          "base_uri": "https://localhost:8080/"
        },
        "id": "ZUu41nhqBSmK",
        "outputId": "fc2505f6-1d8d-4f0d-ce5f-b22ef0db1dba"
      },
      "outputs": [
        {
          "output_type": "execute_result",
          "data": {
            "text/plain": [
              "[[8, 11, 2, 7, 7, 2, 5]]"
            ]
          },
          "metadata": {},
          "execution_count": 6
        }
      ],
      "source": [
        "# Embed the name 'Shallan' as tokens:\n",
        "tokenizer.texts_to_sequences([\"Shallan\"])"
      ]
    },
    {
      "cell_type": "code",
      "execution_count": 7,
      "metadata": {
        "colab": {
          "base_uri": "https://localhost:8080/"
        },
        "id": "EVNVvIJfBSmK",
        "outputId": "7d065cf5-23f9-494a-eb3a-c50d081f93dc"
      },
      "outputs": [
        {
          "output_type": "execute_result",
          "data": {
            "text/plain": [
              "['s h a l l a n']"
            ]
          },
          "metadata": {},
          "execution_count": 7
        }
      ],
      "source": [
        "# Revert the sequence of tokens back to the word:\n",
        "tokenizer.sequences_to_texts([[8, 11, 2, 7, 7, 2, 5]])"
      ]
    },
    {
      "cell_type": "code",
      "execution_count": 8,
      "metadata": {
        "colab": {
          "base_uri": "https://localhost:8080/"
        },
        "id": "ldDOH55DBSmK",
        "outputId": "3b7536be-0d8a-4665-fbd1-12618f7ea406"
      },
      "outputs": [
        {
          "output_type": "stream",
          "name": "stdout",
          "text": [
            "(32, 100, 37) (32, 100)\n"
          ]
        }
      ],
      "source": [
        "max_id = len(tokenizer.word_index) # number of distinct characters\n",
        "dataset_size = tokenizer.document_count # total number of characters\n",
        "\n",
        "[encoded] = np.array(tokenizer.texts_to_sequences([names])) - 1\n",
        "train_size = dataset_size * 90 // 100\n",
        "dataset = tf.data.Dataset.from_tensor_slices(encoded[:train_size])\n",
        "\n",
        "n_steps = 100\n",
        "window_length = n_steps + 1 # target = input shifted 1 character ahead\n",
        "dataset = dataset.repeat().window(window_length, shift=1, drop_remainder=True)\n",
        "\n",
        "dataset = dataset.flat_map(lambda window: window.batch(window_length))\n",
        "\n",
        "np.random.seed(42)\n",
        "tf.random.set_seed(42)\n",
        "\n",
        "batch_size = 32\n",
        "dataset = dataset.shuffle(10000).batch(batch_size)\n",
        "dataset = dataset.map(lambda windows: (windows[:, :-1], windows[:, 1:]))\n",
        "\n",
        "dataset = dataset.map(\n",
        "    lambda X_batch, Y_batch: (tf.one_hot(X_batch, depth=max_id), Y_batch))\n",
        "\n",
        "dataset = dataset.prefetch(1)\n",
        "\n",
        "\n",
        "for X_batch, Y_batch in dataset.take(1):\n",
        "    print(X_batch.shape, Y_batch.shape)"
      ]
    },
    {
      "cell_type": "markdown",
      "metadata": {
        "id": "AQV8UHBgBSmK"
      },
      "source": [
        "# Build our model\n",
        "Now we build our model. "
      ]
    },
    {
      "cell_type": "code",
      "execution_count": 9,
      "metadata": {
        "colab": {
          "base_uri": "https://localhost:8080/"
        },
        "id": "z2Uu-JlSBSmK",
        "outputId": "7a50f031-0e0e-4849-c504-133668512b15"
      },
      "outputs": [
        {
          "output_type": "stream",
          "name": "stdout",
          "text": [
            "Model: \"sequential\"\n",
            "_________________________________________________________________\n",
            " Layer (type)                Output Shape              Param #   \n",
            "=================================================================\n",
            " gru (GRU)                   (None, None, 64)          19776     \n",
            "                                                                 \n",
            " gru_1 (GRU)                 (None, None, 64)          24960     \n",
            "                                                                 \n",
            " time_distributed (TimeDistr  (None, None, 37)         2405      \n",
            " ibuted)                                                         \n",
            "                                                                 \n",
            "=================================================================\n",
            "Total params: 47,141\n",
            "Trainable params: 47,141\n",
            "Non-trainable params: 0\n",
            "_________________________________________________________________\n",
            "None\n"
          ]
        }
      ],
      "source": [
        "def create_model():\n",
        "  model = keras.models.Sequential([\n",
        "      keras.layers.GRU(64, return_sequences=True, input_shape=[None, max_id],\n",
        "                      dropout=0.2),\n",
        "      keras.layers.GRU(64, return_sequences=True,\n",
        "                      dropout=0.2),\n",
        "      keras.layers.TimeDistributed(keras.layers.Dense(max_id,\n",
        "                                                      activation=\"softmax\"))\n",
        "  ])\n",
        "  return model\n",
        "\n",
        "\n",
        "model = create_model()\n",
        "print(model.summary())"
      ]
    },
    {
      "cell_type": "code",
      "execution_count": 10,
      "metadata": {
        "colab": {
          "base_uri": "https://localhost:8080/"
        },
        "id": "Qnjk61NwBSmK",
        "outputId": "173a5cec-f080-47c6-a214-9696058cf619"
      },
      "outputs": [
        {
          "output_type": "stream",
          "name": "stdout",
          "text": [
            "Epoch 1/10\n",
            "488/492 [============================>.] - ETA: 0s - loss: 2.6640\n",
            "Epoch 1: saving model to training_1/fantasy_name_gen.ckpt\n",
            "492/492 [==============================] - 22s 17ms/step - loss: 2.6619\n",
            "Epoch 2/10\n",
            "489/492 [============================>.] - ETA: 0s - loss: 2.3442\n",
            "Epoch 2: saving model to training_1/fantasy_name_gen.ckpt\n",
            "492/492 [==============================] - 6s 12ms/step - loss: 2.3435\n",
            "Epoch 3/10\n",
            "492/492 [==============================] - ETA: 0s - loss: 2.1587\n",
            "Epoch 3: saving model to training_1/fantasy_name_gen.ckpt\n",
            "492/492 [==============================] - 8s 16ms/step - loss: 2.1587\n",
            "Epoch 4/10\n",
            "491/492 [============================>.] - ETA: 0s - loss: 2.0312\n",
            "Epoch 4: saving model to training_1/fantasy_name_gen.ckpt\n",
            "492/492 [==============================] - 6s 13ms/step - loss: 2.0312\n",
            "Epoch 5/10\n",
            "491/492 [============================>.] - ETA: 0s - loss: 1.9421\n",
            "Epoch 5: saving model to training_1/fantasy_name_gen.ckpt\n",
            "492/492 [==============================] - 7s 14ms/step - loss: 1.9421\n",
            "Epoch 6/10\n",
            "490/492 [============================>.] - ETA: 0s - loss: 1.8729\n",
            "Epoch 6: saving model to training_1/fantasy_name_gen.ckpt\n",
            "492/492 [==============================] - 7s 15ms/step - loss: 1.8727\n",
            "Epoch 7/10\n",
            "490/492 [============================>.] - ETA: 0s - loss: 1.8166\n",
            "Epoch 7: saving model to training_1/fantasy_name_gen.ckpt\n",
            "492/492 [==============================] - 6s 13ms/step - loss: 1.8164\n",
            "Epoch 8/10\n",
            "492/492 [==============================] - ETA: 0s - loss: 1.7715\n",
            "Epoch 8: saving model to training_1/fantasy_name_gen.ckpt\n",
            "492/492 [==============================] - 8s 16ms/step - loss: 1.7715\n",
            "Epoch 9/10\n",
            "489/492 [============================>.] - ETA: 0s - loss: 1.7371\n",
            "Epoch 9: saving model to training_1/fantasy_name_gen.ckpt\n",
            "492/492 [==============================] - 6s 12ms/step - loss: 1.7369\n",
            "Epoch 10/10\n",
            "490/492 [============================>.] - ETA: 0s - loss: 1.7010\n",
            "Epoch 10: saving model to training_1/fantasy_name_gen.ckpt\n",
            "492/492 [==============================] - 8s 17ms/step - loss: 1.7010\n"
          ]
        }
      ],
      "source": [
        "#save our models during training\n",
        "checkpoint_path = \"training_1/fantasy_name_gen.ckpt\"\n",
        "checkpoint_dir = os.path.dirname(checkpoint_path)\n",
        "\n",
        "# Create a callback that saves the model's weights\n",
        "cp_callback = tf.keras.callbacks.ModelCheckpoint(filepath=checkpoint_path,\n",
        "                                                 save_weights_only=True,\n",
        "                                                 verbose=1)\n",
        "\n",
        "# Now let's train our model. Notice the callbacks=[cp_callback], \n",
        "#this will save checkpoints so we can load our model later.\n",
        "model.compile(loss=\"sparse_categorical_crossentropy\", optimizer=\"adam\")\n",
        "history = model.fit(dataset, steps_per_epoch=train_size // batch_size,\n",
        "                    epochs=10,callbacks=[cp_callback])"
      ]
    },
    {
      "cell_type": "markdown",
      "metadata": {
        "id": "MDdfX5l6BSmM"
      },
      "source": [
        "# Let's try it out!"
      ]
    },
    {
      "cell_type": "code",
      "execution_count": 11,
      "metadata": {
        "colab": {
          "base_uri": "https://localhost:8080/",
          "height": 36
        },
        "id": "uBOz4kSfBSmM",
        "outputId": "b5fd87e1-d361-4185-9f08-3d660da115e3"
      },
      "outputs": [
        {
          "output_type": "execute_result",
          "data": {
            "text/plain": [
              "'n'"
            ],
            "application/vnd.google.colaboratory.intrinsic+json": {
              "type": "string"
            }
          },
          "metadata": {},
          "execution_count": 11
        }
      ],
      "source": [
        "def preprocess(texts):\n",
        "    X = np.array(tokenizer.texts_to_sequences(texts)) - 1\n",
        "    return tf.one_hot(X, max_id)\n",
        "\n",
        "# Let's pass in 'Meredi' and see what it predicts the next letter should be according to Sanderson:\n",
        "X_new = preprocess([\"Meredi\"])\n",
        "\n",
        "#this line takes a look at the softmax output and returns the max\n",
        "Y_pred = np.argmax(model(X_new), axis=-1)\n",
        "tokenizer.sequences_to_texts(Y_pred + 1)[0][-1] # 1st sentence, last char"
      ]
    },
    {
      "cell_type": "code",
      "execution_count": 12,
      "metadata": {
        "id": "3cIbZYeIBSmM"
      },
      "outputs": [],
      "source": [
        "def next_char(text, temperature=1):\n",
        "    X_new = preprocess([text])\n",
        "    y_proba = model(X_new)[0, -1:, :]\n",
        "    rescaled_logits = tf.math.log(y_proba) / temperature\n",
        "    char_id = tf.random.categorical(rescaled_logits, num_samples=1) + 1\n",
        "    return tokenizer.sequences_to_texts(char_id.numpy())[0]"
      ]
    },
    {
      "cell_type": "code",
      "execution_count": 13,
      "metadata": {
        "colab": {
          "base_uri": "https://localhost:8080/",
          "height": 36
        },
        "id": "Yo-A3iwiBSmM",
        "outputId": "0ee9f32b-1ce4-4a27-ad2e-2a76559928dc"
      },
      "outputs": [
        {
          "output_type": "execute_result",
          "data": {
            "text/plain": [
              "'s'"
            ],
            "application/vnd.google.colaboratory.intrinsic+json": {
              "type": "string"
            }
          },
          "metadata": {},
          "execution_count": 13
        }
      ],
      "source": [
        "tf.random.set_seed(42)\n",
        "\n",
        "next_char(\"Meredi\", temperature=1)"
      ]
    },
    {
      "cell_type": "code",
      "execution_count": 14,
      "metadata": {
        "id": "k5Od7LIvBSmM"
      },
      "outputs": [],
      "source": [
        "def complete_text(text, n_chars=50, temperature=1):\n",
        "    for _ in range(n_chars):\n",
        "        text += next_char(text, temperature)\n",
        "    return text"
      ]
    },
    {
      "cell_type": "code",
      "execution_count": 15,
      "metadata": {
        "colab": {
          "base_uri": "https://localhost:8080/"
        },
        "id": "mtMfvZTUBSmN",
        "outputId": "5a677d10-0bbf-4196-a755-eeb9ed4573af"
      },
      "outputs": [
        {
          "output_type": "stream",
          "name": "stdout",
          "text": [
            "t joshin joshin jasten jaston jaston jastan jastan \n"
          ]
        }
      ],
      "source": [
        "tf.random.set_seed(42)\n",
        "\n",
        "print(complete_text(\"t\", temperature=0.3))"
      ]
    },
    {
      "cell_type": "code",
      "execution_count": 16,
      "metadata": {
        "colab": {
          "base_uri": "https://localhost:8080/"
        },
        "id": "neVJtypqBSmN",
        "outputId": "e77f3bd5-9e68-49f9-f71c-09823ce1e049"
      },
      "outputs": [
        {
          "output_type": "stream",
          "name": "stdout",
          "text": [
            "tizbbr thmalanathop rine thoret hersram trimet shov\n"
          ]
        }
      ],
      "source": [
        "print(complete_text(\"t\", temperature=1))"
      ]
    },
    {
      "cell_type": "code",
      "execution_count": 17,
      "metadata": {
        "colab": {
          "base_uri": "https://localhost:8080/"
        },
        "id": "-4Igqd46BSmN",
        "outputId": "e74e9cfb-98b4-467f-a8c7-a86e2867f4a7"
      },
      "outputs": [
        {
          "output_type": "stream",
          "name": "stdout",
          "text": [
            "tpari uvu dws.'a 'vurk jiadywxpn qemlliw tmvidannau\n"
          ]
        }
      ],
      "source": [
        "print(complete_text(\"t\", temperature=2))\n"
      ]
    },
    {
      "cell_type": "code",
      "execution_count": 18,
      "metadata": {
        "colab": {
          "base_uri": "https://localhost:8080/",
          "height": 36
        },
        "id": "qcJxtiIRBSmN",
        "outputId": "70566e05-73d6-4195-e70d-bd214b71b214"
      },
      "outputs": [
        {
          "output_type": "execute_result",
          "data": {
            "text/plain": [
              "'Merlist'"
            ],
            "application/vnd.google.colaboratory.intrinsic+json": {
              "type": "string"
            }
          },
          "metadata": {},
          "execution_count": 18
        }
      ],
      "source": [
        "import random\n",
        "new_name = complete_text('mer', 15, temperature=0.75)\n",
        "new_name.split(\" \")[0].title()"
      ]
    },
    {
      "cell_type": "markdown",
      "metadata": {
        "id": "gLCnvonIBSmN"
      },
      "source": [
        "# Let's try loading our model"
      ]
    },
    {
      "cell_type": "code",
      "execution_count": 19,
      "metadata": {
        "colab": {
          "base_uri": "https://localhost:8080/"
        },
        "id": "tESWSwwNBSmN",
        "outputId": "42de635d-32bf-45aa-ae6d-6cfcf5034d3d"
      },
      "outputs": [
        {
          "output_type": "stream",
          "name": "stdout",
          "text": [
            "Looking in indexes: https://pypi.org/simple, https://us-python.pkg.dev/colab-wheels/public/simple/\n",
            "Requirement already satisfied: pyyaml in /usr/local/lib/python3.10/dist-packages (6.0)\n",
            "Requirement already satisfied: h5py in /usr/local/lib/python3.10/dist-packages (3.8.0)\n",
            "Requirement already satisfied: numpy>=1.14.5 in /usr/local/lib/python3.10/dist-packages (from h5py) (1.22.4)\n"
          ]
        }
      ],
      "source": [
        "!pip install pyyaml h5py"
      ]
    },
    {
      "cell_type": "code",
      "execution_count": 20,
      "metadata": {
        "colab": {
          "base_uri": "https://localhost:8080/"
        },
        "id": "jVV7rl4KBSmN",
        "outputId": "dc7acae1-e369-4cb3-a219-bf812a4d2be8"
      },
      "outputs": [
        {
          "output_type": "execute_result",
          "data": {
            "text/plain": [
              "['fantasy_name_gen.ckpt.index',\n",
              " 'checkpoint',\n",
              " 'fantasy_name_gen.ckpt.data-00000-of-00001']"
            ]
          },
          "metadata": {},
          "execution_count": 20
        }
      ],
      "source": [
        "os.listdir(checkpoint_dir)"
      ]
    },
    {
      "cell_type": "code",
      "execution_count": 21,
      "metadata": {
        "colab": {
          "base_uri": "https://localhost:8080/",
          "height": 36
        },
        "id": "c-dUkw37BSmO",
        "outputId": "244ea7b9-1e66-4e85-f844-eb173c5d51a7"
      },
      "outputs": [
        {
          "output_type": "execute_result",
          "data": {
            "text/plain": [
              "'training_1/fantasy_name_gen.ckpt'"
            ],
            "application/vnd.google.colaboratory.intrinsic+json": {
              "type": "string"
            }
          },
          "metadata": {},
          "execution_count": 21
        }
      ],
      "source": [
        "latest = tf.train.latest_checkpoint(checkpoint_dir)\n",
        "latest"
      ]
    },
    {
      "cell_type": "code",
      "execution_count": 22,
      "metadata": {
        "colab": {
          "base_uri": "https://localhost:8080/"
        },
        "id": "GfPt80oKBSmO",
        "outputId": "48af0331-5b21-4f65-8d08-6afa5e3e372a"
      },
      "outputs": [
        {
          "output_type": "stream",
          "name": "stdout",
          "text": [
            "t molin morash mores moresh mord moreth mord morden\n"
          ]
        }
      ],
      "source": [
        "# disable warnings becuase we live dangerously:\n",
        "import os\n",
        "os.environ['TF_CPP_MIN_LOG_LEVEL'] = '3' \n",
        "\n",
        "# Create a new model instance\n",
        "model = create_model()\n",
        "\n",
        "# Load the previously saved weights\n",
        "model.load_weights(latest)\n",
        "\n",
        "print(complete_text(\"t\", temperature=0.25))"
      ]
    },
    {
      "cell_type": "code",
      "source": [],
      "metadata": {
        "id": "s7soNUXKD_pW"
      },
      "execution_count": null,
      "outputs": []
    }
  ],
  "metadata": {
    "celltoolbar": "Slideshow",
    "kernelspec": {
      "display_name": "Python 3",
      "language": "python",
      "name": "python3"
    },
    "language_info": {
      "codemirror_mode": {
        "name": "ipython",
        "version": 3
      },
      "file_extension": ".py",
      "mimetype": "text/x-python",
      "name": "python",
      "nbconvert_exporter": "python",
      "pygments_lexer": "ipython3",
      "version": "3.6.12"
    },
    "colab": {
      "provenance": [],
      "gpuType": "T4",
      "include_colab_link": true
    },
    "accelerator": "GPU",
    "gpuClass": "standard"
  },
  "nbformat": 4,
  "nbformat_minor": 0
}